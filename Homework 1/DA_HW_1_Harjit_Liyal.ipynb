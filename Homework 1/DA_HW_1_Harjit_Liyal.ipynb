{
 "cells": [
  {
   "cell_type": "markdown",
   "metadata": {},
   "source": [
    "## HomeWork 1 Due at Mid-night 3/10/2021"
   ]
  },
  {
   "cell_type": "markdown",
   "metadata": {},
   "source": [
    "### This homework is on Exploratory Data Analysis and will cover the following skills set\n",
    "* Using sql \n",
    "* Checking for null values and outliers\n",
    "* Calculate simple statistics using both SQL and Pandas \n",
    "* Calculate skew and correlation\n",
    "* Basic Data Visualization\n",
    "* How to fix missing values"
   ]
  },
  {
   "cell_type": "markdown",
   "metadata": {},
   "source": [
    "## Late Policy: Take off 50% after one day, 80% after two days"
   ]
  },
  {
   "cell_type": "markdown",
   "metadata": {},
   "source": [
    "**Make sure you have pandasql installed. If not, make sure you run the code in the following cell**"
   ]
  },
  {
   "cell_type": "code",
   "execution_count": 1,
   "metadata": {},
   "outputs": [],
   "source": [
    "import os\n",
    "try:\n",
    "    import pandasql as ps\n",
    "except:\n",
    "    print(\"Failed in import pandasql\")\n",
    "    os.system(\"pip install pandasql\")"
   ]
  },
  {
   "cell_type": "markdown",
   "metadata": {},
   "source": [
    "**Import all standard libaries**"
   ]
  },
  {
   "cell_type": "code",
   "execution_count": 2,
   "metadata": {},
   "outputs": [],
   "source": [
    "import pandas as pd\n",
    "import pandasql as ps\n",
    "import numpy as np\n",
    "import matplotlib.pyplot as plt\n",
    "import seaborn as sns"
   ]
  },
  {
   "cell_type": "markdown",
   "metadata": {},
   "source": [
    "## Loading Professor Salaries dataset ##"
   ]
  },
  {
   "cell_type": "code",
   "execution_count": 3,
   "metadata": {},
   "outputs": [
    {
     "name": "stdout",
     "output_type": "stream",
     "text": [
      "(401, 6)\n"
     ]
    },
    {
     "data": {
      "text/html": [
       "<div>\n",
       "<style scoped>\n",
       "    .dataframe tbody tr th:only-of-type {\n",
       "        vertical-align: middle;\n",
       "    }\n",
       "\n",
       "    .dataframe tbody tr th {\n",
       "        vertical-align: top;\n",
       "    }\n",
       "\n",
       "    .dataframe thead th {\n",
       "        text-align: right;\n",
       "    }\n",
       "</style>\n",
       "<table border=\"1\" class=\"dataframe\">\n",
       "  <thead>\n",
       "    <tr style=\"text-align: right;\">\n",
       "      <th></th>\n",
       "      <th>Rank</th>\n",
       "      <th>Discipline</th>\n",
       "      <th>YrsSincePhd</th>\n",
       "      <th>YrsOfService</th>\n",
       "      <th>Sex</th>\n",
       "      <th>Salary</th>\n",
       "    </tr>\n",
       "  </thead>\n",
       "  <tbody>\n",
       "    <tr>\n",
       "      <th>0</th>\n",
       "      <td>Prof</td>\n",
       "      <td>B</td>\n",
       "      <td>19.0</td>\n",
       "      <td>18</td>\n",
       "      <td>Male</td>\n",
       "      <td>139750</td>\n",
       "    </tr>\n",
       "    <tr>\n",
       "      <th>1</th>\n",
       "      <td>Prof</td>\n",
       "      <td>B</td>\n",
       "      <td>20.0</td>\n",
       "      <td>16</td>\n",
       "      <td>Male</td>\n",
       "      <td>173200</td>\n",
       "    </tr>\n",
       "    <tr>\n",
       "      <th>2</th>\n",
       "      <td>AsstProf</td>\n",
       "      <td>B</td>\n",
       "      <td>4.0</td>\n",
       "      <td>3</td>\n",
       "      <td>Male</td>\n",
       "      <td>79750</td>\n",
       "    </tr>\n",
       "    <tr>\n",
       "      <th>3</th>\n",
       "      <td>Prof</td>\n",
       "      <td>B</td>\n",
       "      <td>45.0</td>\n",
       "      <td>39</td>\n",
       "      <td>Male</td>\n",
       "      <td>115000</td>\n",
       "    </tr>\n",
       "    <tr>\n",
       "      <th>4</th>\n",
       "      <td>Prof</td>\n",
       "      <td>B</td>\n",
       "      <td>40.0</td>\n",
       "      <td>41</td>\n",
       "      <td>Male</td>\n",
       "      <td>141500</td>\n",
       "    </tr>\n",
       "  </tbody>\n",
       "</table>\n",
       "</div>"
      ],
      "text/plain": [
       "       Rank Discipline  YrsSincePhd  YrsOfService   Sex  Salary\n",
       "0      Prof          B         19.0            18  Male  139750\n",
       "1      Prof          B         20.0            16  Male  173200\n",
       "2  AsstProf          B          4.0             3  Male   79750\n",
       "3      Prof          B         45.0            39  Male  115000\n",
       "4      Prof          B         40.0            41  Male  141500"
      ]
     },
     "execution_count": 3,
     "metadata": {},
     "output_type": "execute_result"
    }
   ],
   "source": [
    "df = pd.read_csv(\"Salaries1.csv\")\n",
    "print(df.shape)\n",
    "df.head()"
   ]
  },
  {
   "cell_type": "code",
   "execution_count": 4,
   "metadata": {},
   "outputs": [
    {
     "data": {
      "text/html": [
       "<div>\n",
       "<style scoped>\n",
       "    .dataframe tbody tr th:only-of-type {\n",
       "        vertical-align: middle;\n",
       "    }\n",
       "\n",
       "    .dataframe tbody tr th {\n",
       "        vertical-align: top;\n",
       "    }\n",
       "\n",
       "    .dataframe thead th {\n",
       "        text-align: right;\n",
       "    }\n",
       "</style>\n",
       "<table border=\"1\" class=\"dataframe\">\n",
       "  <thead>\n",
       "    <tr style=\"text-align: right;\">\n",
       "      <th></th>\n",
       "      <th>Rank</th>\n",
       "      <th>Discipline</th>\n",
       "      <th>YrsSincePhd</th>\n",
       "      <th>YrsOfService</th>\n",
       "      <th>Sex</th>\n",
       "      <th>Salary</th>\n",
       "    </tr>\n",
       "  </thead>\n",
       "  <tbody>\n",
       "    <tr>\n",
       "      <th>396</th>\n",
       "      <td>Prof</td>\n",
       "      <td>A</td>\n",
       "      <td>33.0</td>\n",
       "      <td>30</td>\n",
       "      <td>Male</td>\n",
       "      <td>103106</td>\n",
       "    </tr>\n",
       "    <tr>\n",
       "      <th>397</th>\n",
       "      <td>Prof</td>\n",
       "      <td>A</td>\n",
       "      <td>31.0</td>\n",
       "      <td>19</td>\n",
       "      <td>Male</td>\n",
       "      <td>150564</td>\n",
       "    </tr>\n",
       "    <tr>\n",
       "      <th>398</th>\n",
       "      <td>Prof</td>\n",
       "      <td>A</td>\n",
       "      <td>42.0</td>\n",
       "      <td>25</td>\n",
       "      <td>Male</td>\n",
       "      <td>101738</td>\n",
       "    </tr>\n",
       "    <tr>\n",
       "      <th>399</th>\n",
       "      <td>Prof</td>\n",
       "      <td>A</td>\n",
       "      <td>25.0</td>\n",
       "      <td>15</td>\n",
       "      <td>Male</td>\n",
       "      <td>95329</td>\n",
       "    </tr>\n",
       "    <tr>\n",
       "      <th>400</th>\n",
       "      <td>AsstProf</td>\n",
       "      <td>A</td>\n",
       "      <td>8.0</td>\n",
       "      <td>4</td>\n",
       "      <td>Male</td>\n",
       "      <td>81035</td>\n",
       "    </tr>\n",
       "  </tbody>\n",
       "</table>\n",
       "</div>"
      ],
      "text/plain": [
       "         Rank Discipline  YrsSincePhd  YrsOfService   Sex  Salary\n",
       "396      Prof          A         33.0            30  Male  103106\n",
       "397      Prof          A         31.0            19  Male  150564\n",
       "398      Prof          A         42.0            25  Male  101738\n",
       "399      Prof          A         25.0            15  Male   95329\n",
       "400  AsstProf          A          8.0             4  Male   81035"
      ]
     },
     "execution_count": 4,
     "metadata": {},
     "output_type": "execute_result"
    }
   ],
   "source": [
    "df.tail()"
   ]
  },
  {
   "cell_type": "code",
   "execution_count": 5,
   "metadata": {},
   "outputs": [
    {
     "data": {
      "text/plain": [
       "array(['B', 'A'], dtype=object)"
      ]
     },
     "execution_count": 5,
     "metadata": {},
     "output_type": "execute_result"
    }
   ],
   "source": [
    "df.Discipline.unique()"
   ]
  },
  {
   "cell_type": "code",
   "execution_count": 6,
   "metadata": {},
   "outputs": [
    {
     "data": {
      "text/plain": [
       "array(['Prof', 'AsstProf', 'AssocProf'], dtype=object)"
      ]
     },
     "execution_count": 6,
     "metadata": {},
     "output_type": "execute_result"
    }
   ],
   "source": [
    "df.Rank.unique()"
   ]
  },
  {
   "cell_type": "markdown",
   "metadata": {},
   "source": [
    "## Question 1. Check if there are any nulls or NA's."
   ]
  },
  {
   "cell_type": "code",
   "execution_count": 7,
   "metadata": {},
   "outputs": [
    {
     "data": {
      "text/plain": [
       "Rank            False\n",
       "Discipline      False\n",
       "YrsSincePhd      True\n",
       "YrsOfService    False\n",
       "Sex              True\n",
       "Salary          False\n",
       "dtype: bool"
      ]
     },
     "execution_count": 7,
     "metadata": {},
     "output_type": "execute_result"
    }
   ],
   "source": [
    "df.isnull().any()"
   ]
  },
  {
   "cell_type": "markdown",
   "metadata": {},
   "source": [
    "## Question 2. Remove any rows that have nulls or NA's."
   ]
  },
  {
   "cell_type": "code",
   "execution_count": 8,
   "metadata": {},
   "outputs": [],
   "source": [
    "df.isnull().any()\n",
    "df = df.dropna()"
   ]
  },
  {
   "cell_type": "markdown",
   "metadata": {},
   "source": [
    "## Question 3. Check if there are any outliers in all numerical fields using scatter plots and boxplots."
   ]
  },
  {
   "cell_type": "code",
   "execution_count": 9,
   "metadata": {},
   "outputs": [
    {
     "data": {
      "text/plain": [
       "<AxesSubplot:xlabel='YrsOfService', ylabel='Salary'>"
      ]
     },
     "execution_count": 9,
     "metadata": {},
     "output_type": "execute_result"
    },
    {
     "data": {
      "image/png": "[encoded data removed]",
      "text/plain": [
       "<Figure size 360x360 with 1 Axes>"
      ]
     },
     "metadata": {
      "needs_background": "light"
     },
     "output_type": "display_data"
    },
    {
     "data": {
      "image/png": "[encoded data removed]",
      "text/plain": [
       "<Figure size 360x360 with 1 Axes>"
      ]
     },
     "metadata": {
      "needs_background": "light"
     },
     "output_type": "display_data"
    }
   ],
   "source": [
    "box = df.boxplot(figsize = (5,5))\n",
    "df.plot.scatter(x = 'YrsOfService', y = 'Salary' , c = 'red' , figsize = (5,5))\n",
    "# plt.show()"
   ]
  },
  {
   "cell_type": "markdown",
   "metadata": {},
   "source": [
    "## Question 4. Display and remove the outlier rows. "
   ]
  },
  {
   "cell_type": "code",
   "execution_count": 10,
   "metadata": {},
   "outputs": [
    {
     "data": {
      "text/plain": [
       "<AxesSubplot:xlabel='YrsOfService', ylabel='Salary'>"
      ]
     },
     "execution_count": 10,
     "metadata": {},
     "output_type": "execute_result"
    },
    {
     "data": {
      "image/png": "[encoded data removed]",
      "text/plain": [
       "<Figure size 360x360 with 1 Axes>"
      ]
     },
     "metadata": {
      "needs_background": "light"
     },
     "output_type": "display_data"
    }
   ],
   "source": [
    "first = df['Salary'] < 1 * 10 ** 6\n",
    "second = df['YrsOfService'] < 75\n",
    "cleanedDf = df.dropna()\n",
    "# df = cleanedDf\n",
    "cleanedDf = cleanedDf.dropna()\n",
    "cleanedDf[first & second].plot.scatter(x = 'YrsOfService', y = 'Salary' , c = 'red' , figsize = (5,5))\n"
   ]
  },
  {
   "cell_type": "markdown",
   "metadata": {},
   "source": [
    "## Question 5. Calculate the average years of service for each rank using SQL. Then, Calculate the average years of service for each sex using SQL."
   ]
  },
  {
   "cell_type": "code",
   "execution_count": 11,
   "metadata": {},
   "outputs": [
    {
     "data": {
      "text/html": [
       "<div>\n",
       "<style scoped>\n",
       "    .dataframe tbody tr th:only-of-type {\n",
       "        vertical-align: middle;\n",
       "    }\n",
       "\n",
       "    .dataframe tbody tr th {\n",
       "        vertical-align: top;\n",
       "    }\n",
       "\n",
       "    .dataframe thead th {\n",
       "        text-align: right;\n",
       "    }\n",
       "</style>\n",
       "<table border=\"1\" class=\"dataframe\">\n",
       "  <thead>\n",
       "    <tr style=\"text-align: right;\">\n",
       "      <th></th>\n",
       "      <th>Rank</th>\n",
       "      <th>avg(YrsOfService)</th>\n",
       "    </tr>\n",
       "  </thead>\n",
       "  <tbody>\n",
       "    <tr>\n",
       "      <th>0</th>\n",
       "      <td>AssocProf</td>\n",
       "      <td>11.861538</td>\n",
       "    </tr>\n",
       "    <tr>\n",
       "      <th>1</th>\n",
       "      <td>AsstProf</td>\n",
       "      <td>2.373134</td>\n",
       "    </tr>\n",
       "    <tr>\n",
       "      <th>2</th>\n",
       "      <td>Prof</td>\n",
       "      <td>23.097378</td>\n",
       "    </tr>\n",
       "  </tbody>\n",
       "</table>\n",
       "</div>"
      ],
      "text/plain": [
       "        Rank  avg(YrsOfService)\n",
       "0  AssocProf          11.861538\n",
       "1   AsstProf           2.373134\n",
       "2       Prof          23.097378"
      ]
     },
     "execution_count": 11,
     "metadata": {},
     "output_type": "execute_result"
    }
   ],
   "source": [
    "firstAns = \"SELECT Rank, avg(YrsOfService) from df GROUP BY Rank\"\n",
    "firstQuery = ps.sqldf(firstAns)\n",
    "firstQuery"
   ]
  },
  {
   "cell_type": "code",
   "execution_count": 12,
   "metadata": {},
   "outputs": [
    {
     "data": {
      "text/html": [
       "<div>\n",
       "<style scoped>\n",
       "    .dataframe tbody tr th:only-of-type {\n",
       "        vertical-align: middle;\n",
       "    }\n",
       "\n",
       "    .dataframe tbody tr th {\n",
       "        vertical-align: top;\n",
       "    }\n",
       "\n",
       "    .dataframe thead th {\n",
       "        text-align: right;\n",
       "    }\n",
       "</style>\n",
       "<table border=\"1\" class=\"dataframe\">\n",
       "  <thead>\n",
       "    <tr style=\"text-align: right;\">\n",
       "      <th></th>\n",
       "      <th>Sex</th>\n",
       "      <th>avg(YrsOfService)</th>\n",
       "    </tr>\n",
       "  </thead>\n",
       "  <tbody>\n",
       "    <tr>\n",
       "      <th>0</th>\n",
       "      <td>Female</td>\n",
       "      <td>11.564103</td>\n",
       "    </tr>\n",
       "    <tr>\n",
       "      <th>1</th>\n",
       "      <td>Male</td>\n",
       "      <td>18.461111</td>\n",
       "    </tr>\n",
       "  </tbody>\n",
       "</table>\n",
       "</div>"
      ],
      "text/plain": [
       "      Sex  avg(YrsOfService)\n",
       "0  Female          11.564103\n",
       "1    Male          18.461111"
      ]
     },
     "execution_count": 12,
     "metadata": {},
     "output_type": "execute_result"
    }
   ],
   "source": [
    "secondAns = \"SELECT Sex, avg(YrsOfService) from df WHERE Sex != 'None' GROUP BY Sex\"\n",
    "secondQuery = ps.sqldf(secondAns)\n",
    "secondQuery"
   ]
  },
  {
   "cell_type": "markdown",
   "metadata": {},
   "source": [
    "## Question 6. Calculate the average salary by discipline using SQL. Then, calculate the average salary by sex using SQL."
   ]
  },
  {
   "cell_type": "code",
   "execution_count": 13,
   "metadata": {},
   "outputs": [
    {
     "data": {
      "text/html": [
       "<div>\n",
       "<style scoped>\n",
       "    .dataframe tbody tr th:only-of-type {\n",
       "        vertical-align: middle;\n",
       "    }\n",
       "\n",
       "    .dataframe tbody tr th {\n",
       "        vertical-align: top;\n",
       "    }\n",
       "\n",
       "    .dataframe thead th {\n",
       "        text-align: right;\n",
       "    }\n",
       "</style>\n",
       "<table border=\"1\" class=\"dataframe\">\n",
       "  <thead>\n",
       "    <tr style=\"text-align: right;\">\n",
       "      <th></th>\n",
       "      <th>avg(salary)</th>\n",
       "      <th>Discipline</th>\n",
       "    </tr>\n",
       "  </thead>\n",
       "  <tbody>\n",
       "    <tr>\n",
       "      <th>0</th>\n",
       "      <td>108548.430939</td>\n",
       "      <td>A</td>\n",
       "    </tr>\n",
       "    <tr>\n",
       "      <th>1</th>\n",
       "      <td>122350.100917</td>\n",
       "      <td>B</td>\n",
       "    </tr>\n",
       "  </tbody>\n",
       "</table>\n",
       "</div>"
      ],
      "text/plain": [
       "     avg(salary) Discipline\n",
       "0  108548.430939          A\n",
       "1  122350.100917          B"
      ]
     },
     "execution_count": 13,
     "metadata": {},
     "output_type": "execute_result"
    }
   ],
   "source": [
    "firstAns = \"SELECT avg(salary), discipline from df GROUP BY discipline\"\n",
    "firstQuery = ps.sqldf(firstAns)\n",
    "firstQuery"
   ]
  },
  {
   "cell_type": "code",
   "execution_count": 14,
   "metadata": {},
   "outputs": [
    {
     "data": {
      "text/html": [
       "<div>\n",
       "<style scoped>\n",
       "    .dataframe tbody tr th:only-of-type {\n",
       "        vertical-align: middle;\n",
       "    }\n",
       "\n",
       "    .dataframe tbody tr th {\n",
       "        vertical-align: top;\n",
       "    }\n",
       "\n",
       "    .dataframe thead th {\n",
       "        text-align: right;\n",
       "    }\n",
       "</style>\n",
       "<table border=\"1\" class=\"dataframe\">\n",
       "  <thead>\n",
       "    <tr style=\"text-align: right;\">\n",
       "      <th></th>\n",
       "      <th>Sex</th>\n",
       "      <th>avg(YrsOfService)</th>\n",
       "    </tr>\n",
       "  </thead>\n",
       "  <tbody>\n",
       "    <tr>\n",
       "      <th>0</th>\n",
       "      <td>Female</td>\n",
       "      <td>11.564103</td>\n",
       "    </tr>\n",
       "    <tr>\n",
       "      <th>1</th>\n",
       "      <td>Male</td>\n",
       "      <td>18.461111</td>\n",
       "    </tr>\n",
       "  </tbody>\n",
       "</table>\n",
       "</div>"
      ],
      "text/plain": [
       "      Sex  avg(YrsOfService)\n",
       "0  Female          11.564103\n",
       "1    Male          18.461111"
      ]
     },
     "execution_count": 14,
     "metadata": {},
     "output_type": "execute_result"
    }
   ],
   "source": [
    "secondAns = \"SELECT avg(salary) , Sex from df GROUP BY Sex\"\n",
    "firstQuery = ps.sqldf(secondAns)\n",
    "secondQuery\n"
   ]
  },
  {
   "cell_type": "markdown",
   "metadata": {},
   "source": [
    "## Question 7. For each rank, calculate the number of occurences, the mean salary, the minimum salary, and the maximum salary using one SQL statement."
   ]
  },
  {
   "cell_type": "code",
   "execution_count": 15,
   "metadata": {},
   "outputs": [
    {
     "data": {
      "text/html": [
       "<div>\n",
       "<style scoped>\n",
       "    .dataframe tbody tr th:only-of-type {\n",
       "        vertical-align: middle;\n",
       "    }\n",
       "\n",
       "    .dataframe tbody tr th {\n",
       "        vertical-align: top;\n",
       "    }\n",
       "\n",
       "    .dataframe thead th {\n",
       "        text-align: right;\n",
       "    }\n",
       "</style>\n",
       "<table border=\"1\" class=\"dataframe\">\n",
       "  <thead>\n",
       "    <tr style=\"text-align: right;\">\n",
       "      <th></th>\n",
       "      <th>Rank</th>\n",
       "      <th>Salary</th>\n",
       "      <th>Number of Occurences</th>\n",
       "      <th>avg(Salary)</th>\n",
       "      <th>min(Salary)</th>\n",
       "      <th>max(Salary)</th>\n",
       "    </tr>\n",
       "  </thead>\n",
       "  <tbody>\n",
       "    <tr>\n",
       "      <th>0</th>\n",
       "      <td>AssocProf</td>\n",
       "      <td>1012100</td>\n",
       "      <td>65</td>\n",
       "      <td>108002.953846</td>\n",
       "      <td>62884</td>\n",
       "      <td>1012100</td>\n",
       "    </tr>\n",
       "    <tr>\n",
       "      <th>1</th>\n",
       "      <td>AsstProf</td>\n",
       "      <td>97032</td>\n",
       "      <td>67</td>\n",
       "      <td>80775.985075</td>\n",
       "      <td>63100</td>\n",
       "      <td>97032</td>\n",
       "    </tr>\n",
       "    <tr>\n",
       "      <th>2</th>\n",
       "      <td>Prof</td>\n",
       "      <td>231545</td>\n",
       "      <td>267</td>\n",
       "      <td>126919.119850</td>\n",
       "      <td>57800</td>\n",
       "      <td>231545</td>\n",
       "    </tr>\n",
       "  </tbody>\n",
       "</table>\n",
       "</div>"
      ],
      "text/plain": [
       "        Rank   Salary  Number of Occurences    avg(Salary)  min(Salary)  \\\n",
       "0  AssocProf  1012100                    65  108002.953846        62884   \n",
       "1   AsstProf    97032                    67   80775.985075        63100   \n",
       "2       Prof   231545                   267  126919.119850        57800   \n",
       "\n",
       "   max(Salary)  \n",
       "0      1012100  \n",
       "1        97032  \n",
       "2       231545  "
      ]
     },
     "execution_count": 15,
     "metadata": {},
     "output_type": "execute_result"
    }
   ],
   "source": [
    "firstAns = \"SELECT Rank, Salary, count(*) as [Number of Occurences], avg(Salary), min(Salary), max(Salary) from cleanedDf GROUP BY Rank\"\n",
    "firstQuery = ps.sqldf(firstAns)\n",
    "firstQuery"
   ]
  },
  {
   "cell_type": "markdown",
   "metadata": {},
   "source": [
    "## Question 8. Answer Question 7 using Pandas functions"
   ]
  },
  {
   "cell_type": "code",
   "execution_count": 16,
   "metadata": {},
   "outputs": [
    {
     "data": {
      "text/html": [
       "<div>\n",
       "<style scoped>\n",
       "    .dataframe tbody tr th:only-of-type {\n",
       "        vertical-align: middle;\n",
       "    }\n",
       "\n",
       "    .dataframe tbody tr th {\n",
       "        vertical-align: top;\n",
       "    }\n",
       "\n",
       "    .dataframe thead th {\n",
       "        text-align: right;\n",
       "    }\n",
       "</style>\n",
       "<table border=\"1\" class=\"dataframe\">\n",
       "  <thead>\n",
       "    <tr style=\"text-align: right;\">\n",
       "      <th></th>\n",
       "      <th>count</th>\n",
       "      <th>mean</th>\n",
       "      <th>min</th>\n",
       "      <th>max</th>\n",
       "    </tr>\n",
       "    <tr>\n",
       "      <th>Rank</th>\n",
       "      <th></th>\n",
       "      <th></th>\n",
       "      <th></th>\n",
       "      <th></th>\n",
       "    </tr>\n",
       "  </thead>\n",
       "  <tbody>\n",
       "    <tr>\n",
       "      <th>AssocProf</th>\n",
       "      <td>65.0</td>\n",
       "      <td>108002.953846</td>\n",
       "      <td>62884.0</td>\n",
       "      <td>1012100.0</td>\n",
       "    </tr>\n",
       "    <tr>\n",
       "      <th>AsstProf</th>\n",
       "      <td>67.0</td>\n",
       "      <td>80775.985075</td>\n",
       "      <td>63100.0</td>\n",
       "      <td>97032.0</td>\n",
       "    </tr>\n",
       "    <tr>\n",
       "      <th>Prof</th>\n",
       "      <td>267.0</td>\n",
       "      <td>126919.119850</td>\n",
       "      <td>57800.0</td>\n",
       "      <td>231545.0</td>\n",
       "    </tr>\n",
       "  </tbody>\n",
       "</table>\n",
       "</div>"
      ],
      "text/plain": [
       "           count           mean      min        max\n",
       "Rank                                               \n",
       "AssocProf   65.0  108002.953846  62884.0  1012100.0\n",
       "AsstProf    67.0   80775.985075  63100.0    97032.0\n",
       "Prof       267.0  126919.119850  57800.0   231545.0"
      ]
     },
     "execution_count": 16,
     "metadata": {},
     "output_type": "execute_result"
    }
   ],
   "source": [
    "df.groupby(\"Rank\")[\"Salary\"].describe()[['count', 'mean', 'min', 'max']]"
   ]
  },
  {
   "cell_type": "markdown",
   "metadata": {},
   "source": [
    "## Question 9. Calculate the standard deviation, skew and kurtosis for YrsSincePhd, YrsOfService and salary for each rank."
   ]
  },
  {
   "cell_type": "code",
   "execution_count": 17,
   "metadata": {},
   "outputs": [],
   "source": [
    "rankdf = df.groupby(['Rank'])\n",
    "yearsSincePhd = rankdf['YrsSincePhd']\n",
    "yearsOfService = rankdf['YrsOfService']\n",
    "salary = rankdf['Salary']\n"
   ]
  },
  {
   "cell_type": "code",
   "execution_count": 18,
   "metadata": {},
   "outputs": [
    {
     "data": {
      "text/plain": [
       "Rank\n",
       "AssocProf     9.621390\n",
       "AsstProf      2.541381\n",
       "Prof         10.107256\n",
       "Name: YrsSincePhd, dtype: float64"
      ]
     },
     "execution_count": 18,
     "metadata": {},
     "output_type": "execute_result"
    }
   ],
   "source": [
    "yearsSincePhd.std()"
   ]
  },
  {
   "cell_type": "code",
   "execution_count": 19,
   "metadata": {},
   "outputs": [
    {
     "data": {
      "text/plain": [
       "Rank\n",
       "AssocProf    10.048129\n",
       "AsstProf      1.495811\n",
       "Prof         12.450121\n",
       "Name: YrsOfService, dtype: float64"
      ]
     },
     "execution_count": 19,
     "metadata": {},
     "output_type": "execute_result"
    }
   ],
   "source": [
    "yearsOfService.std()"
   ]
  },
  {
   "cell_type": "code",
   "execution_count": 20,
   "metadata": {},
   "outputs": [
    {
     "data": {
      "text/plain": [
       "Rank\n",
       "AssocProf    114715.416463\n",
       "AsstProf       8174.112637\n",
       "Prof          27770.613192\n",
       "Name: Salary, dtype: float64"
      ]
     },
     "execution_count": 20,
     "metadata": {},
     "output_type": "execute_result"
    }
   ],
   "source": [
    "salary.std()"
   ]
  },
  {
   "cell_type": "code",
   "execution_count": 21,
   "metadata": {},
   "outputs": [
    {
     "data": {
      "text/plain": [
       "Rank\n",
       "AssocProf    2.154587\n",
       "AsstProf     0.524578\n",
       "Prof         0.350047\n",
       "Name: YrsSincePhd, dtype: float64"
      ]
     },
     "execution_count": 21,
     "metadata": {},
     "output_type": "execute_result"
    }
   ],
   "source": [
    "yearsSincePhd.skew()"
   ]
  },
  {
   "cell_type": "code",
   "execution_count": 22,
   "metadata": {},
   "outputs": [
    {
     "data": {
      "text/plain": [
       "Rank\n",
       "AssocProf    2.444009\n",
       "AsstProf    -0.026995\n",
       "Prof         1.126002\n",
       "Name: YrsOfService, dtype: float64"
      ]
     },
     "execution_count": 22,
     "metadata": {},
     "output_type": "execute_result"
    }
   ],
   "source": [
    "yearsOfService.skew()"
   ]
  },
  {
   "cell_type": "code",
   "execution_count": 23,
   "metadata": {},
   "outputs": [
    {
     "data": {
      "text/plain": [
       "Rank\n",
       "AssocProf    7.884208\n",
       "AsstProf     0.082975\n",
       "Prof         0.579175\n",
       "Name: Salary, dtype: float64"
      ]
     },
     "execution_count": 23,
     "metadata": {},
     "output_type": "execute_result"
    }
   ],
   "source": [
    "salary.skew()"
   ]
  },
  {
   "cell_type": "code",
   "execution_count": 24,
   "metadata": {},
   "outputs": [
    {
     "data": {
      "text/plain": [
       "Rank\n",
       "AssocProf    4.498964\n",
       "AsstProf    -0.358052\n",
       "Prof        -0.628736\n",
       "Name: YrsSincePhd, dtype: float64"
      ]
     },
     "execution_count": 24,
     "metadata": {},
     "output_type": "execute_result"
    }
   ],
   "source": [
    "yearsSincePhd.apply(pd.DataFrame.kurtosis)"
   ]
  },
  {
   "cell_type": "code",
   "execution_count": 25,
   "metadata": {},
   "outputs": [
    {
     "data": {
      "text/plain": [
       "Rank\n",
       "AssocProf    6.482293\n",
       "AsstProf    -0.658746\n",
       "Prof         4.074451\n",
       "Name: YrsOfService, dtype: float64"
      ]
     },
     "execution_count": 25,
     "metadata": {},
     "output_type": "execute_result"
    }
   ],
   "source": [
    "yearsOfService.apply(pd.DataFrame.kurtosis)"
   ]
  },
  {
   "cell_type": "code",
   "execution_count": 26,
   "metadata": {},
   "outputs": [
    {
     "data": {
      "text/plain": [
       "Rank\n",
       "AssocProf    63.065532\n",
       "AsstProf     -0.920936\n",
       "Prof          0.340466\n",
       "Name: Salary, dtype: float64"
      ]
     },
     "execution_count": 26,
     "metadata": {},
     "output_type": "execute_result"
    }
   ],
   "source": [
    "salary.apply(pd.DataFrame.kurtosis)"
   ]
  },
  {
   "cell_type": "markdown",
   "metadata": {},
   "source": [
    "## Question 10. Plot the histogram of YrsOfService and Salary for different Ranks using 5 bins"
   ]
  },
  {
   "cell_type": "code",
   "execution_count": 27,
   "metadata": {},
   "outputs": [
    {
     "data": {
      "text/plain": [
       "array([[<AxesSubplot:title={'center':'AssocProf'}>,\n",
       "        <AxesSubplot:title={'center':'AsstProf'}>],\n",
       "       [<AxesSubplot:title={'center':'Prof'}>, <AxesSubplot:>]],\n",
       "      dtype=object)"
      ]
     },
     "execution_count": 27,
     "metadata": {},
     "output_type": "execute_result"
    },
    {
     "data": {
      "image/png": "[encoded data removed]",
      "text/plain": [
       "<Figure size 432x288 with 4 Axes>"
      ]
     },
     "metadata": {
      "needs_background": "light"
     },
     "output_type": "display_data"
    }
   ],
   "source": [
    "df[\"YrsOfService\"].hist(by=df[\"Rank\"],bins = 5)"
   ]
  },
  {
   "cell_type": "code",
   "execution_count": 28,
   "metadata": {},
   "outputs": [
    {
     "data": {
      "text/plain": [
       "array([[<AxesSubplot:title={'center':'AssocProf'}>,\n",
       "        <AxesSubplot:title={'center':'AsstProf'}>],\n",
       "       [<AxesSubplot:title={'center':'Prof'}>, <AxesSubplot:>]],\n",
       "      dtype=object)"
      ]
     },
     "execution_count": 28,
     "metadata": {},
     "output_type": "execute_result"
    },
    {
     "data": {
      "image/png": "[encoded data removed]",
      "text/plain": [
       "<Figure size 432x288 with 4 Axes>"
      ]
     },
     "metadata": {
      "needs_background": "light"
     },
     "output_type": "display_data"
    }
   ],
   "source": [
    "df[\"Salary\"].hist(by=df[\"Rank\"],bins = 5)"
   ]
  },
  {
   "cell_type": "markdown",
   "metadata": {},
   "source": [
    "## Question 11. Describe the YrsOfService and Salary distributions for each rank. Use the skew and kurotsis in your descriptions.\n",
    "(i.e. who has positive and negative skew and who has positive and negative Kurotsis)"
   ]
  },
  {
   "cell_type": "markdown",
   "metadata": {},
   "source": [
    "For the skew of years of service, Assoc professors have a higher skew than the other ranks. Assoc and Prof have postitive skews and AsstProf have negative skew.\n",
    "\n",
    "When we look at the skew of the salaries, all ranks have a positive skew but Assoc professors have a higher skew than the other ranks. \n",
    "\n",
    "Moving onto the kurtosis of years of service, Assoc and Profs have positive kurtosis while AsstProfs have negative kurtosis. \n",
    "\n",
    "Looking at the kurtosis of salary, Assoc professors and profs have positive kurtosis but Assoc professors have a way higher kurtosis than profs. Asst professors has a negative kurtosis.  \n",
    "\n",
    "Since Assoc professors have a higher positive skew and positive kurtosis; more years served and more money earned. \n",
    "Asst professors have a negative skew and negative kurtosis. They have less years served and less money.\n",
    "Profs have positive skew and kurtosis, but its not as high as Assoc professors. Less years served and less money earned. \n",
    " "
   ]
  },
  {
   "cell_type": "markdown",
   "metadata": {},
   "source": [
    "## Question 12. Calculate correlations of all the factors among themselves and determine which factors among YrsSincePhd or YrsOfService will affect Salary the most. Will your answers change if you break it down by Sex and by Discipline?"
   ]
  },
  {
   "cell_type": "code",
   "execution_count": 29,
   "metadata": {},
   "outputs": [
    {
     "data": {
      "text/html": [
       "<div>\n",
       "<style scoped>\n",
       "    .dataframe tbody tr th:only-of-type {\n",
       "        vertical-align: middle;\n",
       "    }\n",
       "\n",
       "    .dataframe tbody tr th {\n",
       "        vertical-align: top;\n",
       "    }\n",
       "\n",
       "    .dataframe thead th {\n",
       "        text-align: right;\n",
       "    }\n",
       "</style>\n",
       "<table border=\"1\" class=\"dataframe\">\n",
       "  <thead>\n",
       "    <tr style=\"text-align: right;\">\n",
       "      <th></th>\n",
       "      <th>YrsSincePhd</th>\n",
       "      <th>YrsOfService</th>\n",
       "      <th>Salary</th>\n",
       "    </tr>\n",
       "  </thead>\n",
       "  <tbody>\n",
       "    <tr>\n",
       "      <th>YrsSincePhd</th>\n",
       "      <td>1.000000</td>\n",
       "      <td>0.885469</td>\n",
       "      <td>0.189476</td>\n",
       "    </tr>\n",
       "    <tr>\n",
       "      <th>YrsOfService</th>\n",
       "      <td>0.885469</td>\n",
       "      <td>1.000000</td>\n",
       "      <td>0.156141</td>\n",
       "    </tr>\n",
       "    <tr>\n",
       "      <th>Salary</th>\n",
       "      <td>0.189476</td>\n",
       "      <td>0.156141</td>\n",
       "      <td>1.000000</td>\n",
       "    </tr>\n",
       "  </tbody>\n",
       "</table>\n",
       "</div>"
      ],
      "text/plain": [
       "              YrsSincePhd  YrsOfService    Salary\n",
       "YrsSincePhd      1.000000      0.885469  0.189476\n",
       "YrsOfService     0.885469      1.000000  0.156141\n",
       "Salary           0.189476      0.156141  1.000000"
      ]
     },
     "execution_count": 29,
     "metadata": {},
     "output_type": "execute_result"
    }
   ],
   "source": [
    "df.corr()"
   ]
  },
  {
   "cell_type": "markdown",
   "metadata": {},
   "source": [
    "The factors that affect salary the most is years since phd. \n",
    "Our answers may change if we break it down by sex and discipline because we'll have more factors to consider. \n",
    "For example, it may be possible that certain disciplines make more money than the other or a certain sex makes more. "
   ]
  },
  {
   "cell_type": "markdown",
   "metadata": {},
   "source": [
    "### Now Load a different dataset (MPG dataset number 3)"
   ]
  },
  {
   "cell_type": "code",
   "execution_count": 30,
   "metadata": {},
   "outputs": [
    {
     "name": "stdout",
     "output_type": "stream",
     "text": [
      "(405, 9)\n"
     ]
    },
    {
     "data": {
      "text/html": [
       "<div>\n",
       "<style scoped>\n",
       "    .dataframe tbody tr th:only-of-type {\n",
       "        vertical-align: middle;\n",
       "    }\n",
       "\n",
       "    .dataframe tbody tr th {\n",
       "        vertical-align: top;\n",
       "    }\n",
       "\n",
       "    .dataframe thead th {\n",
       "        text-align: right;\n",
       "    }\n",
       "</style>\n",
       "<table border=\"1\" class=\"dataframe\">\n",
       "  <thead>\n",
       "    <tr style=\"text-align: right;\">\n",
       "      <th></th>\n",
       "      <th>mpg</th>\n",
       "      <th>cylinders</th>\n",
       "      <th>displacement</th>\n",
       "      <th>horsepower</th>\n",
       "      <th>weight</th>\n",
       "      <th>acceleration</th>\n",
       "      <th>model_year</th>\n",
       "      <th>origin</th>\n",
       "      <th>name</th>\n",
       "    </tr>\n",
       "  </thead>\n",
       "  <tbody>\n",
       "    <tr>\n",
       "      <th>0</th>\n",
       "      <td>18.0</td>\n",
       "      <td>8</td>\n",
       "      <td>307.0</td>\n",
       "      <td>130.0</td>\n",
       "      <td>3504.0</td>\n",
       "      <td>12.0</td>\n",
       "      <td>70</td>\n",
       "      <td>usa</td>\n",
       "      <td>chevrolet chevelle malibu</td>\n",
       "    </tr>\n",
       "    <tr>\n",
       "      <th>1</th>\n",
       "      <td>15.0</td>\n",
       "      <td>8</td>\n",
       "      <td>350.0</td>\n",
       "      <td>165.0</td>\n",
       "      <td>3693.0</td>\n",
       "      <td>11.5</td>\n",
       "      <td>70</td>\n",
       "      <td>usa</td>\n",
       "      <td>buick skylark 320</td>\n",
       "    </tr>\n",
       "    <tr>\n",
       "      <th>2</th>\n",
       "      <td>18.0</td>\n",
       "      <td>8</td>\n",
       "      <td>318.0</td>\n",
       "      <td>150.0</td>\n",
       "      <td>3436.0</td>\n",
       "      <td>11.0</td>\n",
       "      <td>70</td>\n",
       "      <td>usa</td>\n",
       "      <td>plymouth satellite</td>\n",
       "    </tr>\n",
       "    <tr>\n",
       "      <th>3</th>\n",
       "      <td>16.0</td>\n",
       "      <td>8</td>\n",
       "      <td>304.0</td>\n",
       "      <td>150.0</td>\n",
       "      <td>3433.0</td>\n",
       "      <td>12.0</td>\n",
       "      <td>70</td>\n",
       "      <td>usa</td>\n",
       "      <td>amc rebel sst</td>\n",
       "    </tr>\n",
       "    <tr>\n",
       "      <th>4</th>\n",
       "      <td>17.0</td>\n",
       "      <td>8</td>\n",
       "      <td>302.0</td>\n",
       "      <td>140.0</td>\n",
       "      <td>3449.0</td>\n",
       "      <td>10.5</td>\n",
       "      <td>70</td>\n",
       "      <td>usa</td>\n",
       "      <td>ford torino</td>\n",
       "    </tr>\n",
       "  </tbody>\n",
       "</table>\n",
       "</div>"
      ],
      "text/plain": [
       "    mpg  cylinders  displacement  horsepower  weight  acceleration  \\\n",
       "0  18.0          8         307.0       130.0  3504.0          12.0   \n",
       "1  15.0          8         350.0       165.0  3693.0          11.5   \n",
       "2  18.0          8         318.0       150.0  3436.0          11.0   \n",
       "3  16.0          8         304.0       150.0  3433.0          12.0   \n",
       "4  17.0          8         302.0       140.0  3449.0          10.5   \n",
       "\n",
       "   model_year origin                       name  \n",
       "0          70    usa  chevrolet chevelle malibu  \n",
       "1          70    usa          buick skylark 320  \n",
       "2          70    usa         plymouth satellite  \n",
       "3          70    usa              amc rebel sst  \n",
       "4          70    usa                ford torino  "
      ]
     },
     "execution_count": 30,
     "metadata": {},
     "output_type": "execute_result"
    }
   ],
   "source": [
    "mpg = pd.read_csv(\"mpg3.csv\")\n",
    "print(mpg.shape)\n",
    "mpg.head()"
   ]
  },
  {
   "cell_type": "markdown",
   "metadata": {},
   "source": [
    "## Question 13: Check to see if there are any missing values. Fix the missing values by imputing value from the mean."
   ]
  },
  {
   "cell_type": "markdown",
   "metadata": {},
   "source": [
    "### Type your code here to fix the missing values by imputing value from the mean"
   ]
  },
  {
   "cell_type": "code",
   "execution_count": 31,
   "metadata": {
    "scrolled": true
   },
   "outputs": [
    {
     "name": "stdout",
     "output_type": "stream",
     "text": [
      "mpg              True\n",
      "cylinders       False\n",
      "displacement    False\n",
      "horsepower       True\n",
      "weight           True\n",
      "acceleration    False\n",
      "model_year      False\n",
      "origin          False\n",
      "name            False\n",
      "dtype: bool\n"
     ]
    }
   ],
   "source": [
    "print(mpg.isnull().any())"
   ]
  },
  {
   "cell_type": "code",
   "execution_count": 37,
   "metadata": {},
   "outputs": [
    {
     "name": "stdout",
     "output_type": "stream",
     "text": [
      "mpg             False\n",
      "cylinders       False\n",
      "displacement    False\n",
      "horsepower      False\n",
      "weight          False\n",
      "acceleration    False\n",
      "model_year      False\n",
      "origin          False\n",
      "name            False\n",
      "dtype: bool\n"
     ]
    }
   ],
   "source": [
    "mpg['mpg'] = mpg['mpg'].fillna(mpg['mpg'].mean())\n",
    "mpg['horsepower'] = mpg['horsepower'].fillna(mpg['horsepower'].mean())\n",
    "mpg['weight'] = mpg['weight'].fillna(mpg['weight'].mean())\n",
    "print(mpg.isnull().any())"
   ]
  }
 ],
 "metadata": {
  "kernelspec": {
   "display_name": "Python 3",
   "language": "python",
   "name": "python3"
  },
  "language_info": {
   "codemirror_mode": {
    "name": "ipython",
    "version": 3
   },
   "file_extension": ".py",
   "mimetype": "text/x-python",
   "name": "python",
   "nbconvert_exporter": "python",
   "pygments_lexer": "ipython3",
   "version": "3.8.5"
  }
 },
 "nbformat": 4,
 "nbformat_minor": 2
}
