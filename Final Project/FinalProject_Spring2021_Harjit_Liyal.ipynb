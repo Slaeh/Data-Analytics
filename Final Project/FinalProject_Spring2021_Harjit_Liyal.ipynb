{
 "cells": [
  {
   "cell_type": "markdown",
   "metadata": {},
   "source": [
    "# CS381/780 Data Analytics Final Project"
   ]
  },
  {
   "cell_type": "markdown",
   "metadata": {},
   "source": [
    "### Due on 5/19/2021 23:59 pm"
   ]
  },
  {
   "cell_type": "code",
   "execution_count": 1,
   "metadata": {},
   "outputs": [],
   "source": [
    "import numpy as np\n",
    "import pandas as pd\n",
    "import matplotlib.pyplot as plt\n",
    "import seaborn as sns\n",
    "import warnings\n",
    "warnings.filterwarnings('ignore')\n",
    "from sklearn.model_selection import train_test_split"
   ]
  },
  {
   "cell_type": "code",
   "execution_count": 2,
   "metadata": {},
   "outputs": [],
   "source": [
    "from sklearn.model_selection import train_test_split\n",
    "from sklearn.linear_model import LogisticRegression\n",
    "from sklearn import svm\n",
    "from sklearn.ensemble import RandomForestClassifier\n",
    "from sklearn.tree import DecisionTreeClassifier"
   ]
  },
  {
   "cell_type": "code",
   "execution_count": 3,
   "metadata": {},
   "outputs": [],
   "source": [
    "from sklearn.metrics import classification_report,confusion_matrix,accuracy_score"
   ]
  },
  {
   "cell_type": "markdown",
   "metadata": {},
   "source": [
    "### Dataset is based on an original student performance dataset provided on Kaggle\n",
    "\n",
    "https://www.kaggle.com/impapan/student-performance-data-set\n"
   ]
  },
  {
   "cell_type": "raw",
   "metadata": {},
   "source": [
    "Description of attributes:\n",
    "\n",
    "1 school - student's school (binary: \"GP\" - Gabriel Pereira or \"MS\" - Mousinho da Silveira)\n",
    "2 sex - student's sex (binary: \"F\" - female or \"M\" - male)\n",
    "3 age - student's age (numeric: from 15 to 22)\n",
    "4 address - student's home address type (binary: \"U\" - urban or \"R\" - rural)\n",
    "5 famsize - family size (binary: \"LE3\" - less or equal to 3 or \"GT3\" - greater than 3)\n",
    "6 Pstatus - parent's cohabitation status (binary: \"T\" - living together or \"A\" - apart)\n",
    "7 Medu - mother's education (numeric: 0 - none,  1 - primary education (4th grade), 2 – 5th to 9th grade, 3 – secondary education or 4 – higher education)\n",
    "8 Fedu - father's education (numeric: 0 - none,  1 - primary education (4th grade), 2 – 5th to 9th grade, 3 – secondary education or 4 – higher education)\n",
    "9 Mjob - mother's job (nominal: \"teacher\", \"health\" care related, civil \"services\" (e.g. administrative or police), \"at_home\" or \"other\")\n",
    "10 Fjob - father's job (nominal: \"teacher\", \"health\" care related, civil \"services\" (e.g. administrative or police), \"at_home\" or \"other\")\n",
    "11 reason - reason to choose this school (nominal: close to \"home\", school \"reputation\", \"course\" preference or \"other\")\n",
    "12 guardian - student's guardian (nominal: \"mother\", \"father\" or \"other\")\n",
    "13 traveltime - home to school travel time (numeric: 1 - <15 min., 2 - 15 to 30 min., 3 - 30 min. to 1 hour, or 4 - >1 hour)\n",
    "14 studytime - weekly study time (numeric: 1 - <2 hours, 2 - 2 to 5 hours, 3 - 5 to 10 hours, or 4 - >10 hours)\n",
    "15 failures - number of past class failures (numeric: n if 1<=n<3, else 4)\n",
    "16 schoolsup - extra educational support (binary: yes or no)\n",
    "17 famsup - family educational support (binary: yes or no)\n",
    "18 paid - extra paid classes within the course subject (Math or Portuguese) (binary: yes or no)\n",
    "19 activities - extra-curricular activities (binary: yes or no)\n",
    "20 nursery - attended nursery school (binary: yes or no)\n",
    "21 higher - wants to take higher education (binary: yes or no)\n",
    "22 internet - Internet access at home (binary: yes or no)\n",
    "23 romantic - with a romantic relationship (binary: yes or no)\n",
    "24 famrel - quality of family relationships (numeric: from 1 - very bad to 5 - excellent)\n",
    "25 freetime - free time after school (numeric: from 1 - very low to 5 - very high)\n",
    "26 goout - going out with friends (numeric: from 1 - very low to 5 - very high)\n",
    "27 Dalc - workday alcohol consumption (numeric: from 1 - very low to 5 - very high)\n",
    "28 Walc - weekend alcohol consumption (numeric: from 1 - very low to 5 - very high)\n",
    "29 health - current health status (numeric: from 1 - very bad to 5 - very good)\n",
    "30 absences - number of school absences (numeric: from 0 to 93)\n",
    "    \n"
   ]
  },
  {
   "cell_type": "markdown",
   "metadata": {},
   "source": [
    "### I have modified the original dataset slightly, removed some attributes and include the first term grade from the language course\n"
   ]
  },
  {
   "cell_type": "code",
   "execution_count": 4,
   "metadata": {},
   "outputs": [
    {
     "data": {
      "text/html": [
       "<div>\n",
       "<style scoped>\n",
       "    .dataframe tbody tr th:only-of-type {\n",
       "        vertical-align: middle;\n",
       "    }\n",
       "\n",
       "    .dataframe tbody tr th {\n",
       "        vertical-align: top;\n",
       "    }\n",
       "\n",
       "    .dataframe thead th {\n",
       "        text-align: right;\n",
       "    }\n",
       "</style>\n",
       "<table border=\"1\" class=\"dataframe\">\n",
       "  <thead>\n",
       "    <tr style=\"text-align: right;\">\n",
       "      <th></th>\n",
       "      <th>age</th>\n",
       "      <th>traveltime</th>\n",
       "      <th>studytime</th>\n",
       "      <th>failures</th>\n",
       "      <th>absences</th>\n",
       "      <th>Math_G1</th>\n",
       "      <th>Language_G1</th>\n",
       "      <th>sex</th>\n",
       "      <th>address</th>\n",
       "      <th>famsize</th>\n",
       "      <th>...</th>\n",
       "      <th>paid</th>\n",
       "      <th>activities</th>\n",
       "      <th>higher</th>\n",
       "      <th>internet</th>\n",
       "      <th>famrel</th>\n",
       "      <th>freetime</th>\n",
       "      <th>Dalc</th>\n",
       "      <th>Walc</th>\n",
       "      <th>health</th>\n",
       "      <th>Math_FinalG3</th>\n",
       "    </tr>\n",
       "  </thead>\n",
       "  <tbody>\n",
       "    <tr>\n",
       "      <th>0</th>\n",
       "      <td>18.0</td>\n",
       "      <td>2</td>\n",
       "      <td>2</td>\n",
       "      <td>0</td>\n",
       "      <td>6</td>\n",
       "      <td>5.0</td>\n",
       "      <td>0</td>\n",
       "      <td>F</td>\n",
       "      <td>U</td>\n",
       "      <td>GT3</td>\n",
       "      <td>...</td>\n",
       "      <td>no</td>\n",
       "      <td>no</td>\n",
       "      <td>yes</td>\n",
       "      <td>no</td>\n",
       "      <td>4</td>\n",
       "      <td>3</td>\n",
       "      <td>1</td>\n",
       "      <td>1</td>\n",
       "      <td>3</td>\n",
       "      <td>6</td>\n",
       "    </tr>\n",
       "    <tr>\n",
       "      <th>1</th>\n",
       "      <td>17.0</td>\n",
       "      <td>1</td>\n",
       "      <td>2</td>\n",
       "      <td>0</td>\n",
       "      <td>4</td>\n",
       "      <td>5.0</td>\n",
       "      <td>9</td>\n",
       "      <td>F</td>\n",
       "      <td>U</td>\n",
       "      <td>GT3</td>\n",
       "      <td>...</td>\n",
       "      <td>no</td>\n",
       "      <td>no</td>\n",
       "      <td>yes</td>\n",
       "      <td>yes</td>\n",
       "      <td>5</td>\n",
       "      <td>3</td>\n",
       "      <td>1</td>\n",
       "      <td>1</td>\n",
       "      <td>3</td>\n",
       "      <td>6</td>\n",
       "    </tr>\n",
       "    <tr>\n",
       "      <th>2</th>\n",
       "      <td>15.0</td>\n",
       "      <td>1</td>\n",
       "      <td>2</td>\n",
       "      <td>3</td>\n",
       "      <td>10</td>\n",
       "      <td>7.0</td>\n",
       "      <td>12</td>\n",
       "      <td>F</td>\n",
       "      <td>U</td>\n",
       "      <td>LE3</td>\n",
       "      <td>...</td>\n",
       "      <td>yes</td>\n",
       "      <td>no</td>\n",
       "      <td>yes</td>\n",
       "      <td>yes</td>\n",
       "      <td>4</td>\n",
       "      <td>3</td>\n",
       "      <td>2</td>\n",
       "      <td>3</td>\n",
       "      <td>3</td>\n",
       "      <td>10</td>\n",
       "    </tr>\n",
       "    <tr>\n",
       "      <th>3</th>\n",
       "      <td>15.0</td>\n",
       "      <td>1</td>\n",
       "      <td>3</td>\n",
       "      <td>0</td>\n",
       "      <td>2</td>\n",
       "      <td>15.0</td>\n",
       "      <td>14</td>\n",
       "      <td>F</td>\n",
       "      <td>U</td>\n",
       "      <td>GT3</td>\n",
       "      <td>...</td>\n",
       "      <td>yes</td>\n",
       "      <td>yes</td>\n",
       "      <td>yes</td>\n",
       "      <td>yes</td>\n",
       "      <td>3</td>\n",
       "      <td>2</td>\n",
       "      <td>1</td>\n",
       "      <td>1</td>\n",
       "      <td>5</td>\n",
       "      <td>15</td>\n",
       "    </tr>\n",
       "    <tr>\n",
       "      <th>4</th>\n",
       "      <td>16.0</td>\n",
       "      <td>1</td>\n",
       "      <td>2</td>\n",
       "      <td>0</td>\n",
       "      <td>4</td>\n",
       "      <td>6.0</td>\n",
       "      <td>11</td>\n",
       "      <td>F</td>\n",
       "      <td>U</td>\n",
       "      <td>GT3</td>\n",
       "      <td>...</td>\n",
       "      <td>yes</td>\n",
       "      <td>no</td>\n",
       "      <td>yes</td>\n",
       "      <td>no</td>\n",
       "      <td>4</td>\n",
       "      <td>3</td>\n",
       "      <td>1</td>\n",
       "      <td>2</td>\n",
       "      <td>5</td>\n",
       "      <td>10</td>\n",
       "    </tr>\n",
       "  </tbody>\n",
       "</table>\n",
       "<p>5 rows × 27 columns</p>\n",
       "</div>"
      ],
      "text/plain": [
       "    age  traveltime  studytime  failures  absences  Math_G1  Language_G1 sex  \\\n",
       "0  18.0           2          2         0         6      5.0            0   F   \n",
       "1  17.0           1          2         0         4      5.0            9   F   \n",
       "2  15.0           1          2         3        10      7.0           12   F   \n",
       "3  15.0           1          3         0         2     15.0           14   F   \n",
       "4  16.0           1          2         0         4      6.0           11   F   \n",
       "\n",
       "  address famsize  ... paid  activities  higher internet famrel freetime Dalc  \\\n",
       "0       U     GT3  ...   no          no     yes       no      4        3    1   \n",
       "1       U     GT3  ...   no          no     yes      yes      5        3    1   \n",
       "2       U     LE3  ...  yes          no     yes      yes      4        3    2   \n",
       "3       U     GT3  ...  yes         yes     yes      yes      3        2    1   \n",
       "4       U     GT3  ...  yes          no     yes       no      4        3    1   \n",
       "\n",
       "  Walc health Math_FinalG3  \n",
       "0    1      3            6  \n",
       "1    1      3            6  \n",
       "2    3      3           10  \n",
       "3    1      5           15  \n",
       "4    2      5           10  \n",
       "\n",
       "[5 rows x 27 columns]"
      ]
     },
     "execution_count": 4,
     "metadata": {},
     "output_type": "execute_result"
    }
   ],
   "source": [
    "df = pd.read_csv(\"student_performance_modified.csv\")\n",
    "df.head()"
   ]
  },
  {
   "cell_type": "code",
   "execution_count": 5,
   "metadata": {},
   "outputs": [
    {
     "data": {
      "text/plain": [
       "Index(['age', 'traveltime', 'studytime', 'failures', 'absences', 'Math_G1',\n",
       "       'Language_G1', 'sex', 'address', 'famsize', 'Pstatus', 'Medu', 'Fedu',\n",
       "       'Mjob', 'Fjob', 'schoolsup', 'famsup', 'paid', 'activities', 'higher',\n",
       "       'internet', 'famrel', 'freetime', 'Dalc', 'Walc', 'health',\n",
       "       'Math_FinalG3'],\n",
       "      dtype='object')"
      ]
     },
     "execution_count": 5,
     "metadata": {},
     "output_type": "execute_result"
    }
   ],
   "source": [
    "df.columns"
   ]
  },
  {
   "cell_type": "markdown",
   "metadata": {},
   "source": [
    "### First we replace the Math_FinalG3 by a binary label to indicate underperformance"
   ]
  },
  {
   "cell_type": "code",
   "execution_count": 6,
   "metadata": {},
   "outputs": [
    {
     "data": {
      "text/html": [
       "<div>\n",
       "<style scoped>\n",
       "    .dataframe tbody tr th:only-of-type {\n",
       "        vertical-align: middle;\n",
       "    }\n",
       "\n",
       "    .dataframe tbody tr th {\n",
       "        vertical-align: top;\n",
       "    }\n",
       "\n",
       "    .dataframe thead th {\n",
       "        text-align: right;\n",
       "    }\n",
       "</style>\n",
       "<table border=\"1\" class=\"dataframe\">\n",
       "  <thead>\n",
       "    <tr style=\"text-align: right;\">\n",
       "      <th></th>\n",
       "      <th>age</th>\n",
       "      <th>traveltime</th>\n",
       "      <th>studytime</th>\n",
       "      <th>failures</th>\n",
       "      <th>absences</th>\n",
       "      <th>Math_G1</th>\n",
       "      <th>Language_G1</th>\n",
       "      <th>sex</th>\n",
       "      <th>address</th>\n",
       "      <th>famsize</th>\n",
       "      <th>...</th>\n",
       "      <th>paid</th>\n",
       "      <th>activities</th>\n",
       "      <th>higher</th>\n",
       "      <th>internet</th>\n",
       "      <th>famrel</th>\n",
       "      <th>freetime</th>\n",
       "      <th>Dalc</th>\n",
       "      <th>Walc</th>\n",
       "      <th>health</th>\n",
       "      <th>underperformance</th>\n",
       "    </tr>\n",
       "  </thead>\n",
       "  <tbody>\n",
       "    <tr>\n",
       "      <th>0</th>\n",
       "      <td>18.0</td>\n",
       "      <td>2</td>\n",
       "      <td>2</td>\n",
       "      <td>0</td>\n",
       "      <td>6</td>\n",
       "      <td>5.0</td>\n",
       "      <td>0</td>\n",
       "      <td>F</td>\n",
       "      <td>U</td>\n",
       "      <td>GT3</td>\n",
       "      <td>...</td>\n",
       "      <td>no</td>\n",
       "      <td>no</td>\n",
       "      <td>yes</td>\n",
       "      <td>no</td>\n",
       "      <td>4</td>\n",
       "      <td>3</td>\n",
       "      <td>1</td>\n",
       "      <td>1</td>\n",
       "      <td>3</td>\n",
       "      <td>1</td>\n",
       "    </tr>\n",
       "    <tr>\n",
       "      <th>1</th>\n",
       "      <td>17.0</td>\n",
       "      <td>1</td>\n",
       "      <td>2</td>\n",
       "      <td>0</td>\n",
       "      <td>4</td>\n",
       "      <td>5.0</td>\n",
       "      <td>9</td>\n",
       "      <td>F</td>\n",
       "      <td>U</td>\n",
       "      <td>GT3</td>\n",
       "      <td>...</td>\n",
       "      <td>no</td>\n",
       "      <td>no</td>\n",
       "      <td>yes</td>\n",
       "      <td>yes</td>\n",
       "      <td>5</td>\n",
       "      <td>3</td>\n",
       "      <td>1</td>\n",
       "      <td>1</td>\n",
       "      <td>3</td>\n",
       "      <td>1</td>\n",
       "    </tr>\n",
       "    <tr>\n",
       "      <th>2</th>\n",
       "      <td>15.0</td>\n",
       "      <td>1</td>\n",
       "      <td>2</td>\n",
       "      <td>3</td>\n",
       "      <td>10</td>\n",
       "      <td>7.0</td>\n",
       "      <td>12</td>\n",
       "      <td>F</td>\n",
       "      <td>U</td>\n",
       "      <td>LE3</td>\n",
       "      <td>...</td>\n",
       "      <td>yes</td>\n",
       "      <td>no</td>\n",
       "      <td>yes</td>\n",
       "      <td>yes</td>\n",
       "      <td>4</td>\n",
       "      <td>3</td>\n",
       "      <td>2</td>\n",
       "      <td>3</td>\n",
       "      <td>3</td>\n",
       "      <td>0</td>\n",
       "    </tr>\n",
       "    <tr>\n",
       "      <th>3</th>\n",
       "      <td>15.0</td>\n",
       "      <td>1</td>\n",
       "      <td>3</td>\n",
       "      <td>0</td>\n",
       "      <td>2</td>\n",
       "      <td>15.0</td>\n",
       "      <td>14</td>\n",
       "      <td>F</td>\n",
       "      <td>U</td>\n",
       "      <td>GT3</td>\n",
       "      <td>...</td>\n",
       "      <td>yes</td>\n",
       "      <td>yes</td>\n",
       "      <td>yes</td>\n",
       "      <td>yes</td>\n",
       "      <td>3</td>\n",
       "      <td>2</td>\n",
       "      <td>1</td>\n",
       "      <td>1</td>\n",
       "      <td>5</td>\n",
       "      <td>0</td>\n",
       "    </tr>\n",
       "    <tr>\n",
       "      <th>4</th>\n",
       "      <td>16.0</td>\n",
       "      <td>1</td>\n",
       "      <td>2</td>\n",
       "      <td>0</td>\n",
       "      <td>4</td>\n",
       "      <td>6.0</td>\n",
       "      <td>11</td>\n",
       "      <td>F</td>\n",
       "      <td>U</td>\n",
       "      <td>GT3</td>\n",
       "      <td>...</td>\n",
       "      <td>yes</td>\n",
       "      <td>no</td>\n",
       "      <td>yes</td>\n",
       "      <td>no</td>\n",
       "      <td>4</td>\n",
       "      <td>3</td>\n",
       "      <td>1</td>\n",
       "      <td>2</td>\n",
       "      <td>5</td>\n",
       "      <td>0</td>\n",
       "    </tr>\n",
       "  </tbody>\n",
       "</table>\n",
       "<p>5 rows × 27 columns</p>\n",
       "</div>"
      ],
      "text/plain": [
       "    age  traveltime  studytime  failures  absences  Math_G1  Language_G1 sex  \\\n",
       "0  18.0           2          2         0         6      5.0            0   F   \n",
       "1  17.0           1          2         0         4      5.0            9   F   \n",
       "2  15.0           1          2         3        10      7.0           12   F   \n",
       "3  15.0           1          3         0         2     15.0           14   F   \n",
       "4  16.0           1          2         0         4      6.0           11   F   \n",
       "\n",
       "  address famsize  ... paid  activities  higher internet famrel freetime Dalc  \\\n",
       "0       U     GT3  ...   no          no     yes       no      4        3    1   \n",
       "1       U     GT3  ...   no          no     yes      yes      5        3    1   \n",
       "2       U     LE3  ...  yes          no     yes      yes      4        3    2   \n",
       "3       U     GT3  ...  yes         yes     yes      yes      3        2    1   \n",
       "4       U     GT3  ...  yes          no     yes       no      4        3    1   \n",
       "\n",
       "  Walc health underperformance  \n",
       "0    1      3                1  \n",
       "1    1      3                1  \n",
       "2    3      3                0  \n",
       "3    1      5                0  \n",
       "4    2      5                0  \n",
       "\n",
       "[5 rows x 27 columns]"
      ]
     },
     "execution_count": 6,
     "metadata": {},
     "output_type": "execute_result"
    }
   ],
   "source": [
    "df['underperformance'] = df['Math_FinalG3'].apply(lambda x: 1 if x < 9 else 0)\n",
    "df = df.drop(['Math_FinalG3'], axis=1)\n",
    "df.head()"
   ]
  },
  {
   "cell_type": "markdown",
   "metadata": {},
   "source": [
    "### Your task in the final project is build the best predictive model to predict who would underperform in their final Math Grade so that the school can proactively find ways to help the students"
   ]
  },
  {
   "cell_type": "markdown",
   "metadata": {},
   "source": [
    "* Use any one of the models (Logistic, SVM, Naive Bayes, Decision Tree and Random Forecast) that we have covered in class.\n",
    "* Do not use any models that we have not covered in class."
   ]
  },
  {
   "cell_type": "markdown",
   "metadata": {},
   "source": [
    "### Math_G1 is the Math Grade in first term and Language_G1 is the first term grade in language. Math_G1 should have a high correlation of the Student Final Math Grade. However, it won't be available at the beginning of the school year"
   ]
  },
  {
   "cell_type": "markdown",
   "metadata": {},
   "source": [
    "### Therefore, you need to build two sets of models. One set is not to use these G1 variables, the others you could. Find out if the language grade will be useful or not in determining the final Math grade"
   ]
  },
  {
   "cell_type": "markdown",
   "metadata": {},
   "source": [
    "### Make sure your work include the following steps"
   ]
  },
  {
   "cell_type": "markdown",
   "metadata": {},
   "source": [
    "* EDA (checking missing values, removing outliers)\n",
    "* performed basic exploration of relationship, with plots and graphs\n",
    "* separated data set into training and testing\n",
    "* setup dummy variables to take care categorical variables\n",
    "* normalize numerical features if needed\n",
    "* tried at least two models and checked their model performance\n",
    "* performed cross-validations\n"
   ]
  },
  {
   "cell_type": "code",
   "execution_count": 7,
   "metadata": {
    "scrolled": true
   },
   "outputs": [
    {
     "data": {
      "text/plain": [
       "<AxesSubplot:xlabel='underperformance', ylabel='count'>"
      ]
     },
     "execution_count": 7,
     "metadata": {},
     "output_type": "execute_result"
    },
    {
     "data": {
      "image/png": "[encoded data removed]",
      "text/plain": [
       "<Figure size 432x288 with 1 Axes>"
      ]
     },
     "metadata": {
      "needs_background": "light"
     },
     "output_type": "display_data"
    }
   ],
   "source": [
    "sns.countplot(df['underperformance'])"
   ]
  },
  {
   "cell_type": "markdown",
   "metadata": {},
   "source": [
    "### Good Luck !!!"
   ]
  },
  {
   "cell_type": "markdown",
   "metadata": {},
   "source": [
    "Show all your work below"
   ]
  },
  {
   "cell_type": "markdown",
   "metadata": {},
   "source": [
    "## Check if there are any nulls or NA's"
   ]
  },
  {
   "cell_type": "code",
   "execution_count": 8,
   "metadata": {},
   "outputs": [
    {
     "data": {
      "text/plain": [
       "age                  True\n",
       "traveltime          False\n",
       "studytime           False\n",
       "failures            False\n",
       "absences            False\n",
       "Math_G1              True\n",
       "Language_G1         False\n",
       "sex                 False\n",
       "address             False\n",
       "famsize             False\n",
       "Pstatus             False\n",
       "Medu                False\n",
       "Fedu                False\n",
       "Mjob                False\n",
       "Fjob                False\n",
       "schoolsup           False\n",
       "famsup              False\n",
       "paid                False\n",
       "activities          False\n",
       "higher              False\n",
       "internet            False\n",
       "famrel              False\n",
       "freetime            False\n",
       "Dalc                False\n",
       "Walc                False\n",
       "health              False\n",
       "underperformance    False\n",
       "dtype: bool"
      ]
     },
     "execution_count": 8,
     "metadata": {},
     "output_type": "execute_result"
    }
   ],
   "source": [
    "df.isnull().any()"
   ]
  },
  {
   "cell_type": "markdown",
   "metadata": {},
   "source": [
    "### We see that age and Math_G1 have null/NA values"
   ]
  },
  {
   "cell_type": "markdown",
   "metadata": {},
   "source": [
    "## Remove rows that have nulls or NA's"
   ]
  },
  {
   "cell_type": "code",
   "execution_count": 9,
   "metadata": {},
   "outputs": [],
   "source": [
    "df.isnull().any()\n",
    "df = df.dropna()"
   ]
  },
  {
   "cell_type": "code",
   "execution_count": 10,
   "metadata": {},
   "outputs": [
    {
     "data": {
      "text/plain": [
       "age                 False\n",
       "traveltime          False\n",
       "studytime           False\n",
       "failures            False\n",
       "absences            False\n",
       "Math_G1             False\n",
       "Language_G1         False\n",
       "sex                 False\n",
       "address             False\n",
       "famsize             False\n",
       "Pstatus             False\n",
       "Medu                False\n",
       "Fedu                False\n",
       "Mjob                False\n",
       "Fjob                False\n",
       "schoolsup           False\n",
       "famsup              False\n",
       "paid                False\n",
       "activities          False\n",
       "higher              False\n",
       "internet            False\n",
       "famrel              False\n",
       "freetime            False\n",
       "Dalc                False\n",
       "Walc                False\n",
       "health              False\n",
       "underperformance    False\n",
       "dtype: bool"
      ]
     },
     "execution_count": 10,
     "metadata": {},
     "output_type": "execute_result"
    }
   ],
   "source": [
    "df.isnull().any()"
   ]
  },
  {
   "cell_type": "markdown",
   "metadata": {},
   "source": [
    "### We have dropped all null/NA values"
   ]
  },
  {
   "cell_type": "code",
   "execution_count": 11,
   "metadata": {},
   "outputs": [
    {
     "data": {
      "text/html": [
       "<div>\n",
       "<style scoped>\n",
       "    .dataframe tbody tr th:only-of-type {\n",
       "        vertical-align: middle;\n",
       "    }\n",
       "\n",
       "    .dataframe tbody tr th {\n",
       "        vertical-align: top;\n",
       "    }\n",
       "\n",
       "    .dataframe thead th {\n",
       "        text-align: right;\n",
       "    }\n",
       "</style>\n",
       "<table border=\"1\" class=\"dataframe\">\n",
       "  <thead>\n",
       "    <tr style=\"text-align: right;\">\n",
       "      <th></th>\n",
       "      <th>age</th>\n",
       "      <th>traveltime</th>\n",
       "      <th>studytime</th>\n",
       "      <th>failures</th>\n",
       "      <th>absences</th>\n",
       "      <th>Math_G1</th>\n",
       "      <th>Language_G1</th>\n",
       "      <th>Medu</th>\n",
       "      <th>Fedu</th>\n",
       "      <th>famrel</th>\n",
       "      <th>freetime</th>\n",
       "      <th>Dalc</th>\n",
       "      <th>Walc</th>\n",
       "      <th>health</th>\n",
       "      <th>underperformance</th>\n",
       "    </tr>\n",
       "  </thead>\n",
       "  <tbody>\n",
       "    <tr>\n",
       "      <th>count</th>\n",
       "      <td>396.000000</td>\n",
       "      <td>396.000000</td>\n",
       "      <td>396.000000</td>\n",
       "      <td>396.000000</td>\n",
       "      <td>396.000000</td>\n",
       "      <td>396.000000</td>\n",
       "      <td>396.000000</td>\n",
       "      <td>396.000000</td>\n",
       "      <td>396.000000</td>\n",
       "      <td>396.000000</td>\n",
       "      <td>396.000000</td>\n",
       "      <td>396.000000</td>\n",
       "      <td>396.000000</td>\n",
       "      <td>396.000000</td>\n",
       "      <td>396.000000</td>\n",
       "    </tr>\n",
       "    <tr>\n",
       "      <th>mean</th>\n",
       "      <td>16.893939</td>\n",
       "      <td>1.446970</td>\n",
       "      <td>2.032828</td>\n",
       "      <td>0.333333</td>\n",
       "      <td>5.714646</td>\n",
       "      <td>10.919192</td>\n",
       "      <td>12.010101</td>\n",
       "      <td>2.747475</td>\n",
       "      <td>2.520202</td>\n",
       "      <td>3.944444</td>\n",
       "      <td>3.234848</td>\n",
       "      <td>1.479798</td>\n",
       "      <td>2.287879</td>\n",
       "      <td>3.550505</td>\n",
       "      <td>0.257576</td>\n",
       "    </tr>\n",
       "    <tr>\n",
       "      <th>std</th>\n",
       "      <td>4.136147</td>\n",
       "      <td>0.696985</td>\n",
       "      <td>0.839791</td>\n",
       "      <td>0.742899</td>\n",
       "      <td>7.993788</td>\n",
       "      <td>3.321359</td>\n",
       "      <td>2.419310</td>\n",
       "      <td>1.093997</td>\n",
       "      <td>1.087138</td>\n",
       "      <td>0.895527</td>\n",
       "      <td>0.997667</td>\n",
       "      <td>0.889942</td>\n",
       "      <td>1.287901</td>\n",
       "      <td>1.390738</td>\n",
       "      <td>0.437852</td>\n",
       "    </tr>\n",
       "    <tr>\n",
       "      <th>min</th>\n",
       "      <td>15.000000</td>\n",
       "      <td>1.000000</td>\n",
       "      <td>1.000000</td>\n",
       "      <td>0.000000</td>\n",
       "      <td>0.000000</td>\n",
       "      <td>3.000000</td>\n",
       "      <td>0.000000</td>\n",
       "      <td>0.000000</td>\n",
       "      <td>0.000000</td>\n",
       "      <td>1.000000</td>\n",
       "      <td>1.000000</td>\n",
       "      <td>1.000000</td>\n",
       "      <td>1.000000</td>\n",
       "      <td>1.000000</td>\n",
       "      <td>0.000000</td>\n",
       "    </tr>\n",
       "    <tr>\n",
       "      <th>25%</th>\n",
       "      <td>16.000000</td>\n",
       "      <td>1.000000</td>\n",
       "      <td>1.000000</td>\n",
       "      <td>0.000000</td>\n",
       "      <td>0.000000</td>\n",
       "      <td>8.000000</td>\n",
       "      <td>10.000000</td>\n",
       "      <td>2.000000</td>\n",
       "      <td>2.000000</td>\n",
       "      <td>4.000000</td>\n",
       "      <td>3.000000</td>\n",
       "      <td>1.000000</td>\n",
       "      <td>1.000000</td>\n",
       "      <td>3.000000</td>\n",
       "      <td>0.000000</td>\n",
       "    </tr>\n",
       "    <tr>\n",
       "      <th>50%</th>\n",
       "      <td>17.000000</td>\n",
       "      <td>1.000000</td>\n",
       "      <td>2.000000</td>\n",
       "      <td>0.000000</td>\n",
       "      <td>4.000000</td>\n",
       "      <td>11.000000</td>\n",
       "      <td>12.000000</td>\n",
       "      <td>3.000000</td>\n",
       "      <td>2.000000</td>\n",
       "      <td>4.000000</td>\n",
       "      <td>3.000000</td>\n",
       "      <td>1.000000</td>\n",
       "      <td>2.000000</td>\n",
       "      <td>4.000000</td>\n",
       "      <td>0.000000</td>\n",
       "    </tr>\n",
       "    <tr>\n",
       "      <th>75%</th>\n",
       "      <td>18.000000</td>\n",
       "      <td>2.000000</td>\n",
       "      <td>2.000000</td>\n",
       "      <td>0.000000</td>\n",
       "      <td>8.000000</td>\n",
       "      <td>13.000000</td>\n",
       "      <td>14.000000</td>\n",
       "      <td>4.000000</td>\n",
       "      <td>3.000000</td>\n",
       "      <td>5.000000</td>\n",
       "      <td>4.000000</td>\n",
       "      <td>2.000000</td>\n",
       "      <td>3.000000</td>\n",
       "      <td>5.000000</td>\n",
       "      <td>1.000000</td>\n",
       "    </tr>\n",
       "    <tr>\n",
       "      <th>max</th>\n",
       "      <td>95.000000</td>\n",
       "      <td>4.000000</td>\n",
       "      <td>4.000000</td>\n",
       "      <td>3.000000</td>\n",
       "      <td>75.000000</td>\n",
       "      <td>19.000000</td>\n",
       "      <td>18.000000</td>\n",
       "      <td>4.000000</td>\n",
       "      <td>4.000000</td>\n",
       "      <td>5.000000</td>\n",
       "      <td>5.000000</td>\n",
       "      <td>5.000000</td>\n",
       "      <td>5.000000</td>\n",
       "      <td>5.000000</td>\n",
       "      <td>1.000000</td>\n",
       "    </tr>\n",
       "  </tbody>\n",
       "</table>\n",
       "</div>"
      ],
      "text/plain": [
       "              age  traveltime   studytime    failures    absences     Math_G1  \\\n",
       "count  396.000000  396.000000  396.000000  396.000000  396.000000  396.000000   \n",
       "mean    16.893939    1.446970    2.032828    0.333333    5.714646   10.919192   \n",
       "std      4.136147    0.696985    0.839791    0.742899    7.993788    3.321359   \n",
       "min     15.000000    1.000000    1.000000    0.000000    0.000000    3.000000   \n",
       "25%     16.000000    1.000000    1.000000    0.000000    0.000000    8.000000   \n",
       "50%     17.000000    1.000000    2.000000    0.000000    4.000000   11.000000   \n",
       "75%     18.000000    2.000000    2.000000    0.000000    8.000000   13.000000   \n",
       "max     95.000000    4.000000    4.000000    3.000000   75.000000   19.000000   \n",
       "\n",
       "       Language_G1        Medu        Fedu      famrel    freetime  \\\n",
       "count   396.000000  396.000000  396.000000  396.000000  396.000000   \n",
       "mean     12.010101    2.747475    2.520202    3.944444    3.234848   \n",
       "std       2.419310    1.093997    1.087138    0.895527    0.997667   \n",
       "min       0.000000    0.000000    0.000000    1.000000    1.000000   \n",
       "25%      10.000000    2.000000    2.000000    4.000000    3.000000   \n",
       "50%      12.000000    3.000000    2.000000    4.000000    3.000000   \n",
       "75%      14.000000    4.000000    3.000000    5.000000    4.000000   \n",
       "max      18.000000    4.000000    4.000000    5.000000    5.000000   \n",
       "\n",
       "             Dalc        Walc      health  underperformance  \n",
       "count  396.000000  396.000000  396.000000        396.000000  \n",
       "mean     1.479798    2.287879    3.550505          0.257576  \n",
       "std      0.889942    1.287901    1.390738          0.437852  \n",
       "min      1.000000    1.000000    1.000000          0.000000  \n",
       "25%      1.000000    1.000000    3.000000          0.000000  \n",
       "50%      1.000000    2.000000    4.000000          0.000000  \n",
       "75%      2.000000    3.000000    5.000000          1.000000  \n",
       "max      5.000000    5.000000    5.000000          1.000000  "
      ]
     },
     "execution_count": 11,
     "metadata": {},
     "output_type": "execute_result"
    }
   ],
   "source": [
    "df.describe()"
   ]
  },
  {
   "cell_type": "markdown",
   "metadata": {},
   "source": [
    "## Check if there are any outliers in all numerical fields using boxplots"
   ]
  },
  {
   "cell_type": "code",
   "execution_count": 12,
   "metadata": {},
   "outputs": [
    {
     "data": {
      "text/plain": [
       "<AxesSubplot:xlabel='age'>"
      ]
     },
     "execution_count": 12,
     "metadata": {},
     "output_type": "execute_result"
    },
    {
     "data": {
      "image/png": "[encoded data removed]",
      "text/plain": [
       "<Figure size 432x288 with 1 Axes>"
      ]
     },
     "metadata": {
      "needs_background": "light"
     },
     "output_type": "display_data"
    }
   ],
   "source": [
    "#age\n",
    "plt.figure()\n",
    "df = df[df['age'] < 19]\n",
    "sns.boxplot(x=df['age'])\n",
    "#I removed the outliers that were greater than the age 16-17"
   ]
  },
  {
   "cell_type": "code",
   "execution_count": 13,
   "metadata": {},
   "outputs": [
    {
     "data": {
      "text/plain": [
       "<AxesSubplot:xlabel='traveltime'>"
      ]
     },
     "execution_count": 13,
     "metadata": {},
     "output_type": "execute_result"
    },
    {
     "data": {
      "image/png": "[encoded data removed]",
      "text/plain": [
       "<Figure size 432x288 with 1 Axes>"
      ]
     },
     "metadata": {
      "needs_background": "light"
     },
     "output_type": "display_data"
    }
   ],
   "source": [
    "#traveltime\n",
    "plt.figure()\n",
    "df = df[df['traveltime'] < 4]\n",
    "sns.boxplot(x=df['traveltime'])\n",
    "#Removed travel time outliers"
   ]
  },
  {
   "cell_type": "code",
   "execution_count": 14,
   "metadata": {},
   "outputs": [
    {
     "data": {
      "text/plain": [
       "<AxesSubplot:xlabel='studytime'>"
      ]
     },
     "execution_count": 14,
     "metadata": {},
     "output_type": "execute_result"
    },
    {
     "data": {
      "image/png": "[encoded data removed]",
      "text/plain": [
       "<Figure size 432x288 with 1 Axes>"
      ]
     },
     "metadata": {
      "needs_background": "light"
     },
     "output_type": "display_data"
    }
   ],
   "source": [
    "#studytime\n",
    "plt.figure()\n",
    "df = df[df['studytime'] < 3.5]\n",
    "sns.boxplot(x=df['studytime'])\n",
    "#Removed study time outliers"
   ]
  },
  {
   "cell_type": "code",
   "execution_count": 15,
   "metadata": {},
   "outputs": [
    {
     "data": {
      "text/plain": [
       "<AxesSubplot:xlabel='failures'>"
      ]
     },
     "execution_count": 15,
     "metadata": {},
     "output_type": "execute_result"
    },
    {
     "data": {
      "image/png": "[encoded data removed]",
      "text/plain": [
       "<Figure size 432x288 with 1 Axes>"
      ]
     },
     "metadata": {
      "needs_background": "light"
     },
     "output_type": "display_data"
    }
   ],
   "source": [
    "#failures\n",
    "plt.figure()\n",
    "sns.boxplot(x=df['failures'])\n",
    "#Left this alone"
   ]
  },
  {
   "cell_type": "code",
   "execution_count": 16,
   "metadata": {},
   "outputs": [
    {
     "data": {
      "text/plain": [
       "<AxesSubplot:xlabel='absences'>"
      ]
     },
     "execution_count": 16,
     "metadata": {},
     "output_type": "execute_result"
    },
    {
     "data": {
      "image/png": "[encoded data removed]",
      "text/plain": [
       "<Figure size 432x288 with 1 Axes>"
      ]
     },
     "metadata": {
      "needs_background": "light"
     },
     "output_type": "display_data"
    }
   ],
   "source": [
    "#absences\n",
    "plt.figure()\n",
    "df = df[df['absences'] < 9]\n",
    "sns.boxplot(x=df['absences'])\n",
    "#Removed anything more than 4 absenses, which were around the 20 mark. "
   ]
  },
  {
   "cell_type": "code",
   "execution_count": 17,
   "metadata": {},
   "outputs": [
    {
     "data": {
      "text/plain": [
       "<AxesSubplot:xlabel='Math_G1'>"
      ]
     },
     "execution_count": 17,
     "metadata": {},
     "output_type": "execute_result"
    },
    {
     "data": {
      "image/png": "[encoded data removed]",
      "text/plain": [
       "<Figure size 432x288 with 1 Axes>"
      ]
     },
     "metadata": {
      "needs_background": "light"
     },
     "output_type": "display_data"
    }
   ],
   "source": [
    "#Math_G1\n",
    "plt.figure()\n",
    "sns.boxplot(x=df['Math_G1'])\n",
    "#Left alone "
   ]
  },
  {
   "cell_type": "code",
   "execution_count": 18,
   "metadata": {},
   "outputs": [
    {
     "data": {
      "text/plain": [
       "<AxesSubplot:xlabel='Language_G1'>"
      ]
     },
     "execution_count": 18,
     "metadata": {},
     "output_type": "execute_result"
    },
    {
     "data": {
      "image/png": "[encoded data removed]",
      "text/plain": [
       "<Figure size 432x288 with 1 Axes>"
      ]
     },
     "metadata": {
      "needs_background": "light"
     },
     "output_type": "display_data"
    }
   ],
   "source": [
    "#Language_G1\n",
    "plt.figure()\n",
    "df = df[df['Language_G1'] != 0]\n",
    "sns.boxplot(x=df['Language_G1'])\n",
    "#Removed the one outlier which was a 0 "
   ]
  },
  {
   "cell_type": "code",
   "execution_count": 19,
   "metadata": {},
   "outputs": [
    {
     "data": {
      "text/plain": [
       "<AxesSubplot:xlabel='Medu'>"
      ]
     },
     "execution_count": 19,
     "metadata": {},
     "output_type": "execute_result"
    },
    {
     "data": {
      "image/png": "[encoded data removed]",
      "text/plain": [
       "<Figure size 432x288 with 1 Axes>"
      ]
     },
     "metadata": {
      "needs_background": "light"
     },
     "output_type": "display_data"
    }
   ],
   "source": [
    "#Medu \n",
    "plt.figure()\n",
    "sns.boxplot(x=df['Medu'])\n",
    "#Left this alone "
   ]
  },
  {
   "cell_type": "code",
   "execution_count": 20,
   "metadata": {},
   "outputs": [
    {
     "data": {
      "text/plain": [
       "<AxesSubplot:xlabel='Fedu'>"
      ]
     },
     "execution_count": 20,
     "metadata": {},
     "output_type": "execute_result"
    },
    {
     "data": {
      "image/png": "[encoded data removed]",
      "text/plain": [
       "<Figure size 432x288 with 1 Axes>"
      ]
     },
     "metadata": {
      "needs_background": "light"
     },
     "output_type": "display_data"
    }
   ],
   "source": [
    "#Fedu\n",
    "plt.figure()\n",
    "df = df[df['Fedu'] != 0]\n",
    "sns.boxplot(x=df['Fedu'])\n",
    "#Removed the one outlier that was a 0 "
   ]
  },
  {
   "cell_type": "code",
   "execution_count": 21,
   "metadata": {},
   "outputs": [
    {
     "data": {
      "text/plain": [
       "<AxesSubplot:xlabel='famrel'>"
      ]
     },
     "execution_count": 21,
     "metadata": {},
     "output_type": "execute_result"
    },
    {
     "data": {
      "image/png": "[encoded data removed]",
      "text/plain": [
       "<Figure size 432x288 with 1 Axes>"
      ]
     },
     "metadata": {
      "needs_background": "light"
     },
     "output_type": "display_data"
    }
   ],
   "source": [
    "#famrel\n",
    "plt.figure()\n",
    "df = df[df['famrel'] > 2.5]\n",
    "sns.boxplot(x=df['famrel'])\n",
    "#Removed outliers which were above 2.5"
   ]
  },
  {
   "cell_type": "code",
   "execution_count": 22,
   "metadata": {},
   "outputs": [
    {
     "data": {
      "text/plain": [
       "<AxesSubplot:xlabel='freetime'>"
      ]
     },
     "execution_count": 22,
     "metadata": {},
     "output_type": "execute_result"
    },
    {
     "data": {
      "image/png": "[encoded data removed]",
      "text/plain": [
       "<Figure size 432x288 with 1 Axes>"
      ]
     },
     "metadata": {
      "needs_background": "light"
     },
     "output_type": "display_data"
    }
   ],
   "source": [
    "#freetime\n",
    "plt.figure()\n",
    "df = df[df['freetime'] > 2.0]\n",
    "sns.boxplot(x=df['freetime'])\n",
    "#Removed outliers which were above 2 "
   ]
  },
  {
   "cell_type": "code",
   "execution_count": 23,
   "metadata": {},
   "outputs": [
    {
     "data": {
      "text/plain": [
       "<AxesSubplot:xlabel='Dalc'>"
      ]
     },
     "execution_count": 23,
     "metadata": {},
     "output_type": "execute_result"
    },
    {
     "data": {
      "image/png": "[encoded data removed]",
      "text/plain": [
       "<Figure size 432x288 with 1 Axes>"
      ]
     },
     "metadata": {
      "needs_background": "light"
     },
     "output_type": "display_data"
    }
   ],
   "source": [
    "#Dalc\n",
    "plt.figure()\n",
    "df = df[df['Dalc'] < 3.1]\n",
    "sns.boxplot(x=df['Dalc'])\n",
    "#Removed outliers which were under 3.1"
   ]
  },
  {
   "cell_type": "code",
   "execution_count": 24,
   "metadata": {},
   "outputs": [
    {
     "data": {
      "text/plain": [
       "<AxesSubplot:xlabel='Walc'>"
      ]
     },
     "execution_count": 24,
     "metadata": {},
     "output_type": "execute_result"
    },
    {
     "data": {
      "image/png": "[encoded data removed]",
      "text/plain": [
       "<Figure size 432x288 with 1 Axes>"
      ]
     },
     "metadata": {
      "needs_background": "light"
     },
     "output_type": "display_data"
    }
   ],
   "source": [
    "#Walc\n",
    "plt.figure()\n",
    "sns.boxplot(x=df['Walc'])\n",
    "#Did not remove anything"
   ]
  },
  {
   "cell_type": "code",
   "execution_count": 25,
   "metadata": {},
   "outputs": [
    {
     "data": {
      "text/plain": [
       "<AxesSubplot:xlabel='health'>"
      ]
     },
     "execution_count": 25,
     "metadata": {},
     "output_type": "execute_result"
    },
    {
     "data": {
      "image/png": "[encoded data removed]",
      "text/plain": [
       "<Figure size 432x288 with 1 Axes>"
      ]
     },
     "metadata": {
      "needs_background": "light"
     },
     "output_type": "display_data"
    }
   ],
   "source": [
    "#health\n",
    "plt.figure()\n",
    "sns.boxplot(x=df['health'])\n",
    "#Did not remove anything"
   ]
  },
  {
   "cell_type": "code",
   "execution_count": 26,
   "metadata": {},
   "outputs": [
    {
     "data": {
      "text/plain": [
       "<AxesSubplot:xlabel='underperformance'>"
      ]
     },
     "execution_count": 26,
     "metadata": {},
     "output_type": "execute_result"
    },
    {
     "data": {
      "image/png": "[encoded data removed]",
      "text/plain": [
       "<Figure size 432x288 with 1 Axes>"
      ]
     },
     "metadata": {
      "needs_background": "light"
     },
     "output_type": "display_data"
    }
   ],
   "source": [
    "#underperformance\n",
    "plt.figure()\n",
    "sns.boxplot(x=df['underperformance'])\n",
    "#Did not remove anything "
   ]
  },
  {
   "cell_type": "code",
   "execution_count": 27,
   "metadata": {},
   "outputs": [
    {
     "data": {
      "text/plain": [
       "<AxesSubplot:xlabel='underperformance', ylabel='count'>"
      ]
     },
     "execution_count": 27,
     "metadata": {},
     "output_type": "execute_result"
    },
    {
     "data": {
      "image/png": "[encoded data removed]",
      "text/plain": [
       "<Figure size 432x288 with 1 Axes>"
      ]
     },
     "metadata": {
      "needs_background": "light"
     },
     "output_type": "display_data"
    }
   ],
   "source": [
    "sns.countplot(df['underperformance'])"
   ]
  },
  {
   "cell_type": "code",
   "execution_count": 28,
   "metadata": {},
   "outputs": [
    {
     "data": {
      "text/plain": [
       "<seaborn.axisgrid.PairGrid at 0x1c69199cc40>"
      ]
     },
     "execution_count": 28,
     "metadata": {},
     "output_type": "execute_result"
    },
    {
     "data": {
      "image/png": "[encoded data removed]",
      "text/plain": [
       "<Figure size 2700x2700 with 240 Axes>"
      ]
     },
     "metadata": {
      "needs_background": "light"
     },
     "output_type": "display_data"
    }
   ],
   "source": [
    "sns.pairplot(data = df, kind='scatter')"
   ]
  },
  {
   "cell_type": "code",
   "execution_count": 29,
   "metadata": {
    "scrolled": false
   },
   "outputs": [
    {
     "data": {
      "text/html": [
       "<div>\n",
       "<style scoped>\n",
       "    .dataframe tbody tr th:only-of-type {\n",
       "        vertical-align: middle;\n",
       "    }\n",
       "\n",
       "    .dataframe tbody tr th {\n",
       "        vertical-align: top;\n",
       "    }\n",
       "\n",
       "    .dataframe thead th {\n",
       "        text-align: right;\n",
       "    }\n",
       "</style>\n",
       "<table border=\"1\" class=\"dataframe\">\n",
       "  <thead>\n",
       "    <tr style=\"text-align: right;\">\n",
       "      <th></th>\n",
       "      <th>age</th>\n",
       "      <th>traveltime</th>\n",
       "      <th>studytime</th>\n",
       "      <th>failures</th>\n",
       "      <th>absences</th>\n",
       "      <th>Math_G1</th>\n",
       "      <th>Language_G1</th>\n",
       "      <th>Medu</th>\n",
       "      <th>Fedu</th>\n",
       "      <th>famrel</th>\n",
       "      <th>freetime</th>\n",
       "      <th>Dalc</th>\n",
       "      <th>Walc</th>\n",
       "      <th>health</th>\n",
       "      <th>underperformance</th>\n",
       "    </tr>\n",
       "  </thead>\n",
       "  <tbody>\n",
       "    <tr>\n",
       "      <th>age</th>\n",
       "      <td>1.000000</td>\n",
       "      <td>0.190732</td>\n",
       "      <td>0.183704</td>\n",
       "      <td>0.013902</td>\n",
       "      <td>0.053625</td>\n",
       "      <td>-0.134209</td>\n",
       "      <td>-0.008117</td>\n",
       "      <td>-0.233281</td>\n",
       "      <td>-0.195622</td>\n",
       "      <td>-0.027401</td>\n",
       "      <td>-0.089732</td>\n",
       "      <td>0.111895</td>\n",
       "      <td>0.133195</td>\n",
       "      <td>-0.101164</td>\n",
       "      <td>0.148075</td>\n",
       "    </tr>\n",
       "    <tr>\n",
       "      <th>traveltime</th>\n",
       "      <td>0.190732</td>\n",
       "      <td>1.000000</td>\n",
       "      <td>-0.192691</td>\n",
       "      <td>0.049505</td>\n",
       "      <td>0.040708</td>\n",
       "      <td>-0.019124</td>\n",
       "      <td>-0.000055</td>\n",
       "      <td>-0.087976</td>\n",
       "      <td>-0.074580</td>\n",
       "      <td>-0.062829</td>\n",
       "      <td>0.014000</td>\n",
       "      <td>0.054406</td>\n",
       "      <td>0.130784</td>\n",
       "      <td>-0.007977</td>\n",
       "      <td>0.064487</td>\n",
       "    </tr>\n",
       "    <tr>\n",
       "      <th>studytime</th>\n",
       "      <td>0.183704</td>\n",
       "      <td>-0.192691</td>\n",
       "      <td>1.000000</td>\n",
       "      <td>-0.195242</td>\n",
       "      <td>-0.036098</td>\n",
       "      <td>0.142850</td>\n",
       "      <td>0.048751</td>\n",
       "      <td>0.070092</td>\n",
       "      <td>0.043658</td>\n",
       "      <td>0.124567</td>\n",
       "      <td>-0.100372</td>\n",
       "      <td>-0.204026</td>\n",
       "      <td>-0.215375</td>\n",
       "      <td>-0.099168</td>\n",
       "      <td>-0.089640</td>\n",
       "    </tr>\n",
       "    <tr>\n",
       "      <th>failures</th>\n",
       "      <td>0.013902</td>\n",
       "      <td>0.049505</td>\n",
       "      <td>-0.195242</td>\n",
       "      <td>1.000000</td>\n",
       "      <td>-0.075472</td>\n",
       "      <td>-0.359949</td>\n",
       "      <td>-0.123071</td>\n",
       "      <td>-0.144677</td>\n",
       "      <td>-0.154929</td>\n",
       "      <td>-0.168726</td>\n",
       "      <td>0.061905</td>\n",
       "      <td>0.062595</td>\n",
       "      <td>0.061311</td>\n",
       "      <td>0.082306</td>\n",
       "      <td>0.447698</td>\n",
       "    </tr>\n",
       "    <tr>\n",
       "      <th>absences</th>\n",
       "      <td>0.053625</td>\n",
       "      <td>0.040708</td>\n",
       "      <td>-0.036098</td>\n",
       "      <td>-0.075472</td>\n",
       "      <td>1.000000</td>\n",
       "      <td>0.013113</td>\n",
       "      <td>-0.014674</td>\n",
       "      <td>0.010501</td>\n",
       "      <td>0.011924</td>\n",
       "      <td>-0.021986</td>\n",
       "      <td>0.036679</td>\n",
       "      <td>0.082849</td>\n",
       "      <td>0.163421</td>\n",
       "      <td>-0.017794</td>\n",
       "      <td>-0.188348</td>\n",
       "    </tr>\n",
       "    <tr>\n",
       "      <th>Math_G1</th>\n",
       "      <td>-0.134209</td>\n",
       "      <td>-0.019124</td>\n",
       "      <td>0.142850</td>\n",
       "      <td>-0.359949</td>\n",
       "      <td>0.013113</td>\n",
       "      <td>1.000000</td>\n",
       "      <td>0.208218</td>\n",
       "      <td>0.172266</td>\n",
       "      <td>0.228755</td>\n",
       "      <td>0.090928</td>\n",
       "      <td>0.191019</td>\n",
       "      <td>-0.057624</td>\n",
       "      <td>-0.075118</td>\n",
       "      <td>-0.014969</td>\n",
       "      <td>-0.624185</td>\n",
       "    </tr>\n",
       "    <tr>\n",
       "      <th>Language_G1</th>\n",
       "      <td>-0.008117</td>\n",
       "      <td>-0.000055</td>\n",
       "      <td>0.048751</td>\n",
       "      <td>-0.123071</td>\n",
       "      <td>-0.014674</td>\n",
       "      <td>0.208218</td>\n",
       "      <td>1.000000</td>\n",
       "      <td>0.200957</td>\n",
       "      <td>0.091257</td>\n",
       "      <td>-0.017627</td>\n",
       "      <td>-0.065600</td>\n",
       "      <td>-0.041903</td>\n",
       "      <td>-0.052797</td>\n",
       "      <td>-0.080994</td>\n",
       "      <td>-0.044885</td>\n",
       "    </tr>\n",
       "    <tr>\n",
       "      <th>Medu</th>\n",
       "      <td>-0.233281</td>\n",
       "      <td>-0.087976</td>\n",
       "      <td>0.070092</td>\n",
       "      <td>-0.144677</td>\n",
       "      <td>0.010501</td>\n",
       "      <td>0.172266</td>\n",
       "      <td>0.200957</td>\n",
       "      <td>1.000000</td>\n",
       "      <td>0.634055</td>\n",
       "      <td>0.163531</td>\n",
       "      <td>0.144490</td>\n",
       "      <td>0.042672</td>\n",
       "      <td>-0.032944</td>\n",
       "      <td>0.027169</td>\n",
       "      <td>-0.101238</td>\n",
       "    </tr>\n",
       "    <tr>\n",
       "      <th>Fedu</th>\n",
       "      <td>-0.195622</td>\n",
       "      <td>-0.074580</td>\n",
       "      <td>0.043658</td>\n",
       "      <td>-0.154929</td>\n",
       "      <td>0.011924</td>\n",
       "      <td>0.228755</td>\n",
       "      <td>0.091257</td>\n",
       "      <td>0.634055</td>\n",
       "      <td>1.000000</td>\n",
       "      <td>0.099130</td>\n",
       "      <td>0.062384</td>\n",
       "      <td>-0.008260</td>\n",
       "      <td>-0.038891</td>\n",
       "      <td>0.073050</td>\n",
       "      <td>-0.138983</td>\n",
       "    </tr>\n",
       "    <tr>\n",
       "      <th>famrel</th>\n",
       "      <td>-0.027401</td>\n",
       "      <td>-0.062829</td>\n",
       "      <td>0.124567</td>\n",
       "      <td>-0.168726</td>\n",
       "      <td>-0.021986</td>\n",
       "      <td>0.090928</td>\n",
       "      <td>-0.017627</td>\n",
       "      <td>0.163531</td>\n",
       "      <td>0.099130</td>\n",
       "      <td>1.000000</td>\n",
       "      <td>0.102266</td>\n",
       "      <td>-0.122496</td>\n",
       "      <td>-0.185226</td>\n",
       "      <td>0.023539</td>\n",
       "      <td>-0.166782</td>\n",
       "    </tr>\n",
       "    <tr>\n",
       "      <th>freetime</th>\n",
       "      <td>-0.089732</td>\n",
       "      <td>0.014000</td>\n",
       "      <td>-0.100372</td>\n",
       "      <td>0.061905</td>\n",
       "      <td>0.036679</td>\n",
       "      <td>0.191019</td>\n",
       "      <td>-0.065600</td>\n",
       "      <td>0.144490</td>\n",
       "      <td>0.062384</td>\n",
       "      <td>0.102266</td>\n",
       "      <td>1.000000</td>\n",
       "      <td>0.143001</td>\n",
       "      <td>0.084255</td>\n",
       "      <td>-0.010234</td>\n",
       "      <td>-0.119743</td>\n",
       "    </tr>\n",
       "    <tr>\n",
       "      <th>Dalc</th>\n",
       "      <td>0.111895</td>\n",
       "      <td>0.054406</td>\n",
       "      <td>-0.204026</td>\n",
       "      <td>0.062595</td>\n",
       "      <td>0.082849</td>\n",
       "      <td>-0.057624</td>\n",
       "      <td>-0.041903</td>\n",
       "      <td>0.042672</td>\n",
       "      <td>-0.008260</td>\n",
       "      <td>-0.122496</td>\n",
       "      <td>0.143001</td>\n",
       "      <td>1.000000</td>\n",
       "      <td>0.627102</td>\n",
       "      <td>0.148518</td>\n",
       "      <td>-0.047121</td>\n",
       "    </tr>\n",
       "    <tr>\n",
       "      <th>Walc</th>\n",
       "      <td>0.133195</td>\n",
       "      <td>0.130784</td>\n",
       "      <td>-0.215375</td>\n",
       "      <td>0.061311</td>\n",
       "      <td>0.163421</td>\n",
       "      <td>-0.075118</td>\n",
       "      <td>-0.052797</td>\n",
       "      <td>-0.032944</td>\n",
       "      <td>-0.038891</td>\n",
       "      <td>-0.185226</td>\n",
       "      <td>0.084255</td>\n",
       "      <td>0.627102</td>\n",
       "      <td>1.000000</td>\n",
       "      <td>0.110049</td>\n",
       "      <td>-0.026332</td>\n",
       "    </tr>\n",
       "    <tr>\n",
       "      <th>health</th>\n",
       "      <td>-0.101164</td>\n",
       "      <td>-0.007977</td>\n",
       "      <td>-0.099168</td>\n",
       "      <td>0.082306</td>\n",
       "      <td>-0.017794</td>\n",
       "      <td>-0.014969</td>\n",
       "      <td>-0.080994</td>\n",
       "      <td>0.027169</td>\n",
       "      <td>0.073050</td>\n",
       "      <td>0.023539</td>\n",
       "      <td>-0.010234</td>\n",
       "      <td>0.148518</td>\n",
       "      <td>0.110049</td>\n",
       "      <td>1.000000</td>\n",
       "      <td>-0.005047</td>\n",
       "    </tr>\n",
       "    <tr>\n",
       "      <th>underperformance</th>\n",
       "      <td>0.148075</td>\n",
       "      <td>0.064487</td>\n",
       "      <td>-0.089640</td>\n",
       "      <td>0.447698</td>\n",
       "      <td>-0.188348</td>\n",
       "      <td>-0.624185</td>\n",
       "      <td>-0.044885</td>\n",
       "      <td>-0.101238</td>\n",
       "      <td>-0.138983</td>\n",
       "      <td>-0.166782</td>\n",
       "      <td>-0.119743</td>\n",
       "      <td>-0.047121</td>\n",
       "      <td>-0.026332</td>\n",
       "      <td>-0.005047</td>\n",
       "      <td>1.000000</td>\n",
       "    </tr>\n",
       "  </tbody>\n",
       "</table>\n",
       "</div>"
      ],
      "text/plain": [
       "                       age  traveltime  studytime  failures  absences  \\\n",
       "age               1.000000    0.190732   0.183704  0.013902  0.053625   \n",
       "traveltime        0.190732    1.000000  -0.192691  0.049505  0.040708   \n",
       "studytime         0.183704   -0.192691   1.000000 -0.195242 -0.036098   \n",
       "failures          0.013902    0.049505  -0.195242  1.000000 -0.075472   \n",
       "absences          0.053625    0.040708  -0.036098 -0.075472  1.000000   \n",
       "Math_G1          -0.134209   -0.019124   0.142850 -0.359949  0.013113   \n",
       "Language_G1      -0.008117   -0.000055   0.048751 -0.123071 -0.014674   \n",
       "Medu             -0.233281   -0.087976   0.070092 -0.144677  0.010501   \n",
       "Fedu             -0.195622   -0.074580   0.043658 -0.154929  0.011924   \n",
       "famrel           -0.027401   -0.062829   0.124567 -0.168726 -0.021986   \n",
       "freetime         -0.089732    0.014000  -0.100372  0.061905  0.036679   \n",
       "Dalc              0.111895    0.054406  -0.204026  0.062595  0.082849   \n",
       "Walc              0.133195    0.130784  -0.215375  0.061311  0.163421   \n",
       "health           -0.101164   -0.007977  -0.099168  0.082306 -0.017794   \n",
       "underperformance  0.148075    0.064487  -0.089640  0.447698 -0.188348   \n",
       "\n",
       "                   Math_G1  Language_G1      Medu      Fedu    famrel  \\\n",
       "age              -0.134209    -0.008117 -0.233281 -0.195622 -0.027401   \n",
       "traveltime       -0.019124    -0.000055 -0.087976 -0.074580 -0.062829   \n",
       "studytime         0.142850     0.048751  0.070092  0.043658  0.124567   \n",
       "failures         -0.359949    -0.123071 -0.144677 -0.154929 -0.168726   \n",
       "absences          0.013113    -0.014674  0.010501  0.011924 -0.021986   \n",
       "Math_G1           1.000000     0.208218  0.172266  0.228755  0.090928   \n",
       "Language_G1       0.208218     1.000000  0.200957  0.091257 -0.017627   \n",
       "Medu              0.172266     0.200957  1.000000  0.634055  0.163531   \n",
       "Fedu              0.228755     0.091257  0.634055  1.000000  0.099130   \n",
       "famrel            0.090928    -0.017627  0.163531  0.099130  1.000000   \n",
       "freetime          0.191019    -0.065600  0.144490  0.062384  0.102266   \n",
       "Dalc             -0.057624    -0.041903  0.042672 -0.008260 -0.122496   \n",
       "Walc             -0.075118    -0.052797 -0.032944 -0.038891 -0.185226   \n",
       "health           -0.014969    -0.080994  0.027169  0.073050  0.023539   \n",
       "underperformance -0.624185    -0.044885 -0.101238 -0.138983 -0.166782   \n",
       "\n",
       "                  freetime      Dalc      Walc    health  underperformance  \n",
       "age              -0.089732  0.111895  0.133195 -0.101164          0.148075  \n",
       "traveltime        0.014000  0.054406  0.130784 -0.007977          0.064487  \n",
       "studytime        -0.100372 -0.204026 -0.215375 -0.099168         -0.089640  \n",
       "failures          0.061905  0.062595  0.061311  0.082306          0.447698  \n",
       "absences          0.036679  0.082849  0.163421 -0.017794         -0.188348  \n",
       "Math_G1           0.191019 -0.057624 -0.075118 -0.014969         -0.624185  \n",
       "Language_G1      -0.065600 -0.041903 -0.052797 -0.080994         -0.044885  \n",
       "Medu              0.144490  0.042672 -0.032944  0.027169         -0.101238  \n",
       "Fedu              0.062384 -0.008260 -0.038891  0.073050         -0.138983  \n",
       "famrel            0.102266 -0.122496 -0.185226  0.023539         -0.166782  \n",
       "freetime          1.000000  0.143001  0.084255 -0.010234         -0.119743  \n",
       "Dalc              0.143001  1.000000  0.627102  0.148518         -0.047121  \n",
       "Walc              0.084255  0.627102  1.000000  0.110049         -0.026332  \n",
       "health           -0.010234  0.148518  0.110049  1.000000         -0.005047  \n",
       "underperformance -0.119743 -0.047121 -0.026332 -0.005047          1.000000  "
      ]
     },
     "execution_count": 29,
     "metadata": {},
     "output_type": "execute_result"
    }
   ],
   "source": [
    "df.corr()"
   ]
  },
  {
   "cell_type": "markdown",
   "metadata": {},
   "source": [
    "## Dummify"
   ]
  },
  {
   "cell_type": "code",
   "execution_count": 30,
   "metadata": {},
   "outputs": [],
   "source": [
    "dummifyThese = df[['sex', 'health', 'famsize', 'Mjob', 'Fjob','address', 'Pstatus','schoolsup', 'famsup', 'paid', 'higher', 'internet']]"
   ]
  },
  {
   "cell_type": "code",
   "execution_count": 31,
   "metadata": {},
   "outputs": [
    {
     "data": {
      "text/html": [
       "<div>\n",
       "<style scoped>\n",
       "    .dataframe tbody tr th:only-of-type {\n",
       "        vertical-align: middle;\n",
       "    }\n",
       "\n",
       "    .dataframe tbody tr th {\n",
       "        vertical-align: top;\n",
       "    }\n",
       "\n",
       "    .dataframe thead th {\n",
       "        text-align: right;\n",
       "    }\n",
       "</style>\n",
       "<table border=\"1\" class=\"dataframe\">\n",
       "  <thead>\n",
       "    <tr style=\"text-align: right;\">\n",
       "      <th></th>\n",
       "      <th>sex</th>\n",
       "      <th>health</th>\n",
       "      <th>famsize</th>\n",
       "      <th>Mjob</th>\n",
       "      <th>Fjob</th>\n",
       "      <th>address</th>\n",
       "      <th>Pstatus</th>\n",
       "      <th>schoolsup</th>\n",
       "      <th>famsup</th>\n",
       "      <th>paid</th>\n",
       "      <th>higher</th>\n",
       "      <th>internet</th>\n",
       "    </tr>\n",
       "  </thead>\n",
       "  <tbody>\n",
       "    <tr>\n",
       "      <th>1</th>\n",
       "      <td>F</td>\n",
       "      <td>3</td>\n",
       "      <td>GT3</td>\n",
       "      <td>at_home</td>\n",
       "      <td>other</td>\n",
       "      <td>U</td>\n",
       "      <td>T</td>\n",
       "      <td>no</td>\n",
       "      <td>yes</td>\n",
       "      <td>no</td>\n",
       "      <td>yes</td>\n",
       "      <td>yes</td>\n",
       "    </tr>\n",
       "    <tr>\n",
       "      <th>4</th>\n",
       "      <td>F</td>\n",
       "      <td>5</td>\n",
       "      <td>GT3</td>\n",
       "      <td>other</td>\n",
       "      <td>other</td>\n",
       "      <td>U</td>\n",
       "      <td>T</td>\n",
       "      <td>no</td>\n",
       "      <td>yes</td>\n",
       "      <td>yes</td>\n",
       "      <td>yes</td>\n",
       "      <td>no</td>\n",
       "    </tr>\n",
       "    <tr>\n",
       "      <th>6</th>\n",
       "      <td>M</td>\n",
       "      <td>3</td>\n",
       "      <td>LE3</td>\n",
       "      <td>other</td>\n",
       "      <td>other</td>\n",
       "      <td>U</td>\n",
       "      <td>T</td>\n",
       "      <td>no</td>\n",
       "      <td>no</td>\n",
       "      <td>no</td>\n",
       "      <td>yes</td>\n",
       "      <td>yes</td>\n",
       "    </tr>\n",
       "    <tr>\n",
       "      <th>9</th>\n",
       "      <td>M</td>\n",
       "      <td>5</td>\n",
       "      <td>GT3</td>\n",
       "      <td>other</td>\n",
       "      <td>other</td>\n",
       "      <td>U</td>\n",
       "      <td>T</td>\n",
       "      <td>no</td>\n",
       "      <td>yes</td>\n",
       "      <td>yes</td>\n",
       "      <td>yes</td>\n",
       "      <td>yes</td>\n",
       "    </tr>\n",
       "    <tr>\n",
       "      <th>10</th>\n",
       "      <td>F</td>\n",
       "      <td>2</td>\n",
       "      <td>GT3</td>\n",
       "      <td>teacher</td>\n",
       "      <td>health</td>\n",
       "      <td>U</td>\n",
       "      <td>T</td>\n",
       "      <td>no</td>\n",
       "      <td>yes</td>\n",
       "      <td>yes</td>\n",
       "      <td>yes</td>\n",
       "      <td>yes</td>\n",
       "    </tr>\n",
       "  </tbody>\n",
       "</table>\n",
       "</div>"
      ],
      "text/plain": [
       "   sex  health famsize     Mjob    Fjob address Pstatus schoolsup famsup paid  \\\n",
       "1    F       3     GT3  at_home   other       U       T        no    yes   no   \n",
       "4    F       5     GT3    other   other       U       T        no    yes  yes   \n",
       "6    M       3     LE3    other   other       U       T        no     no   no   \n",
       "9    M       5     GT3    other   other       U       T        no    yes  yes   \n",
       "10   F       2     GT3  teacher  health       U       T        no    yes  yes   \n",
       "\n",
       "   higher internet  \n",
       "1     yes      yes  \n",
       "4     yes       no  \n",
       "6     yes      yes  \n",
       "9     yes      yes  \n",
       "10    yes      yes  "
      ]
     },
     "execution_count": 31,
     "metadata": {},
     "output_type": "execute_result"
    }
   ],
   "source": [
    "dummifyThese.head()"
   ]
  },
  {
   "cell_type": "code",
   "execution_count": 32,
   "metadata": {},
   "outputs": [],
   "source": [
    "dummy = pd.get_dummies(df)"
   ]
  },
  {
   "cell_type": "code",
   "execution_count": 33,
   "metadata": {
    "scrolled": true
   },
   "outputs": [
    {
     "data": {
      "text/html": [
       "<div>\n",
       "<style scoped>\n",
       "    .dataframe tbody tr th:only-of-type {\n",
       "        vertical-align: middle;\n",
       "    }\n",
       "\n",
       "    .dataframe tbody tr th {\n",
       "        vertical-align: top;\n",
       "    }\n",
       "\n",
       "    .dataframe thead th {\n",
       "        text-align: right;\n",
       "    }\n",
       "</style>\n",
       "<table border=\"1\" class=\"dataframe\">\n",
       "  <thead>\n",
       "    <tr style=\"text-align: right;\">\n",
       "      <th></th>\n",
       "      <th>age</th>\n",
       "      <th>traveltime</th>\n",
       "      <th>studytime</th>\n",
       "      <th>failures</th>\n",
       "      <th>absences</th>\n",
       "      <th>Math_G1</th>\n",
       "      <th>Language_G1</th>\n",
       "      <th>Medu</th>\n",
       "      <th>Fedu</th>\n",
       "      <th>famrel</th>\n",
       "      <th>...</th>\n",
       "      <th>famsup_no</th>\n",
       "      <th>famsup_yes</th>\n",
       "      <th>paid_no</th>\n",
       "      <th>paid_yes</th>\n",
       "      <th>activities_no</th>\n",
       "      <th>activities_yes</th>\n",
       "      <th>higher_no</th>\n",
       "      <th>higher_yes</th>\n",
       "      <th>internet_no</th>\n",
       "      <th>internet_yes</th>\n",
       "    </tr>\n",
       "  </thead>\n",
       "  <tbody>\n",
       "    <tr>\n",
       "      <th>1</th>\n",
       "      <td>17.0</td>\n",
       "      <td>1</td>\n",
       "      <td>2</td>\n",
       "      <td>0</td>\n",
       "      <td>4</td>\n",
       "      <td>5.0</td>\n",
       "      <td>9</td>\n",
       "      <td>1</td>\n",
       "      <td>1</td>\n",
       "      <td>5</td>\n",
       "      <td>...</td>\n",
       "      <td>0</td>\n",
       "      <td>1</td>\n",
       "      <td>1</td>\n",
       "      <td>0</td>\n",
       "      <td>1</td>\n",
       "      <td>0</td>\n",
       "      <td>0</td>\n",
       "      <td>1</td>\n",
       "      <td>0</td>\n",
       "      <td>1</td>\n",
       "    </tr>\n",
       "    <tr>\n",
       "      <th>4</th>\n",
       "      <td>16.0</td>\n",
       "      <td>1</td>\n",
       "      <td>2</td>\n",
       "      <td>0</td>\n",
       "      <td>4</td>\n",
       "      <td>6.0</td>\n",
       "      <td>11</td>\n",
       "      <td>3</td>\n",
       "      <td>3</td>\n",
       "      <td>4</td>\n",
       "      <td>...</td>\n",
       "      <td>0</td>\n",
       "      <td>1</td>\n",
       "      <td>0</td>\n",
       "      <td>1</td>\n",
       "      <td>1</td>\n",
       "      <td>0</td>\n",
       "      <td>0</td>\n",
       "      <td>1</td>\n",
       "      <td>1</td>\n",
       "      <td>0</td>\n",
       "    </tr>\n",
       "    <tr>\n",
       "      <th>6</th>\n",
       "      <td>16.0</td>\n",
       "      <td>1</td>\n",
       "      <td>2</td>\n",
       "      <td>0</td>\n",
       "      <td>0</td>\n",
       "      <td>12.0</td>\n",
       "      <td>13</td>\n",
       "      <td>2</td>\n",
       "      <td>2</td>\n",
       "      <td>4</td>\n",
       "      <td>...</td>\n",
       "      <td>1</td>\n",
       "      <td>0</td>\n",
       "      <td>1</td>\n",
       "      <td>0</td>\n",
       "      <td>1</td>\n",
       "      <td>0</td>\n",
       "      <td>0</td>\n",
       "      <td>1</td>\n",
       "      <td>0</td>\n",
       "      <td>1</td>\n",
       "    </tr>\n",
       "    <tr>\n",
       "      <th>9</th>\n",
       "      <td>15.0</td>\n",
       "      <td>1</td>\n",
       "      <td>2</td>\n",
       "      <td>0</td>\n",
       "      <td>0</td>\n",
       "      <td>14.0</td>\n",
       "      <td>12</td>\n",
       "      <td>3</td>\n",
       "      <td>4</td>\n",
       "      <td>5</td>\n",
       "      <td>...</td>\n",
       "      <td>0</td>\n",
       "      <td>1</td>\n",
       "      <td>0</td>\n",
       "      <td>1</td>\n",
       "      <td>0</td>\n",
       "      <td>1</td>\n",
       "      <td>0</td>\n",
       "      <td>1</td>\n",
       "      <td>0</td>\n",
       "      <td>1</td>\n",
       "    </tr>\n",
       "    <tr>\n",
       "      <th>10</th>\n",
       "      <td>15.0</td>\n",
       "      <td>1</td>\n",
       "      <td>2</td>\n",
       "      <td>0</td>\n",
       "      <td>0</td>\n",
       "      <td>10.0</td>\n",
       "      <td>14</td>\n",
       "      <td>4</td>\n",
       "      <td>4</td>\n",
       "      <td>3</td>\n",
       "      <td>...</td>\n",
       "      <td>0</td>\n",
       "      <td>1</td>\n",
       "      <td>0</td>\n",
       "      <td>1</td>\n",
       "      <td>1</td>\n",
       "      <td>0</td>\n",
       "      <td>0</td>\n",
       "      <td>1</td>\n",
       "      <td>0</td>\n",
       "      <td>1</td>\n",
       "    </tr>\n",
       "    <tr>\n",
       "      <th>...</th>\n",
       "      <td>...</td>\n",
       "      <td>...</td>\n",
       "      <td>...</td>\n",
       "      <td>...</td>\n",
       "      <td>...</td>\n",
       "      <td>...</td>\n",
       "      <td>...</td>\n",
       "      <td>...</td>\n",
       "      <td>...</td>\n",
       "      <td>...</td>\n",
       "      <td>...</td>\n",
       "      <td>...</td>\n",
       "      <td>...</td>\n",
       "      <td>...</td>\n",
       "      <td>...</td>\n",
       "      <td>...</td>\n",
       "      <td>...</td>\n",
       "      <td>...</td>\n",
       "      <td>...</td>\n",
       "      <td>...</td>\n",
       "      <td>...</td>\n",
       "    </tr>\n",
       "    <tr>\n",
       "      <th>383</th>\n",
       "      <td>17.0</td>\n",
       "      <td>2</td>\n",
       "      <td>2</td>\n",
       "      <td>0</td>\n",
       "      <td>2</td>\n",
       "      <td>11.0</td>\n",
       "      <td>11</td>\n",
       "      <td>2</td>\n",
       "      <td>3</td>\n",
       "      <td>4</td>\n",
       "      <td>...</td>\n",
       "      <td>1</td>\n",
       "      <td>0</td>\n",
       "      <td>1</td>\n",
       "      <td>0</td>\n",
       "      <td>0</td>\n",
       "      <td>1</td>\n",
       "      <td>0</td>\n",
       "      <td>1</td>\n",
       "      <td>0</td>\n",
       "      <td>1</td>\n",
       "    </tr>\n",
       "    <tr>\n",
       "      <th>386</th>\n",
       "      <td>18.0</td>\n",
       "      <td>2</td>\n",
       "      <td>3</td>\n",
       "      <td>0</td>\n",
       "      <td>2</td>\n",
       "      <td>10.0</td>\n",
       "      <td>10</td>\n",
       "      <td>2</td>\n",
       "      <td>2</td>\n",
       "      <td>5</td>\n",
       "      <td>...</td>\n",
       "      <td>1</td>\n",
       "      <td>0</td>\n",
       "      <td>0</td>\n",
       "      <td>1</td>\n",
       "      <td>1</td>\n",
       "      <td>0</td>\n",
       "      <td>0</td>\n",
       "      <td>1</td>\n",
       "      <td>1</td>\n",
       "      <td>0</td>\n",
       "    </tr>\n",
       "    <tr>\n",
       "      <th>387</th>\n",
       "      <td>18.0</td>\n",
       "      <td>3</td>\n",
       "      <td>1</td>\n",
       "      <td>0</td>\n",
       "      <td>7</td>\n",
       "      <td>6.0</td>\n",
       "      <td>15</td>\n",
       "      <td>4</td>\n",
       "      <td>4</td>\n",
       "      <td>4</td>\n",
       "      <td>...</td>\n",
       "      <td>0</td>\n",
       "      <td>1</td>\n",
       "      <td>0</td>\n",
       "      <td>1</td>\n",
       "      <td>0</td>\n",
       "      <td>1</td>\n",
       "      <td>0</td>\n",
       "      <td>1</td>\n",
       "      <td>0</td>\n",
       "      <td>1</td>\n",
       "    </tr>\n",
       "    <tr>\n",
       "      <th>389</th>\n",
       "      <td>18.0</td>\n",
       "      <td>1</td>\n",
       "      <td>2</td>\n",
       "      <td>0</td>\n",
       "      <td>0</td>\n",
       "      <td>7.0</td>\n",
       "      <td>10</td>\n",
       "      <td>3</td>\n",
       "      <td>1</td>\n",
       "      <td>4</td>\n",
       "      <td>...</td>\n",
       "      <td>0</td>\n",
       "      <td>1</td>\n",
       "      <td>0</td>\n",
       "      <td>1</td>\n",
       "      <td>1</td>\n",
       "      <td>0</td>\n",
       "      <td>0</td>\n",
       "      <td>1</td>\n",
       "      <td>0</td>\n",
       "      <td>1</td>\n",
       "    </tr>\n",
       "    <tr>\n",
       "      <th>394</th>\n",
       "      <td>18.0</td>\n",
       "      <td>3</td>\n",
       "      <td>1</td>\n",
       "      <td>0</td>\n",
       "      <td>0</td>\n",
       "      <td>11.0</td>\n",
       "      <td>14</td>\n",
       "      <td>3</td>\n",
       "      <td>2</td>\n",
       "      <td>4</td>\n",
       "      <td>...</td>\n",
       "      <td>1</td>\n",
       "      <td>0</td>\n",
       "      <td>1</td>\n",
       "      <td>0</td>\n",
       "      <td>1</td>\n",
       "      <td>0</td>\n",
       "      <td>0</td>\n",
       "      <td>1</td>\n",
       "      <td>0</td>\n",
       "      <td>1</td>\n",
       "    </tr>\n",
       "  </tbody>\n",
       "</table>\n",
       "<p>197 rows × 45 columns</p>\n",
       "</div>"
      ],
      "text/plain": [
       "      age  traveltime  studytime  failures  absences  Math_G1  Language_G1  \\\n",
       "1    17.0           1          2         0         4      5.0            9   \n",
       "4    16.0           1          2         0         4      6.0           11   \n",
       "6    16.0           1          2         0         0     12.0           13   \n",
       "9    15.0           1          2         0         0     14.0           12   \n",
       "10   15.0           1          2         0         0     10.0           14   \n",
       "..    ...         ...        ...       ...       ...      ...          ...   \n",
       "383  17.0           2          2         0         2     11.0           11   \n",
       "386  18.0           2          3         0         2     10.0           10   \n",
       "387  18.0           3          1         0         7      6.0           15   \n",
       "389  18.0           1          2         0         0      7.0           10   \n",
       "394  18.0           3          1         0         0     11.0           14   \n",
       "\n",
       "     Medu  Fedu  famrel  ...  famsup_no  famsup_yes  paid_no  paid_yes  \\\n",
       "1       1     1       5  ...          0           1        1         0   \n",
       "4       3     3       4  ...          0           1        0         1   \n",
       "6       2     2       4  ...          1           0        1         0   \n",
       "9       3     4       5  ...          0           1        0         1   \n",
       "10      4     4       3  ...          0           1        0         1   \n",
       "..    ...   ...     ...  ...        ...         ...      ...       ...   \n",
       "383     2     3       4  ...          1           0        1         0   \n",
       "386     2     2       5  ...          1           0        0         1   \n",
       "387     4     4       4  ...          0           1        0         1   \n",
       "389     3     1       4  ...          0           1        0         1   \n",
       "394     3     2       4  ...          1           0        1         0   \n",
       "\n",
       "     activities_no  activities_yes  higher_no  higher_yes  internet_no  \\\n",
       "1                1               0          0           1            0   \n",
       "4                1               0          0           1            1   \n",
       "6                1               0          0           1            0   \n",
       "9                0               1          0           1            0   \n",
       "10               1               0          0           1            0   \n",
       "..             ...             ...        ...         ...          ...   \n",
       "383              0               1          0           1            0   \n",
       "386              1               0          0           1            1   \n",
       "387              0               1          0           1            0   \n",
       "389              1               0          0           1            0   \n",
       "394              1               0          0           1            0   \n",
       "\n",
       "     internet_yes  \n",
       "1               1  \n",
       "4               0  \n",
       "6               1  \n",
       "9               1  \n",
       "10              1  \n",
       "..            ...  \n",
       "383             1  \n",
       "386             0  \n",
       "387             1  \n",
       "389             1  \n",
       "394             1  \n",
       "\n",
       "[197 rows x 45 columns]"
      ]
     },
     "execution_count": 33,
     "metadata": {},
     "output_type": "execute_result"
    }
   ],
   "source": [
    "dummy"
   ]
  },
  {
   "cell_type": "markdown",
   "metadata": {},
   "source": [
    "## I choose to not normalize because all of our columns are categorical values. I don't need to change them into numbers.  "
   ]
  },
  {
   "cell_type": "markdown",
   "metadata": {},
   "source": [
    "## Split data for testing"
   ]
  },
  {
   "cell_type": "code",
   "execution_count": 34,
   "metadata": {},
   "outputs": [],
   "source": [
    "X = dummy.drop('underperformance', axis = 1)\n",
    "Y = df['underperformance']\n",
    "X_train, X_test, Y_train, Y_test = train_test_split(X, Y, test_size = 0.20, random_state=0)"
   ]
  },
  {
   "cell_type": "code",
   "execution_count": 35,
   "metadata": {},
   "outputs": [
    {
     "name": "stdout",
     "output_type": "stream",
     "text": [
      "      age  traveltime  studytime  failures  absences  Math_G1  Language_G1  \\\n",
      "1    17.0           1          2         0         4      5.0            9   \n",
      "4    16.0           1          2         0         4      6.0           11   \n",
      "6    16.0           1          2         0         0     12.0           13   \n",
      "9    15.0           1          2         0         0     14.0           12   \n",
      "10   15.0           1          2         0         0     10.0           14   \n",
      "..    ...         ...        ...       ...       ...      ...          ...   \n",
      "383  17.0           2          2         0         2     11.0           11   \n",
      "386  18.0           2          3         0         2     10.0           10   \n",
      "387  18.0           3          1         0         7      6.0           15   \n",
      "389  18.0           1          2         0         0      7.0           10   \n",
      "394  18.0           3          1         0         0     11.0           14   \n",
      "\n",
      "     Medu  Fedu  famrel  ...  famsup_no  famsup_yes  paid_no  paid_yes  \\\n",
      "1       1     1       5  ...          0           1        1         0   \n",
      "4       3     3       4  ...          0           1        0         1   \n",
      "6       2     2       4  ...          1           0        1         0   \n",
      "9       3     4       5  ...          0           1        0         1   \n",
      "10      4     4       3  ...          0           1        0         1   \n",
      "..    ...   ...     ...  ...        ...         ...      ...       ...   \n",
      "383     2     3       4  ...          1           0        1         0   \n",
      "386     2     2       5  ...          1           0        0         1   \n",
      "387     4     4       4  ...          0           1        0         1   \n",
      "389     3     1       4  ...          0           1        0         1   \n",
      "394     3     2       4  ...          1           0        1         0   \n",
      "\n",
      "     activities_no  activities_yes  higher_no  higher_yes  internet_no  \\\n",
      "1                1               0          0           1            0   \n",
      "4                1               0          0           1            1   \n",
      "6                1               0          0           1            0   \n",
      "9                0               1          0           1            0   \n",
      "10               1               0          0           1            0   \n",
      "..             ...             ...        ...         ...          ...   \n",
      "383              0               1          0           1            0   \n",
      "386              1               0          0           1            1   \n",
      "387              0               1          0           1            0   \n",
      "389              1               0          0           1            0   \n",
      "394              1               0          0           1            0   \n",
      "\n",
      "     internet_yes  \n",
      "1               1  \n",
      "4               0  \n",
      "6               1  \n",
      "9               1  \n",
      "10              1  \n",
      "..            ...  \n",
      "383             1  \n",
      "386             0  \n",
      "387             1  \n",
      "389             1  \n",
      "394             1  \n",
      "\n",
      "[197 rows x 44 columns]\n"
     ]
    }
   ],
   "source": [
    "print(X)"
   ]
  },
  {
   "cell_type": "code",
   "execution_count": 36,
   "metadata": {},
   "outputs": [
    {
     "name": "stdout",
     "output_type": "stream",
     "text": [
      "1      1\n",
      "4      0\n",
      "6      0\n",
      "9      0\n",
      "10     0\n",
      "      ..\n",
      "383    0\n",
      "386    0\n",
      "387    1\n",
      "389    1\n",
      "394    0\n",
      "Name: underperformance, Length: 197, dtype: int64\n"
     ]
    }
   ],
   "source": [
    "print(Y)"
   ]
  },
  {
   "cell_type": "markdown",
   "metadata": {},
   "source": [
    "## Now we start making our models including Math_G1 and Language_G1"
   ]
  },
  {
   "cell_type": "markdown",
   "metadata": {},
   "source": [
    "## Logistic Regression Model"
   ]
  },
  {
   "cell_type": "code",
   "execution_count": 37,
   "metadata": {},
   "outputs": [
    {
     "name": "stdout",
     "output_type": "stream",
     "text": [
      "              precision    recall  f1-score   support\n",
      "\n",
      "           0       0.96      0.81      0.88        32\n",
      "           1       0.54      0.88      0.67         8\n",
      "\n",
      "    accuracy                           0.82        40\n",
      "   macro avg       0.75      0.84      0.77        40\n",
      "weighted avg       0.88      0.82      0.84        40\n",
      "\n",
      "Accuracy Score is:  0.825\n"
     ]
    }
   ],
   "source": [
    "LR = LogisticRegression()\n",
    "LR.fit(X_train, Y_train)\n",
    "ourPrediction = LR.predict(X_test)\n",
    "print(classification_report(Y_test, ourPrediction))\n",
    "print(\"Accuracy Score is: \", accuracy_score(Y_test, ourPrediction))"
   ]
  },
  {
   "cell_type": "markdown",
   "metadata": {},
   "source": [
    "## Random Forest Model"
   ]
  },
  {
   "cell_type": "code",
   "execution_count": 38,
   "metadata": {},
   "outputs": [
    {
     "name": "stdout",
     "output_type": "stream",
     "text": [
      "              precision    recall  f1-score   support\n",
      "\n",
      "           0       0.94      0.94      0.94        32\n",
      "           1       0.75      0.75      0.75         8\n",
      "\n",
      "    accuracy                           0.90        40\n",
      "   macro avg       0.84      0.84      0.84        40\n",
      "weighted avg       0.90      0.90      0.90        40\n",
      "\n",
      "Accuracy Score is:  0.9\n"
     ]
    }
   ],
   "source": [
    "RF = RandomForestClassifier(n_estimators=100)\n",
    "RF.fit(X_train, Y_train)\n",
    "ourPrediction = RF.predict(X_test)\n",
    "print(classification_report(Y_test, ourPrediction))\n",
    "print(\"Accuracy Score is: \", accuracy_score(Y_test, ourPrediction))"
   ]
  },
  {
   "cell_type": "markdown",
   "metadata": {},
   "source": [
    "## Decision Tree Model w/ Gini"
   ]
  },
  {
   "cell_type": "code",
   "execution_count": 39,
   "metadata": {},
   "outputs": [
    {
     "name": "stdout",
     "output_type": "stream",
     "text": [
      "              precision    recall  f1-score   support\n",
      "\n",
      "           0       0.93      0.88      0.90        32\n",
      "           1       0.60      0.75      0.67         8\n",
      "\n",
      "    accuracy                           0.85        40\n",
      "   macro avg       0.77      0.81      0.78        40\n",
      "weighted avg       0.87      0.85      0.86        40\n",
      "\n",
      "Accuracy Score is:  0.85\n"
     ]
    }
   ],
   "source": [
    "DT = DecisionTreeClassifier(criterion='gini')\n",
    "DT.fit(X_train,Y_train)\n",
    "ourPrediction = DT.predict(X_test)\n",
    "print(classification_report(Y_test, ourPrediction))\n",
    "print(\"Accuracy Score is: \", accuracy_score(Y_test, ourPrediction))"
   ]
  },
  {
   "cell_type": "markdown",
   "metadata": {},
   "source": [
    "### We see that our most accurate model is the random forest model with an accuracy of 87.5% and both Random forest and logistic regression have the highest f1 score of .67 "
   ]
  },
  {
   "cell_type": "markdown",
   "metadata": {},
   "source": [
    "## Cross Validation"
   ]
  },
  {
   "cell_type": "code",
   "execution_count": 40,
   "metadata": {},
   "outputs": [],
   "source": [
    "from sklearn.model_selection import cross_val_score"
   ]
  },
  {
   "cell_type": "code",
   "execution_count": 41,
   "metadata": {},
   "outputs": [],
   "source": [
    "import random\n",
    "from sklearn.model_selection import train_test_split\n",
    "from sklearn import metrics"
   ]
  },
  {
   "cell_type": "markdown",
   "metadata": {},
   "source": [
    "### Logistic Regression Cross Validation"
   ]
  },
  {
   "cell_type": "code",
   "execution_count": 42,
   "metadata": {},
   "outputs": [
    {
     "name": "stdout",
     "output_type": "stream",
     "text": [
      "              precision    recall  f1-score   support\n",
      "\n",
      "           0       0.83      0.74      0.78        34\n",
      "           1       0.10      0.17      0.12         6\n",
      "\n",
      "    accuracy                           0.65        40\n",
      "   macro avg       0.47      0.45      0.45        40\n",
      "weighted avg       0.72      0.65      0.68        40\n",
      "\n",
      "Accuracy Score is:  0.65\n",
      "              precision    recall  f1-score   support\n",
      "\n",
      "           0       0.87      0.79      0.83        33\n",
      "           1       0.30      0.43      0.35         7\n",
      "\n",
      "    accuracy                           0.73        40\n",
      "   macro avg       0.58      0.61      0.59        40\n",
      "weighted avg       0.77      0.72      0.74        40\n",
      "\n",
      "Accuracy Score is:  0.725\n",
      "              precision    recall  f1-score   support\n",
      "\n",
      "           0       0.83      0.83      0.83        30\n",
      "           1       0.50      0.50      0.50        10\n",
      "\n",
      "    accuracy                           0.75        40\n",
      "   macro avg       0.67      0.67      0.67        40\n",
      "weighted avg       0.75      0.75      0.75        40\n",
      "\n",
      "Accuracy Score is:  0.75\n",
      "              precision    recall  f1-score   support\n",
      "\n",
      "           0       0.77      0.77      0.77        30\n",
      "           1       0.30      0.30      0.30        10\n",
      "\n",
      "    accuracy                           0.65        40\n",
      "   macro avg       0.53      0.53      0.53        40\n",
      "weighted avg       0.65      0.65      0.65        40\n",
      "\n",
      "Accuracy Score is:  0.65\n",
      "              precision    recall  f1-score   support\n",
      "\n",
      "           0       0.83      0.76      0.79        33\n",
      "           1       0.20      0.29      0.24         7\n",
      "\n",
      "    accuracy                           0.68        40\n",
      "   macro avg       0.52      0.52      0.51        40\n",
      "weighted avg       0.72      0.68      0.70        40\n",
      "\n",
      "Accuracy Score is:  0.675\n",
      "              precision    recall  f1-score   support\n",
      "\n",
      "           0       0.77      0.77      0.77        30\n",
      "           1       0.30      0.30      0.30        10\n",
      "\n",
      "    accuracy                           0.65        40\n",
      "   macro avg       0.53      0.53      0.53        40\n",
      "weighted avg       0.65      0.65      0.65        40\n",
      "\n",
      "Accuracy Score is:  0.65\n",
      "              precision    recall  f1-score   support\n",
      "\n",
      "           0       0.73      0.73      0.73        30\n",
      "           1       0.20      0.20      0.20        10\n",
      "\n",
      "    accuracy                           0.60        40\n",
      "   macro avg       0.47      0.47      0.47        40\n",
      "weighted avg       0.60      0.60      0.60        40\n",
      "\n",
      "Accuracy Score is:  0.6\n",
      "              precision    recall  f1-score   support\n",
      "\n",
      "           0       0.77      0.74      0.75        31\n",
      "           1       0.20      0.22      0.21         9\n",
      "\n",
      "    accuracy                           0.62        40\n",
      "   macro avg       0.48      0.48      0.48        40\n",
      "weighted avg       0.64      0.62      0.63        40\n",
      "\n",
      "Accuracy Score is:  0.625\n",
      "              precision    recall  f1-score   support\n",
      "\n",
      "           0       0.77      0.74      0.75        31\n",
      "           1       0.20      0.22      0.21         9\n",
      "\n",
      "    accuracy                           0.62        40\n",
      "   macro avg       0.48      0.48      0.48        40\n",
      "weighted avg       0.64      0.62      0.63        40\n",
      "\n",
      "Accuracy Score is:  0.625\n",
      "              precision    recall  f1-score   support\n",
      "\n",
      "           0       0.83      0.74      0.78        34\n",
      "           1       0.10      0.17      0.12         6\n",
      "\n",
      "    accuracy                           0.65        40\n",
      "   macro avg       0.47      0.45      0.45        40\n",
      "weighted avg       0.72      0.65      0.68        40\n",
      "\n",
      "Accuracy Score is:  0.65\n"
     ]
    }
   ],
   "source": [
    "for i in range(10):\n",
    "    X_train, X_test, Y_train, Y_test = train_test_split(X, Y, test_size=0.2, random_state = random.randint(1,1000))\n",
    "    model = LR\n",
    "    model.fit(X_train, Y_train)\n",
    "    print(classification_report(Y_test, ourPrediction))\n",
    "    print(\"Accuracy Score is: \", accuracy_score(Y_test, ourPrediction))\n",
    "    Y_pred = model.predict(X_test)"
   ]
  },
  {
   "cell_type": "code",
   "execution_count": 43,
   "metadata": {},
   "outputs": [
    {
     "name": "stdout",
     "output_type": "stream",
     "text": [
      "Accuracy Score is:  0.65\n"
     ]
    }
   ],
   "source": [
    "print(\"Accuracy Score is: \", accuracy_score(Y_test, ourPrediction))"
   ]
  },
  {
   "cell_type": "code",
   "execution_count": 44,
   "metadata": {},
   "outputs": [
    {
     "data": {
      "text/plain": [
       "array([0.875     , 1.        , 0.75      , 0.875     , 0.875     ,\n",
       "       0.875     , 0.875     , 0.8       , 0.93333333, 0.73333333])"
      ]
     },
     "execution_count": 44,
     "metadata": {},
     "output_type": "execute_result"
    }
   ],
   "source": [
    "result = cross_val_score(LR, X_train, Y_train, cv=10)\n",
    "result"
   ]
  },
  {
   "cell_type": "markdown",
   "metadata": {},
   "source": [
    "#### I would say the model passes cross validation because our values are very close to each other. Our highest f1 score was .40"
   ]
  },
  {
   "cell_type": "markdown",
   "metadata": {},
   "source": [
    "### Random Forest Cross Validation"
   ]
  },
  {
   "cell_type": "code",
   "execution_count": 45,
   "metadata": {},
   "outputs": [
    {
     "name": "stdout",
     "output_type": "stream",
     "text": [
      "Trial:1\n",
      "              precision    recall  f1-score   support\n",
      "\n",
      "           0       0.80      0.75      0.77        32\n",
      "           1       0.20      0.25      0.22         8\n",
      "\n",
      "    accuracy                           0.65        40\n",
      "   macro avg       0.50      0.50      0.50        40\n",
      "weighted avg       0.68      0.65      0.66        40\n",
      "\n",
      "Accuracy Score is:  0.65\n",
      "Trial:2\n",
      "              precision    recall  f1-score   support\n",
      "\n",
      "           0       0.73      0.71      0.72        31\n",
      "           1       0.10      0.11      0.11         9\n",
      "\n",
      "    accuracy                           0.57        40\n",
      "   macro avg       0.42      0.41      0.41        40\n",
      "weighted avg       0.59      0.57      0.58        40\n",
      "\n",
      "Accuracy Score is:  0.575\n",
      "Trial:3\n",
      "              precision    recall  f1-score   support\n",
      "\n",
      "           0       0.67      0.71      0.69        28\n",
      "           1       0.20      0.17      0.18        12\n",
      "\n",
      "    accuracy                           0.55        40\n",
      "   macro avg       0.43      0.44      0.44        40\n",
      "weighted avg       0.53      0.55      0.54        40\n",
      "\n",
      "Accuracy Score is:  0.55\n",
      "Trial:4\n",
      "              precision    recall  f1-score   support\n",
      "\n",
      "           0       0.70      0.78      0.74        27\n",
      "           1       0.40      0.31      0.35        13\n",
      "\n",
      "    accuracy                           0.62        40\n",
      "   macro avg       0.55      0.54      0.54        40\n",
      "weighted avg       0.60      0.62      0.61        40\n",
      "\n",
      "Accuracy Score is:  0.625\n",
      "Trial:5\n",
      "              precision    recall  f1-score   support\n",
      "\n",
      "           0       0.63      0.73      0.68        26\n",
      "           1       0.30      0.21      0.25        14\n",
      "\n",
      "    accuracy                           0.55        40\n",
      "   macro avg       0.47      0.47      0.46        40\n",
      "weighted avg       0.52      0.55      0.53        40\n",
      "\n",
      "Accuracy Score is:  0.55\n",
      "Trial:6\n",
      "              precision    recall  f1-score   support\n",
      "\n",
      "           0       0.83      0.78      0.81        32\n",
      "           1       0.30      0.38      0.33         8\n",
      "\n",
      "    accuracy                           0.70        40\n",
      "   macro avg       0.57      0.58      0.57        40\n",
      "weighted avg       0.73      0.70      0.71        40\n",
      "\n",
      "Accuracy Score is:  0.7\n",
      "Trial:7\n",
      "              precision    recall  f1-score   support\n",
      "\n",
      "           0       0.73      0.71      0.72        31\n",
      "           1       0.10      0.11      0.11         9\n",
      "\n",
      "    accuracy                           0.57        40\n",
      "   macro avg       0.42      0.41      0.41        40\n",
      "weighted avg       0.59      0.57      0.58        40\n",
      "\n",
      "Accuracy Score is:  0.575\n",
      "Trial:8\n",
      "              precision    recall  f1-score   support\n",
      "\n",
      "           0       0.77      0.74      0.75        31\n",
      "           1       0.20      0.22      0.21         9\n",
      "\n",
      "    accuracy                           0.62        40\n",
      "   macro avg       0.48      0.48      0.48        40\n",
      "weighted avg       0.64      0.62      0.63        40\n",
      "\n",
      "Accuracy Score is:  0.625\n",
      "Trial:9\n",
      "              precision    recall  f1-score   support\n",
      "\n",
      "           0       0.83      0.74      0.78        34\n",
      "           1       0.10      0.17      0.12         6\n",
      "\n",
      "    accuracy                           0.65        40\n",
      "   macro avg       0.47      0.45      0.45        40\n",
      "weighted avg       0.72      0.65      0.68        40\n",
      "\n",
      "Accuracy Score is:  0.65\n",
      "Trial:10\n",
      "              precision    recall  f1-score   support\n",
      "\n",
      "           0       0.87      0.76      0.81        34\n",
      "           1       0.20      0.33      0.25         6\n",
      "\n",
      "    accuracy                           0.70        40\n",
      "   macro avg       0.53      0.55      0.53        40\n",
      "weighted avg       0.77      0.70      0.73        40\n",
      "\n",
      "Accuracy Score is:  0.7\n"
     ]
    }
   ],
   "source": [
    "counter = 1 \n",
    "for i in range(10):\n",
    "    X_train, X_test, Y_train, Y_test = train_test_split(X, Y, test_size=0.2, random_state = random.randint(1,1000))\n",
    "    model = RF\n",
    "    model.fit(X_train, Y_train)\n",
    "    Y_pred = model.predict(X_test)\n",
    "    print('Trial:' + str(counter))\n",
    "    print(classification_report(Y_test, ourPrediction))\n",
    "    print(\"Accuracy Score is: \", accuracy_score(Y_test, ourPrediction))\n",
    "    counter = counter + 1"
   ]
  },
  {
   "cell_type": "code",
   "execution_count": 46,
   "metadata": {},
   "outputs": [
    {
     "data": {
      "text/plain": [
       "array([0.9375    , 0.75      , 0.8125    , 0.9375    , 0.9375    ,\n",
       "       0.8125    , 0.9375    , 0.86666667, 0.8       , 0.73333333])"
      ]
     },
     "execution_count": 46,
     "metadata": {},
     "output_type": "execute_result"
    }
   ],
   "source": [
    "result = cross_val_score(RF, X_train, Y_train, cv=10)\n",
    "result"
   ]
  },
  {
   "cell_type": "markdown",
   "metadata": {},
   "source": [
    "### We see that the accuracy scores are pretty close to each other most of the time and I would say the model passes cross validation. Our highest f1 score was .40"
   ]
  },
  {
   "cell_type": "markdown",
   "metadata": {},
   "source": [
    "## Decision Tree Model with Gini Cross Validation "
   ]
  },
  {
   "cell_type": "code",
   "execution_count": 47,
   "metadata": {},
   "outputs": [
    {
     "name": "stdout",
     "output_type": "stream",
     "text": [
      "Trial:1\n",
      "              precision    recall  f1-score   support\n",
      "\n",
      "           0       0.83      0.71      0.77        35\n",
      "           1       0.00      0.00      0.00         5\n",
      "\n",
      "    accuracy                           0.62        40\n",
      "   macro avg       0.42      0.36      0.38        40\n",
      "weighted avg       0.73      0.62      0.67        40\n",
      "\n",
      "Accuracy Score is:  0.625\n",
      "Trial:2\n",
      "              precision    recall  f1-score   support\n",
      "\n",
      "           0       0.70      0.72      0.71        29\n",
      "           1       0.20      0.18      0.19        11\n",
      "\n",
      "    accuracy                           0.57        40\n",
      "   macro avg       0.45      0.45      0.45        40\n",
      "weighted avg       0.56      0.57      0.57        40\n",
      "\n",
      "Accuracy Score is:  0.575\n",
      "Trial:3\n",
      "              precision    recall  f1-score   support\n",
      "\n",
      "           0       0.70      0.72      0.71        29\n",
      "           1       0.20      0.18      0.19        11\n",
      "\n",
      "    accuracy                           0.57        40\n",
      "   macro avg       0.45      0.45      0.45        40\n",
      "weighted avg       0.56      0.57      0.57        40\n",
      "\n",
      "Accuracy Score is:  0.575\n",
      "Trial:4\n",
      "              precision    recall  f1-score   support\n",
      "\n",
      "           0       0.80      0.75      0.77        32\n",
      "           1       0.20      0.25      0.22         8\n",
      "\n",
      "    accuracy                           0.65        40\n",
      "   macro avg       0.50      0.50      0.50        40\n",
      "weighted avg       0.68      0.65      0.66        40\n",
      "\n",
      "Accuracy Score is:  0.65\n",
      "Trial:5\n",
      "              precision    recall  f1-score   support\n",
      "\n",
      "           0       0.83      0.81      0.82        31\n",
      "           1       0.40      0.44      0.42         9\n",
      "\n",
      "    accuracy                           0.73        40\n",
      "   macro avg       0.62      0.63      0.62        40\n",
      "weighted avg       0.74      0.72      0.73        40\n",
      "\n",
      "Accuracy Score is:  0.725\n",
      "Trial:6\n",
      "              precision    recall  f1-score   support\n",
      "\n",
      "           0       0.67      0.67      0.67        30\n",
      "           1       0.00      0.00      0.00        10\n",
      "\n",
      "    accuracy                           0.50        40\n",
      "   macro avg       0.33      0.33      0.33        40\n",
      "weighted avg       0.50      0.50      0.50        40\n",
      "\n",
      "Accuracy Score is:  0.5\n",
      "Trial:7\n",
      "              precision    recall  f1-score   support\n",
      "\n",
      "           0       0.67      0.77      0.71        26\n",
      "           1       0.40      0.29      0.33        14\n",
      "\n",
      "    accuracy                           0.60        40\n",
      "   macro avg       0.53      0.53      0.52        40\n",
      "weighted avg       0.57      0.60      0.58        40\n",
      "\n",
      "Accuracy Score is:  0.6\n",
      "Trial:8\n",
      "              precision    recall  f1-score   support\n",
      "\n",
      "           0       0.80      0.86      0.83        28\n",
      "           1       0.60      0.50      0.55        12\n",
      "\n",
      "    accuracy                           0.75        40\n",
      "   macro avg       0.70      0.68      0.69        40\n",
      "weighted avg       0.74      0.75      0.74        40\n",
      "\n",
      "Accuracy Score is:  0.75\n",
      "Trial:9\n",
      "              precision    recall  f1-score   support\n",
      "\n",
      "           0       0.67      0.71      0.69        28\n",
      "           1       0.20      0.17      0.18        12\n",
      "\n",
      "    accuracy                           0.55        40\n",
      "   macro avg       0.43      0.44      0.44        40\n",
      "weighted avg       0.53      0.55      0.54        40\n",
      "\n",
      "Accuracy Score is:  0.55\n",
      "Trial:10\n",
      "              precision    recall  f1-score   support\n",
      "\n",
      "           0       0.73      0.85      0.79        26\n",
      "           1       0.60      0.43      0.50        14\n",
      "\n",
      "    accuracy                           0.70        40\n",
      "   macro avg       0.67      0.64      0.64        40\n",
      "weighted avg       0.69      0.70      0.69        40\n",
      "\n",
      "Accuracy Score is:  0.7\n"
     ]
    }
   ],
   "source": [
    "counter = 1 \n",
    "for i in range(10):\n",
    "    X_train, X_test, Y_train, Y_test = train_test_split(X, Y, test_size=0.2, random_state = random.randint(1,1000))\n",
    "    model = DT\n",
    "    model.fit(X_train, Y_train)\n",
    "    Y_pred = model.predict(X_test)\n",
    "    print('Trial:' + str(counter))\n",
    "    print(classification_report(Y_test, ourPrediction))\n",
    "    print(\"Accuracy Score is: \", accuracy_score(Y_test, ourPrediction))\n",
    "    counter = counter + 1"
   ]
  },
  {
   "cell_type": "code",
   "execution_count": 48,
   "metadata": {},
   "outputs": [
    {
     "data": {
      "text/plain": [
       "array([1.        , 0.75      , 0.8125    , 0.875     , 0.8125    ,\n",
       "       0.75      , 0.875     , 0.93333333, 0.8       , 0.8       ])"
      ]
     },
     "execution_count": 48,
     "metadata": {},
     "output_type": "execute_result"
    }
   ],
   "source": [
    "result = cross_val_score(DT, X_train, Y_train, cv=10)\n",
    "result"
   ]
  },
  {
   "cell_type": "markdown",
   "metadata": {},
   "source": [
    "### The values are not very close to each other here, so I would not say this model passes cross validation because the values are not close to each other."
   ]
  },
  {
   "cell_type": "markdown",
   "metadata": {},
   "source": [
    "### From our models, we see that  our highest f1 was .40, which was shared across all the models. "
   ]
  },
  {
   "cell_type": "markdown",
   "metadata": {},
   "source": [
    "## Now we perform same model procedure above but drop Math_G1 and Language_G1"
   ]
  },
  {
   "cell_type": "code",
   "execution_count": 49,
   "metadata": {},
   "outputs": [
    {
     "data": {
      "text/html": [
       "<div>\n",
       "<style scoped>\n",
       "    .dataframe tbody tr th:only-of-type {\n",
       "        vertical-align: middle;\n",
       "    }\n",
       "\n",
       "    .dataframe tbody tr th {\n",
       "        vertical-align: top;\n",
       "    }\n",
       "\n",
       "    .dataframe thead th {\n",
       "        text-align: right;\n",
       "    }\n",
       "</style>\n",
       "<table border=\"1\" class=\"dataframe\">\n",
       "  <thead>\n",
       "    <tr style=\"text-align: right;\">\n",
       "      <th></th>\n",
       "      <th>age</th>\n",
       "      <th>traveltime</th>\n",
       "      <th>studytime</th>\n",
       "      <th>failures</th>\n",
       "      <th>absences</th>\n",
       "      <th>Medu</th>\n",
       "      <th>Fedu</th>\n",
       "      <th>famrel</th>\n",
       "      <th>freetime</th>\n",
       "      <th>Dalc</th>\n",
       "      <th>...</th>\n",
       "      <th>famsup_no</th>\n",
       "      <th>famsup_yes</th>\n",
       "      <th>paid_no</th>\n",
       "      <th>paid_yes</th>\n",
       "      <th>activities_no</th>\n",
       "      <th>activities_yes</th>\n",
       "      <th>higher_no</th>\n",
       "      <th>higher_yes</th>\n",
       "      <th>internet_no</th>\n",
       "      <th>internet_yes</th>\n",
       "    </tr>\n",
       "  </thead>\n",
       "  <tbody>\n",
       "    <tr>\n",
       "      <th>1</th>\n",
       "      <td>17.0</td>\n",
       "      <td>1</td>\n",
       "      <td>2</td>\n",
       "      <td>0</td>\n",
       "      <td>4</td>\n",
       "      <td>1</td>\n",
       "      <td>1</td>\n",
       "      <td>5</td>\n",
       "      <td>3</td>\n",
       "      <td>1</td>\n",
       "      <td>...</td>\n",
       "      <td>0</td>\n",
       "      <td>1</td>\n",
       "      <td>1</td>\n",
       "      <td>0</td>\n",
       "      <td>1</td>\n",
       "      <td>0</td>\n",
       "      <td>0</td>\n",
       "      <td>1</td>\n",
       "      <td>0</td>\n",
       "      <td>1</td>\n",
       "    </tr>\n",
       "    <tr>\n",
       "      <th>4</th>\n",
       "      <td>16.0</td>\n",
       "      <td>1</td>\n",
       "      <td>2</td>\n",
       "      <td>0</td>\n",
       "      <td>4</td>\n",
       "      <td>3</td>\n",
       "      <td>3</td>\n",
       "      <td>4</td>\n",
       "      <td>3</td>\n",
       "      <td>1</td>\n",
       "      <td>...</td>\n",
       "      <td>0</td>\n",
       "      <td>1</td>\n",
       "      <td>0</td>\n",
       "      <td>1</td>\n",
       "      <td>1</td>\n",
       "      <td>0</td>\n",
       "      <td>0</td>\n",
       "      <td>1</td>\n",
       "      <td>1</td>\n",
       "      <td>0</td>\n",
       "    </tr>\n",
       "    <tr>\n",
       "      <th>6</th>\n",
       "      <td>16.0</td>\n",
       "      <td>1</td>\n",
       "      <td>2</td>\n",
       "      <td>0</td>\n",
       "      <td>0</td>\n",
       "      <td>2</td>\n",
       "      <td>2</td>\n",
       "      <td>4</td>\n",
       "      <td>4</td>\n",
       "      <td>1</td>\n",
       "      <td>...</td>\n",
       "      <td>1</td>\n",
       "      <td>0</td>\n",
       "      <td>1</td>\n",
       "      <td>0</td>\n",
       "      <td>1</td>\n",
       "      <td>0</td>\n",
       "      <td>0</td>\n",
       "      <td>1</td>\n",
       "      <td>0</td>\n",
       "      <td>1</td>\n",
       "    </tr>\n",
       "    <tr>\n",
       "      <th>9</th>\n",
       "      <td>15.0</td>\n",
       "      <td>1</td>\n",
       "      <td>2</td>\n",
       "      <td>0</td>\n",
       "      <td>0</td>\n",
       "      <td>3</td>\n",
       "      <td>4</td>\n",
       "      <td>5</td>\n",
       "      <td>5</td>\n",
       "      <td>1</td>\n",
       "      <td>...</td>\n",
       "      <td>0</td>\n",
       "      <td>1</td>\n",
       "      <td>0</td>\n",
       "      <td>1</td>\n",
       "      <td>0</td>\n",
       "      <td>1</td>\n",
       "      <td>0</td>\n",
       "      <td>1</td>\n",
       "      <td>0</td>\n",
       "      <td>1</td>\n",
       "    </tr>\n",
       "    <tr>\n",
       "      <th>10</th>\n",
       "      <td>15.0</td>\n",
       "      <td>1</td>\n",
       "      <td>2</td>\n",
       "      <td>0</td>\n",
       "      <td>0</td>\n",
       "      <td>4</td>\n",
       "      <td>4</td>\n",
       "      <td>3</td>\n",
       "      <td>3</td>\n",
       "      <td>1</td>\n",
       "      <td>...</td>\n",
       "      <td>0</td>\n",
       "      <td>1</td>\n",
       "      <td>0</td>\n",
       "      <td>1</td>\n",
       "      <td>1</td>\n",
       "      <td>0</td>\n",
       "      <td>0</td>\n",
       "      <td>1</td>\n",
       "      <td>0</td>\n",
       "      <td>1</td>\n",
       "    </tr>\n",
       "    <tr>\n",
       "      <th>...</th>\n",
       "      <td>...</td>\n",
       "      <td>...</td>\n",
       "      <td>...</td>\n",
       "      <td>...</td>\n",
       "      <td>...</td>\n",
       "      <td>...</td>\n",
       "      <td>...</td>\n",
       "      <td>...</td>\n",
       "      <td>...</td>\n",
       "      <td>...</td>\n",
       "      <td>...</td>\n",
       "      <td>...</td>\n",
       "      <td>...</td>\n",
       "      <td>...</td>\n",
       "      <td>...</td>\n",
       "      <td>...</td>\n",
       "      <td>...</td>\n",
       "      <td>...</td>\n",
       "      <td>...</td>\n",
       "      <td>...</td>\n",
       "      <td>...</td>\n",
       "    </tr>\n",
       "    <tr>\n",
       "      <th>383</th>\n",
       "      <td>17.0</td>\n",
       "      <td>2</td>\n",
       "      <td>2</td>\n",
       "      <td>0</td>\n",
       "      <td>2</td>\n",
       "      <td>2</td>\n",
       "      <td>3</td>\n",
       "      <td>4</td>\n",
       "      <td>4</td>\n",
       "      <td>1</td>\n",
       "      <td>...</td>\n",
       "      <td>1</td>\n",
       "      <td>0</td>\n",
       "      <td>1</td>\n",
       "      <td>0</td>\n",
       "      <td>0</td>\n",
       "      <td>1</td>\n",
       "      <td>0</td>\n",
       "      <td>1</td>\n",
       "      <td>0</td>\n",
       "      <td>1</td>\n",
       "    </tr>\n",
       "    <tr>\n",
       "      <th>386</th>\n",
       "      <td>18.0</td>\n",
       "      <td>2</td>\n",
       "      <td>3</td>\n",
       "      <td>0</td>\n",
       "      <td>2</td>\n",
       "      <td>2</td>\n",
       "      <td>2</td>\n",
       "      <td>5</td>\n",
       "      <td>3</td>\n",
       "      <td>1</td>\n",
       "      <td>...</td>\n",
       "      <td>1</td>\n",
       "      <td>0</td>\n",
       "      <td>0</td>\n",
       "      <td>1</td>\n",
       "      <td>1</td>\n",
       "      <td>0</td>\n",
       "      <td>0</td>\n",
       "      <td>1</td>\n",
       "      <td>1</td>\n",
       "      <td>0</td>\n",
       "    </tr>\n",
       "    <tr>\n",
       "      <th>387</th>\n",
       "      <td>18.0</td>\n",
       "      <td>3</td>\n",
       "      <td>1</td>\n",
       "      <td>0</td>\n",
       "      <td>7</td>\n",
       "      <td>4</td>\n",
       "      <td>4</td>\n",
       "      <td>4</td>\n",
       "      <td>4</td>\n",
       "      <td>2</td>\n",
       "      <td>...</td>\n",
       "      <td>0</td>\n",
       "      <td>1</td>\n",
       "      <td>0</td>\n",
       "      <td>1</td>\n",
       "      <td>0</td>\n",
       "      <td>1</td>\n",
       "      <td>0</td>\n",
       "      <td>1</td>\n",
       "      <td>0</td>\n",
       "      <td>1</td>\n",
       "    </tr>\n",
       "    <tr>\n",
       "      <th>389</th>\n",
       "      <td>18.0</td>\n",
       "      <td>1</td>\n",
       "      <td>2</td>\n",
       "      <td>0</td>\n",
       "      <td>0</td>\n",
       "      <td>3</td>\n",
       "      <td>1</td>\n",
       "      <td>4</td>\n",
       "      <td>3</td>\n",
       "      <td>1</td>\n",
       "      <td>...</td>\n",
       "      <td>0</td>\n",
       "      <td>1</td>\n",
       "      <td>0</td>\n",
       "      <td>1</td>\n",
       "      <td>1</td>\n",
       "      <td>0</td>\n",
       "      <td>0</td>\n",
       "      <td>1</td>\n",
       "      <td>0</td>\n",
       "      <td>1</td>\n",
       "    </tr>\n",
       "    <tr>\n",
       "      <th>394</th>\n",
       "      <td>18.0</td>\n",
       "      <td>3</td>\n",
       "      <td>1</td>\n",
       "      <td>0</td>\n",
       "      <td>0</td>\n",
       "      <td>3</td>\n",
       "      <td>2</td>\n",
       "      <td>4</td>\n",
       "      <td>4</td>\n",
       "      <td>3</td>\n",
       "      <td>...</td>\n",
       "      <td>1</td>\n",
       "      <td>0</td>\n",
       "      <td>1</td>\n",
       "      <td>0</td>\n",
       "      <td>1</td>\n",
       "      <td>0</td>\n",
       "      <td>0</td>\n",
       "      <td>1</td>\n",
       "      <td>0</td>\n",
       "      <td>1</td>\n",
       "    </tr>\n",
       "  </tbody>\n",
       "</table>\n",
       "<p>197 rows × 43 columns</p>\n",
       "</div>"
      ],
      "text/plain": [
       "      age  traveltime  studytime  failures  absences  Medu  Fedu  famrel  \\\n",
       "1    17.0           1          2         0         4     1     1       5   \n",
       "4    16.0           1          2         0         4     3     3       4   \n",
       "6    16.0           1          2         0         0     2     2       4   \n",
       "9    15.0           1          2         0         0     3     4       5   \n",
       "10   15.0           1          2         0         0     4     4       3   \n",
       "..    ...         ...        ...       ...       ...   ...   ...     ...   \n",
       "383  17.0           2          2         0         2     2     3       4   \n",
       "386  18.0           2          3         0         2     2     2       5   \n",
       "387  18.0           3          1         0         7     4     4       4   \n",
       "389  18.0           1          2         0         0     3     1       4   \n",
       "394  18.0           3          1         0         0     3     2       4   \n",
       "\n",
       "     freetime  Dalc  ...  famsup_no  famsup_yes  paid_no  paid_yes  \\\n",
       "1           3     1  ...          0           1        1         0   \n",
       "4           3     1  ...          0           1        0         1   \n",
       "6           4     1  ...          1           0        1         0   \n",
       "9           5     1  ...          0           1        0         1   \n",
       "10          3     1  ...          0           1        0         1   \n",
       "..        ...   ...  ...        ...         ...      ...       ...   \n",
       "383         4     1  ...          1           0        1         0   \n",
       "386         3     1  ...          1           0        0         1   \n",
       "387         4     2  ...          0           1        0         1   \n",
       "389         3     1  ...          0           1        0         1   \n",
       "394         4     3  ...          1           0        1         0   \n",
       "\n",
       "     activities_no  activities_yes  higher_no  higher_yes  internet_no  \\\n",
       "1                1               0          0           1            0   \n",
       "4                1               0          0           1            1   \n",
       "6                1               0          0           1            0   \n",
       "9                0               1          0           1            0   \n",
       "10               1               0          0           1            0   \n",
       "..             ...             ...        ...         ...          ...   \n",
       "383              0               1          0           1            0   \n",
       "386              1               0          0           1            1   \n",
       "387              0               1          0           1            0   \n",
       "389              1               0          0           1            0   \n",
       "394              1               0          0           1            0   \n",
       "\n",
       "     internet_yes  \n",
       "1               1  \n",
       "4               0  \n",
       "6               1  \n",
       "9               1  \n",
       "10              1  \n",
       "..            ...  \n",
       "383             1  \n",
       "386             0  \n",
       "387             1  \n",
       "389             1  \n",
       "394             1  \n",
       "\n",
       "[197 rows x 43 columns]"
      ]
     },
     "execution_count": 49,
     "metadata": {},
     "output_type": "execute_result"
    }
   ],
   "source": [
    "dummy2 = pd.get_dummies(df)\n",
    "dummy2.drop('Math_G1', axis =1, inplace = True)\n",
    "dummy2.drop('Language_G1', axis = 1, inplace = True)\n",
    "dummy2\n"
   ]
  },
  {
   "cell_type": "code",
   "execution_count": 50,
   "metadata": {},
   "outputs": [],
   "source": [
    "X = dummy2.drop('underperformance', axis = 1)\n",
    "Y = df['underperformance']\n",
    "\n",
    "X_train, X_test, Y_train, Y_test = train_test_split(X, Y, test_size = 0.2, random_state = 0)"
   ]
  },
  {
   "cell_type": "markdown",
   "metadata": {},
   "source": [
    "### Logistic Regression"
   ]
  },
  {
   "cell_type": "code",
   "execution_count": 51,
   "metadata": {},
   "outputs": [
    {
     "name": "stdout",
     "output_type": "stream",
     "text": [
      "              precision    recall  f1-score   support\n",
      "\n",
      "           0       0.82      0.88      0.85        32\n",
      "           1       0.33      0.25      0.29         8\n",
      "\n",
      "    accuracy                           0.75        40\n",
      "   macro avg       0.58      0.56      0.57        40\n",
      "weighted avg       0.73      0.75      0.74        40\n",
      "\n",
      "Accuracy Score is:  0.75\n"
     ]
    }
   ],
   "source": [
    "LR = LogisticRegression()\n",
    "LR.fit(X_train, Y_train)\n",
    "ourPrediction = LR.predict(X_test)\n",
    "print(classification_report(Y_test, ourPrediction))\n",
    "print(\"Accuracy Score is: \", accuracy_score(Y_test, ourPrediction))"
   ]
  },
  {
   "cell_type": "markdown",
   "metadata": {},
   "source": [
    "### Random Forest"
   ]
  },
  {
   "cell_type": "code",
   "execution_count": 52,
   "metadata": {},
   "outputs": [
    {
     "name": "stdout",
     "output_type": "stream",
     "text": [
      "              precision    recall  f1-score   support\n",
      "\n",
      "           0       0.84      0.97      0.90        32\n",
      "           1       0.67      0.25      0.36         8\n",
      "\n",
      "    accuracy                           0.82        40\n",
      "   macro avg       0.75      0.61      0.63        40\n",
      "weighted avg       0.80      0.82      0.79        40\n",
      "\n",
      "Accuracy Score is:  0.825\n"
     ]
    }
   ],
   "source": [
    "RF = RandomForestClassifier(n_estimators=100)\n",
    "RF.fit(X_train, Y_train)\n",
    "ourPrediction = RF.predict(X_test)\n",
    "print(classification_report(Y_test, ourPrediction))\n",
    "print(\"Accuracy Score is: \", accuracy_score(Y_test, ourPrediction))"
   ]
  },
  {
   "cell_type": "markdown",
   "metadata": {},
   "source": [
    "### Decision Tree w/ Gini"
   ]
  },
  {
   "cell_type": "code",
   "execution_count": 53,
   "metadata": {},
   "outputs": [
    {
     "name": "stdout",
     "output_type": "stream",
     "text": [
      "              precision    recall  f1-score   support\n",
      "\n",
      "           0       0.82      0.72      0.77        32\n",
      "           1       0.25      0.38      0.30         8\n",
      "\n",
      "    accuracy                           0.65        40\n",
      "   macro avg       0.54      0.55      0.53        40\n",
      "weighted avg       0.71      0.65      0.67        40\n",
      "\n",
      "Accuracy Score is:  0.65\n"
     ]
    }
   ],
   "source": [
    "DT = DecisionTreeClassifier(criterion='gini')\n",
    "DT.fit(X_train,Y_train)\n",
    "ourPrediction = DT.predict(X_test)\n",
    "print(classification_report(Y_test, ourPrediction))\n",
    "print(\"Accuracy Score is: \", accuracy_score(Y_test, ourPrediction))"
   ]
  },
  {
   "cell_type": "markdown",
   "metadata": {},
   "source": [
    "### From these models, we see that the most accurate model was random forest and it had the highest f1_score of .36"
   ]
  },
  {
   "cell_type": "markdown",
   "metadata": {},
   "source": [
    "### Now do Cross Validations again"
   ]
  },
  {
   "cell_type": "markdown",
   "metadata": {},
   "source": [
    "### Cross Validation for Logistic Regression"
   ]
  },
  {
   "cell_type": "code",
   "execution_count": 54,
   "metadata": {},
   "outputs": [
    {
     "name": "stdout",
     "output_type": "stream",
     "text": [
      "              precision    recall  f1-score   support\n",
      "\n",
      "           0       0.71      0.69      0.70        29\n",
      "           1       0.25      0.27      0.26        11\n",
      "\n",
      "    accuracy                           0.57        40\n",
      "   macro avg       0.48      0.48      0.48        40\n",
      "weighted avg       0.59      0.57      0.58        40\n",
      "\n",
      "Accuracy Score is:  0.575\n",
      "              precision    recall  f1-score   support\n",
      "\n",
      "           0       0.71      0.69      0.70        29\n",
      "           1       0.25      0.27      0.26        11\n",
      "\n",
      "    accuracy                           0.57        40\n",
      "   macro avg       0.48      0.48      0.48        40\n",
      "weighted avg       0.59      0.57      0.58        40\n",
      "\n",
      "Accuracy Score is:  0.575\n",
      "              precision    recall  f1-score   support\n",
      "\n",
      "           0       0.79      0.71      0.75        31\n",
      "           1       0.25      0.33      0.29         9\n",
      "\n",
      "    accuracy                           0.62        40\n",
      "   macro avg       0.52      0.52      0.52        40\n",
      "weighted avg       0.67      0.62      0.64        40\n",
      "\n",
      "Accuracy Score is:  0.625\n",
      "              precision    recall  f1-score   support\n",
      "\n",
      "           0       0.71      0.67      0.69        30\n",
      "           1       0.17      0.20      0.18        10\n",
      "\n",
      "    accuracy                           0.55        40\n",
      "   macro avg       0.44      0.43      0.44        40\n",
      "weighted avg       0.58      0.55      0.56        40\n",
      "\n",
      "Accuracy Score is:  0.55\n",
      "              precision    recall  f1-score   support\n",
      "\n",
      "           0       0.82      0.72      0.77        32\n",
      "           1       0.25      0.38      0.30         8\n",
      "\n",
      "    accuracy                           0.65        40\n",
      "   macro avg       0.54      0.55      0.53        40\n",
      "weighted avg       0.71      0.65      0.67        40\n",
      "\n",
      "Accuracy Score is:  0.65\n",
      "              precision    recall  f1-score   support\n",
      "\n",
      "           0       0.79      0.73      0.76        30\n",
      "           1       0.33      0.40      0.36        10\n",
      "\n",
      "    accuracy                           0.65        40\n",
      "   macro avg       0.56      0.57      0.56        40\n",
      "weighted avg       0.67      0.65      0.66        40\n",
      "\n",
      "Accuracy Score is:  0.65\n",
      "              precision    recall  f1-score   support\n",
      "\n",
      "           0       0.79      0.76      0.77        29\n",
      "           1       0.42      0.45      0.43        11\n",
      "\n",
      "    accuracy                           0.68        40\n",
      "   macro avg       0.60      0.61      0.60        40\n",
      "weighted avg       0.68      0.68      0.68        40\n",
      "\n",
      "Accuracy Score is:  0.675\n",
      "              precision    recall  f1-score   support\n",
      "\n",
      "           0       0.75      0.66      0.70        32\n",
      "           1       0.08      0.12      0.10         8\n",
      "\n",
      "    accuracy                           0.55        40\n",
      "   macro avg       0.42      0.39      0.40        40\n",
      "weighted avg       0.62      0.55      0.58        40\n",
      "\n",
      "Accuracy Score is:  0.55\n",
      "              precision    recall  f1-score   support\n",
      "\n",
      "           0       0.79      0.69      0.73        32\n",
      "           1       0.17      0.25      0.20         8\n",
      "\n",
      "    accuracy                           0.60        40\n",
      "   macro avg       0.48      0.47      0.47        40\n",
      "weighted avg       0.66      0.60      0.63        40\n",
      "\n",
      "Accuracy Score is:  0.6\n",
      "              precision    recall  f1-score   support\n",
      "\n",
      "           0       0.68      0.73      0.70        26\n",
      "           1       0.42      0.36      0.38        14\n",
      "\n",
      "    accuracy                           0.60        40\n",
      "   macro avg       0.55      0.54      0.54        40\n",
      "weighted avg       0.59      0.60      0.59        40\n",
      "\n",
      "Accuracy Score is:  0.6\n"
     ]
    }
   ],
   "source": [
    "for i in range(10):\n",
    "    X_train, X_test, Y_train, Y_test = train_test_split(X, Y, test_size=0.2, random_state = random.randint(1,1000))\n",
    "    model = LR\n",
    "    model.fit(X_train, Y_train)\n",
    "    print(classification_report(Y_test, ourPrediction))\n",
    "    print(\"Accuracy Score is: \", accuracy_score(Y_test, ourPrediction))\n",
    "    Y_pred = model.predict(X_test)"
   ]
  },
  {
   "cell_type": "code",
   "execution_count": 55,
   "metadata": {},
   "outputs": [
    {
     "data": {
      "text/plain": [
       "array([0.75      , 0.8125    , 0.875     , 0.8125    , 0.8125    ,\n",
       "       0.625     , 0.8125    , 0.8       , 0.8       , 0.86666667])"
      ]
     },
     "execution_count": 55,
     "metadata": {},
     "output_type": "execute_result"
    }
   ],
   "source": [
    "result = cross_val_score(LR, X_train, Y_train, cv=10)\n",
    "result"
   ]
  },
  {
   "cell_type": "markdown",
   "metadata": {},
   "source": [
    "### I would say this does not pass cross validation because the values are not close to each other - highest f1_score is .32"
   ]
  },
  {
   "cell_type": "markdown",
   "metadata": {},
   "source": [
    "### Cross Validation for Random Forest"
   ]
  },
  {
   "cell_type": "code",
   "execution_count": 56,
   "metadata": {},
   "outputs": [
    {
     "name": "stdout",
     "output_type": "stream",
     "text": [
      "Trial:1\n",
      "              precision    recall  f1-score   support\n",
      "\n",
      "           0       0.75      0.70      0.72        30\n",
      "           1       0.25      0.30      0.27        10\n",
      "\n",
      "    accuracy                           0.60        40\n",
      "   macro avg       0.50      0.50      0.50        40\n",
      "weighted avg       0.62      0.60      0.61        40\n",
      "\n",
      "Accuracy Score is:  0.6\n",
      "Trial:2\n",
      "              precision    recall  f1-score   support\n",
      "\n",
      "           0       0.82      0.77      0.79        30\n",
      "           1       0.42      0.50      0.45        10\n",
      "\n",
      "    accuracy                           0.70        40\n",
      "   macro avg       0.62      0.63      0.62        40\n",
      "weighted avg       0.72      0.70      0.71        40\n",
      "\n",
      "Accuracy Score is:  0.7\n",
      "Trial:3\n",
      "              precision    recall  f1-score   support\n",
      "\n",
      "           0       0.93      0.76      0.84        34\n",
      "           1       0.33      0.67      0.44         6\n",
      "\n",
      "    accuracy                           0.75        40\n",
      "   macro avg       0.63      0.72      0.64        40\n",
      "weighted avg       0.84      0.75      0.78        40\n",
      "\n",
      "Accuracy Score is:  0.75\n",
      "Trial:4\n",
      "              precision    recall  f1-score   support\n",
      "\n",
      "           0       0.75      0.68      0.71        31\n",
      "           1       0.17      0.22      0.19         9\n",
      "\n",
      "    accuracy                           0.57        40\n",
      "   macro avg       0.46      0.45      0.45        40\n",
      "weighted avg       0.62      0.57      0.59        40\n",
      "\n",
      "Accuracy Score is:  0.575\n",
      "Trial:5\n",
      "              precision    recall  f1-score   support\n",
      "\n",
      "           0       0.79      0.71      0.75        31\n",
      "           1       0.25      0.33      0.29         9\n",
      "\n",
      "    accuracy                           0.62        40\n",
      "   macro avg       0.52      0.52      0.52        40\n",
      "weighted avg       0.67      0.62      0.64        40\n",
      "\n",
      "Accuracy Score is:  0.625\n",
      "Trial:6\n",
      "              precision    recall  f1-score   support\n",
      "\n",
      "           0       0.71      0.69      0.70        29\n",
      "           1       0.25      0.27      0.26        11\n",
      "\n",
      "    accuracy                           0.57        40\n",
      "   macro avg       0.48      0.48      0.48        40\n",
      "weighted avg       0.59      0.57      0.58        40\n",
      "\n",
      "Accuracy Score is:  0.575\n",
      "Trial:7\n",
      "              precision    recall  f1-score   support\n",
      "\n",
      "           0       0.68      0.68      0.68        28\n",
      "           1       0.25      0.25      0.25        12\n",
      "\n",
      "    accuracy                           0.55        40\n",
      "   macro avg       0.46      0.46      0.46        40\n",
      "weighted avg       0.55      0.55      0.55        40\n",
      "\n",
      "Accuracy Score is:  0.55\n",
      "Trial:8\n",
      "              precision    recall  f1-score   support\n",
      "\n",
      "           0       0.82      0.70      0.75        33\n",
      "           1       0.17      0.29      0.21         7\n",
      "\n",
      "    accuracy                           0.62        40\n",
      "   macro avg       0.49      0.49      0.48        40\n",
      "weighted avg       0.71      0.62      0.66        40\n",
      "\n",
      "Accuracy Score is:  0.625\n",
      "Trial:9\n",
      "              precision    recall  f1-score   support\n",
      "\n",
      "           0       0.71      0.74      0.73        27\n",
      "           1       0.42      0.38      0.40        13\n",
      "\n",
      "    accuracy                           0.62        40\n",
      "   macro avg       0.57      0.56      0.56        40\n",
      "weighted avg       0.62      0.62      0.62        40\n",
      "\n",
      "Accuracy Score is:  0.625\n",
      "Trial:10\n",
      "              precision    recall  f1-score   support\n",
      "\n",
      "           0       0.71      0.74      0.73        27\n",
      "           1       0.42      0.38      0.40        13\n",
      "\n",
      "    accuracy                           0.62        40\n",
      "   macro avg       0.57      0.56      0.56        40\n",
      "weighted avg       0.62      0.62      0.62        40\n",
      "\n",
      "Accuracy Score is:  0.625\n"
     ]
    }
   ],
   "source": [
    "counter = 1 \n",
    "for i in range(10):\n",
    "    X_train, X_test, Y_train, Y_test = train_test_split(X, Y, test_size=0.2, random_state = random.randint(1,1000))\n",
    "    model = RF\n",
    "    model.fit(X_train, Y_train)\n",
    "    Y_pred = model.predict(X_test)\n",
    "    print('Trial:' + str(counter))\n",
    "    print(classification_report(Y_test, ourPrediction))\n",
    "    print(\"Accuracy Score is: \", accuracy_score(Y_test, ourPrediction))\n",
    "    counter = counter + 1"
   ]
  },
  {
   "cell_type": "code",
   "execution_count": 57,
   "metadata": {},
   "outputs": [
    {
     "data": {
      "text/plain": [
       "array([0.875     , 0.75      , 0.8125    , 0.75      , 0.8125    ,\n",
       "       0.8125    , 0.75      , 0.8       , 0.73333333, 0.8       ])"
      ]
     },
     "execution_count": 57,
     "metadata": {},
     "output_type": "execute_result"
    }
   ],
   "source": [
    "result = cross_val_score(RF, X_train, Y_train, cv=10)\n",
    "result"
   ]
  },
  {
   "cell_type": "markdown",
   "metadata": {},
   "source": [
    "### This clearly does not pass cross validation because the values are very far apart from each other, our highest f1 score was .42"
   ]
  },
  {
   "cell_type": "markdown",
   "metadata": {},
   "source": [
    "### Cross Validation for Decision Tree "
   ]
  },
  {
   "cell_type": "code",
   "execution_count": 58,
   "metadata": {},
   "outputs": [
    {
     "name": "stdout",
     "output_type": "stream",
     "text": [
      "Trial:1\n",
      "              precision    recall  f1-score   support\n",
      "\n",
      "           0       0.68      0.63      0.66        30\n",
      "           1       0.08      0.10      0.09        10\n",
      "\n",
      "    accuracy                           0.50        40\n",
      "   macro avg       0.38      0.37      0.37        40\n",
      "weighted avg       0.53      0.50      0.51        40\n",
      "\n",
      "Accuracy Score is:  0.5\n",
      "Trial:2\n",
      "              precision    recall  f1-score   support\n",
      "\n",
      "           0       0.75      0.68      0.71        31\n",
      "           1       0.17      0.22      0.19         9\n",
      "\n",
      "    accuracy                           0.57        40\n",
      "   macro avg       0.46      0.45      0.45        40\n",
      "weighted avg       0.62      0.57      0.59        40\n",
      "\n",
      "Accuracy Score is:  0.575\n",
      "Trial:3\n",
      "              precision    recall  f1-score   support\n",
      "\n",
      "           0       0.79      0.71      0.75        31\n",
      "           1       0.25      0.33      0.29         9\n",
      "\n",
      "    accuracy                           0.62        40\n",
      "   macro avg       0.52      0.52      0.52        40\n",
      "weighted avg       0.67      0.62      0.64        40\n",
      "\n",
      "Accuracy Score is:  0.625\n",
      "Trial:4\n",
      "              precision    recall  f1-score   support\n",
      "\n",
      "           0       0.82      0.68      0.74        34\n",
      "           1       0.08      0.17      0.11         6\n",
      "\n",
      "    accuracy                           0.60        40\n",
      "   macro avg       0.45      0.42      0.43        40\n",
      "weighted avg       0.71      0.60      0.65        40\n",
      "\n",
      "Accuracy Score is:  0.6\n",
      "Trial:5\n",
      "              precision    recall  f1-score   support\n",
      "\n",
      "           0       0.68      0.68      0.68        28\n",
      "           1       0.25      0.25      0.25        12\n",
      "\n",
      "    accuracy                           0.55        40\n",
      "   macro avg       0.46      0.46      0.46        40\n",
      "weighted avg       0.55      0.55      0.55        40\n",
      "\n",
      "Accuracy Score is:  0.55\n",
      "Trial:6\n",
      "              precision    recall  f1-score   support\n",
      "\n",
      "           0       0.75      0.68      0.71        31\n",
      "           1       0.17      0.22      0.19         9\n",
      "\n",
      "    accuracy                           0.57        40\n",
      "   macro avg       0.46      0.45      0.45        40\n",
      "weighted avg       0.62      0.57      0.59        40\n",
      "\n",
      "Accuracy Score is:  0.575\n",
      "Trial:7\n",
      "              precision    recall  f1-score   support\n",
      "\n",
      "           0       0.75      0.68      0.71        31\n",
      "           1       0.17      0.22      0.19         9\n",
      "\n",
      "    accuracy                           0.57        40\n",
      "   macro avg       0.46      0.45      0.45        40\n",
      "weighted avg       0.62      0.57      0.59        40\n",
      "\n",
      "Accuracy Score is:  0.575\n",
      "Trial:8\n",
      "              precision    recall  f1-score   support\n",
      "\n",
      "           0       0.75      0.66      0.70        32\n",
      "           1       0.08      0.12      0.10         8\n",
      "\n",
      "    accuracy                           0.55        40\n",
      "   macro avg       0.42      0.39      0.40        40\n",
      "weighted avg       0.62      0.55      0.58        40\n",
      "\n",
      "Accuracy Score is:  0.55\n",
      "Trial:9\n",
      "              precision    recall  f1-score   support\n",
      "\n",
      "           0       0.75      0.68      0.71        31\n",
      "           1       0.17      0.22      0.19         9\n",
      "\n",
      "    accuracy                           0.57        40\n",
      "   macro avg       0.46      0.45      0.45        40\n",
      "weighted avg       0.62      0.57      0.59        40\n",
      "\n",
      "Accuracy Score is:  0.575\n",
      "Trial:10\n",
      "              precision    recall  f1-score   support\n",
      "\n",
      "           0       0.82      0.68      0.74        34\n",
      "           1       0.08      0.17      0.11         6\n",
      "\n",
      "    accuracy                           0.60        40\n",
      "   macro avg       0.45      0.42      0.43        40\n",
      "weighted avg       0.71      0.60      0.65        40\n",
      "\n",
      "Accuracy Score is:  0.6\n"
     ]
    }
   ],
   "source": [
    "counter = 1 \n",
    "for i in range(10):\n",
    "    X_train, X_test, Y_train, Y_test = train_test_split(X, Y, test_size=0.2, random_state = random.randint(1,1000))\n",
    "    model = DT\n",
    "    model.fit(X_train, Y_train)\n",
    "    Y_pred = model.predict(X_test)\n",
    "    print('Trial:' + str(counter))\n",
    "    print(classification_report(Y_test, ourPrediction))\n",
    "    print(\"Accuracy Score is: \", accuracy_score(Y_test, ourPrediction))\n",
    "    counter = counter + 1"
   ]
  },
  {
   "cell_type": "code",
   "execution_count": 59,
   "metadata": {},
   "outputs": [
    {
     "data": {
      "text/plain": [
       "array([0.5625    , 0.625     , 0.6875    , 0.75      , 0.8125    ,\n",
       "       0.5625    , 0.75      , 0.66666667, 0.8       , 0.4       ])"
      ]
     },
     "execution_count": 59,
     "metadata": {},
     "output_type": "execute_result"
    }
   ],
   "source": [
    "result = cross_val_score(DT, X_train, Y_train, cv=10)\n",
    "result"
   ]
  },
  {
   "cell_type": "markdown",
   "metadata": {},
   "source": [
    "### Does not pass cross validation, our highest f1_score was .45"
   ]
  },
  {
   "cell_type": "markdown",
   "metadata": {},
   "source": [
    "## Now we perform the same as before but drop Language_G1"
   ]
  },
  {
   "cell_type": "code",
   "execution_count": 60,
   "metadata": {},
   "outputs": [
    {
     "data": {
      "text/html": [
       "<div>\n",
       "<style scoped>\n",
       "    .dataframe tbody tr th:only-of-type {\n",
       "        vertical-align: middle;\n",
       "    }\n",
       "\n",
       "    .dataframe tbody tr th {\n",
       "        vertical-align: top;\n",
       "    }\n",
       "\n",
       "    .dataframe thead th {\n",
       "        text-align: right;\n",
       "    }\n",
       "</style>\n",
       "<table border=\"1\" class=\"dataframe\">\n",
       "  <thead>\n",
       "    <tr style=\"text-align: right;\">\n",
       "      <th></th>\n",
       "      <th>age</th>\n",
       "      <th>traveltime</th>\n",
       "      <th>studytime</th>\n",
       "      <th>failures</th>\n",
       "      <th>absences</th>\n",
       "      <th>Math_G1</th>\n",
       "      <th>Medu</th>\n",
       "      <th>Fedu</th>\n",
       "      <th>famrel</th>\n",
       "      <th>freetime</th>\n",
       "      <th>...</th>\n",
       "      <th>famsup_no</th>\n",
       "      <th>famsup_yes</th>\n",
       "      <th>paid_no</th>\n",
       "      <th>paid_yes</th>\n",
       "      <th>activities_no</th>\n",
       "      <th>activities_yes</th>\n",
       "      <th>higher_no</th>\n",
       "      <th>higher_yes</th>\n",
       "      <th>internet_no</th>\n",
       "      <th>internet_yes</th>\n",
       "    </tr>\n",
       "  </thead>\n",
       "  <tbody>\n",
       "    <tr>\n",
       "      <th>1</th>\n",
       "      <td>17.0</td>\n",
       "      <td>1</td>\n",
       "      <td>2</td>\n",
       "      <td>0</td>\n",
       "      <td>4</td>\n",
       "      <td>5.0</td>\n",
       "      <td>1</td>\n",
       "      <td>1</td>\n",
       "      <td>5</td>\n",
       "      <td>3</td>\n",
       "      <td>...</td>\n",
       "      <td>0</td>\n",
       "      <td>1</td>\n",
       "      <td>1</td>\n",
       "      <td>0</td>\n",
       "      <td>1</td>\n",
       "      <td>0</td>\n",
       "      <td>0</td>\n",
       "      <td>1</td>\n",
       "      <td>0</td>\n",
       "      <td>1</td>\n",
       "    </tr>\n",
       "    <tr>\n",
       "      <th>4</th>\n",
       "      <td>16.0</td>\n",
       "      <td>1</td>\n",
       "      <td>2</td>\n",
       "      <td>0</td>\n",
       "      <td>4</td>\n",
       "      <td>6.0</td>\n",
       "      <td>3</td>\n",
       "      <td>3</td>\n",
       "      <td>4</td>\n",
       "      <td>3</td>\n",
       "      <td>...</td>\n",
       "      <td>0</td>\n",
       "      <td>1</td>\n",
       "      <td>0</td>\n",
       "      <td>1</td>\n",
       "      <td>1</td>\n",
       "      <td>0</td>\n",
       "      <td>0</td>\n",
       "      <td>1</td>\n",
       "      <td>1</td>\n",
       "      <td>0</td>\n",
       "    </tr>\n",
       "    <tr>\n",
       "      <th>6</th>\n",
       "      <td>16.0</td>\n",
       "      <td>1</td>\n",
       "      <td>2</td>\n",
       "      <td>0</td>\n",
       "      <td>0</td>\n",
       "      <td>12.0</td>\n",
       "      <td>2</td>\n",
       "      <td>2</td>\n",
       "      <td>4</td>\n",
       "      <td>4</td>\n",
       "      <td>...</td>\n",
       "      <td>1</td>\n",
       "      <td>0</td>\n",
       "      <td>1</td>\n",
       "      <td>0</td>\n",
       "      <td>1</td>\n",
       "      <td>0</td>\n",
       "      <td>0</td>\n",
       "      <td>1</td>\n",
       "      <td>0</td>\n",
       "      <td>1</td>\n",
       "    </tr>\n",
       "    <tr>\n",
       "      <th>9</th>\n",
       "      <td>15.0</td>\n",
       "      <td>1</td>\n",
       "      <td>2</td>\n",
       "      <td>0</td>\n",
       "      <td>0</td>\n",
       "      <td>14.0</td>\n",
       "      <td>3</td>\n",
       "      <td>4</td>\n",
       "      <td>5</td>\n",
       "      <td>5</td>\n",
       "      <td>...</td>\n",
       "      <td>0</td>\n",
       "      <td>1</td>\n",
       "      <td>0</td>\n",
       "      <td>1</td>\n",
       "      <td>0</td>\n",
       "      <td>1</td>\n",
       "      <td>0</td>\n",
       "      <td>1</td>\n",
       "      <td>0</td>\n",
       "      <td>1</td>\n",
       "    </tr>\n",
       "    <tr>\n",
       "      <th>10</th>\n",
       "      <td>15.0</td>\n",
       "      <td>1</td>\n",
       "      <td>2</td>\n",
       "      <td>0</td>\n",
       "      <td>0</td>\n",
       "      <td>10.0</td>\n",
       "      <td>4</td>\n",
       "      <td>4</td>\n",
       "      <td>3</td>\n",
       "      <td>3</td>\n",
       "      <td>...</td>\n",
       "      <td>0</td>\n",
       "      <td>1</td>\n",
       "      <td>0</td>\n",
       "      <td>1</td>\n",
       "      <td>1</td>\n",
       "      <td>0</td>\n",
       "      <td>0</td>\n",
       "      <td>1</td>\n",
       "      <td>0</td>\n",
       "      <td>1</td>\n",
       "    </tr>\n",
       "    <tr>\n",
       "      <th>...</th>\n",
       "      <td>...</td>\n",
       "      <td>...</td>\n",
       "      <td>...</td>\n",
       "      <td>...</td>\n",
       "      <td>...</td>\n",
       "      <td>...</td>\n",
       "      <td>...</td>\n",
       "      <td>...</td>\n",
       "      <td>...</td>\n",
       "      <td>...</td>\n",
       "      <td>...</td>\n",
       "      <td>...</td>\n",
       "      <td>...</td>\n",
       "      <td>...</td>\n",
       "      <td>...</td>\n",
       "      <td>...</td>\n",
       "      <td>...</td>\n",
       "      <td>...</td>\n",
       "      <td>...</td>\n",
       "      <td>...</td>\n",
       "      <td>...</td>\n",
       "    </tr>\n",
       "    <tr>\n",
       "      <th>383</th>\n",
       "      <td>17.0</td>\n",
       "      <td>2</td>\n",
       "      <td>2</td>\n",
       "      <td>0</td>\n",
       "      <td>2</td>\n",
       "      <td>11.0</td>\n",
       "      <td>2</td>\n",
       "      <td>3</td>\n",
       "      <td>4</td>\n",
       "      <td>4</td>\n",
       "      <td>...</td>\n",
       "      <td>1</td>\n",
       "      <td>0</td>\n",
       "      <td>1</td>\n",
       "      <td>0</td>\n",
       "      <td>0</td>\n",
       "      <td>1</td>\n",
       "      <td>0</td>\n",
       "      <td>1</td>\n",
       "      <td>0</td>\n",
       "      <td>1</td>\n",
       "    </tr>\n",
       "    <tr>\n",
       "      <th>386</th>\n",
       "      <td>18.0</td>\n",
       "      <td>2</td>\n",
       "      <td>3</td>\n",
       "      <td>0</td>\n",
       "      <td>2</td>\n",
       "      <td>10.0</td>\n",
       "      <td>2</td>\n",
       "      <td>2</td>\n",
       "      <td>5</td>\n",
       "      <td>3</td>\n",
       "      <td>...</td>\n",
       "      <td>1</td>\n",
       "      <td>0</td>\n",
       "      <td>0</td>\n",
       "      <td>1</td>\n",
       "      <td>1</td>\n",
       "      <td>0</td>\n",
       "      <td>0</td>\n",
       "      <td>1</td>\n",
       "      <td>1</td>\n",
       "      <td>0</td>\n",
       "    </tr>\n",
       "    <tr>\n",
       "      <th>387</th>\n",
       "      <td>18.0</td>\n",
       "      <td>3</td>\n",
       "      <td>1</td>\n",
       "      <td>0</td>\n",
       "      <td>7</td>\n",
       "      <td>6.0</td>\n",
       "      <td>4</td>\n",
       "      <td>4</td>\n",
       "      <td>4</td>\n",
       "      <td>4</td>\n",
       "      <td>...</td>\n",
       "      <td>0</td>\n",
       "      <td>1</td>\n",
       "      <td>0</td>\n",
       "      <td>1</td>\n",
       "      <td>0</td>\n",
       "      <td>1</td>\n",
       "      <td>0</td>\n",
       "      <td>1</td>\n",
       "      <td>0</td>\n",
       "      <td>1</td>\n",
       "    </tr>\n",
       "    <tr>\n",
       "      <th>389</th>\n",
       "      <td>18.0</td>\n",
       "      <td>1</td>\n",
       "      <td>2</td>\n",
       "      <td>0</td>\n",
       "      <td>0</td>\n",
       "      <td>7.0</td>\n",
       "      <td>3</td>\n",
       "      <td>1</td>\n",
       "      <td>4</td>\n",
       "      <td>3</td>\n",
       "      <td>...</td>\n",
       "      <td>0</td>\n",
       "      <td>1</td>\n",
       "      <td>0</td>\n",
       "      <td>1</td>\n",
       "      <td>1</td>\n",
       "      <td>0</td>\n",
       "      <td>0</td>\n",
       "      <td>1</td>\n",
       "      <td>0</td>\n",
       "      <td>1</td>\n",
       "    </tr>\n",
       "    <tr>\n",
       "      <th>394</th>\n",
       "      <td>18.0</td>\n",
       "      <td>3</td>\n",
       "      <td>1</td>\n",
       "      <td>0</td>\n",
       "      <td>0</td>\n",
       "      <td>11.0</td>\n",
       "      <td>3</td>\n",
       "      <td>2</td>\n",
       "      <td>4</td>\n",
       "      <td>4</td>\n",
       "      <td>...</td>\n",
       "      <td>1</td>\n",
       "      <td>0</td>\n",
       "      <td>1</td>\n",
       "      <td>0</td>\n",
       "      <td>1</td>\n",
       "      <td>0</td>\n",
       "      <td>0</td>\n",
       "      <td>1</td>\n",
       "      <td>0</td>\n",
       "      <td>1</td>\n",
       "    </tr>\n",
       "  </tbody>\n",
       "</table>\n",
       "<p>197 rows × 44 columns</p>\n",
       "</div>"
      ],
      "text/plain": [
       "      age  traveltime  studytime  failures  absences  Math_G1  Medu  Fedu  \\\n",
       "1    17.0           1          2         0         4      5.0     1     1   \n",
       "4    16.0           1          2         0         4      6.0     3     3   \n",
       "6    16.0           1          2         0         0     12.0     2     2   \n",
       "9    15.0           1          2         0         0     14.0     3     4   \n",
       "10   15.0           1          2         0         0     10.0     4     4   \n",
       "..    ...         ...        ...       ...       ...      ...   ...   ...   \n",
       "383  17.0           2          2         0         2     11.0     2     3   \n",
       "386  18.0           2          3         0         2     10.0     2     2   \n",
       "387  18.0           3          1         0         7      6.0     4     4   \n",
       "389  18.0           1          2         0         0      7.0     3     1   \n",
       "394  18.0           3          1         0         0     11.0     3     2   \n",
       "\n",
       "     famrel  freetime  ...  famsup_no  famsup_yes  paid_no  paid_yes  \\\n",
       "1         5         3  ...          0           1        1         0   \n",
       "4         4         3  ...          0           1        0         1   \n",
       "6         4         4  ...          1           0        1         0   \n",
       "9         5         5  ...          0           1        0         1   \n",
       "10        3         3  ...          0           1        0         1   \n",
       "..      ...       ...  ...        ...         ...      ...       ...   \n",
       "383       4         4  ...          1           0        1         0   \n",
       "386       5         3  ...          1           0        0         1   \n",
       "387       4         4  ...          0           1        0         1   \n",
       "389       4         3  ...          0           1        0         1   \n",
       "394       4         4  ...          1           0        1         0   \n",
       "\n",
       "     activities_no  activities_yes  higher_no  higher_yes  internet_no  \\\n",
       "1                1               0          0           1            0   \n",
       "4                1               0          0           1            1   \n",
       "6                1               0          0           1            0   \n",
       "9                0               1          0           1            0   \n",
       "10               1               0          0           1            0   \n",
       "..             ...             ...        ...         ...          ...   \n",
       "383              0               1          0           1            0   \n",
       "386              1               0          0           1            1   \n",
       "387              0               1          0           1            0   \n",
       "389              1               0          0           1            0   \n",
       "394              1               0          0           1            0   \n",
       "\n",
       "     internet_yes  \n",
       "1               1  \n",
       "4               0  \n",
       "6               1  \n",
       "9               1  \n",
       "10              1  \n",
       "..            ...  \n",
       "383             1  \n",
       "386             0  \n",
       "387             1  \n",
       "389             1  \n",
       "394             1  \n",
       "\n",
       "[197 rows x 44 columns]"
      ]
     },
     "execution_count": 60,
     "metadata": {},
     "output_type": "execute_result"
    }
   ],
   "source": [
    "dummy3 = pd.get_dummies(df)\n",
    "dummy3.drop('Language_G1', axis =1, inplace = True)\n",
    "dummy3"
   ]
  },
  {
   "cell_type": "code",
   "execution_count": 61,
   "metadata": {},
   "outputs": [],
   "source": [
    "X = dummy3.drop('underperformance', axis = 1)\n",
    "Y = df['underperformance']\n",
    "\n",
    "X_train, X_test, Y_train, Y_test = train_test_split(X, Y, test_size = 0.2, random_state = 0)"
   ]
  },
  {
   "cell_type": "markdown",
   "metadata": {},
   "source": [
    "### Logistic Regression"
   ]
  },
  {
   "cell_type": "code",
   "execution_count": 62,
   "metadata": {},
   "outputs": [
    {
     "name": "stdout",
     "output_type": "stream",
     "text": [
      "              precision    recall  f1-score   support\n",
      "\n",
      "           0       1.00      0.81      0.90        32\n",
      "           1       0.57      1.00      0.73         8\n",
      "\n",
      "    accuracy                           0.85        40\n",
      "   macro avg       0.79      0.91      0.81        40\n",
      "weighted avg       0.91      0.85      0.86        40\n",
      "\n",
      "Accuracy Score is:  0.85\n"
     ]
    }
   ],
   "source": [
    "LR = LogisticRegression()\n",
    "LR.fit(X_train, Y_train)\n",
    "ourPrediction = LR.predict(X_test)\n",
    "print(classification_report(Y_test, ourPrediction))\n",
    "print(\"Accuracy Score is: \", accuracy_score(Y_test, ourPrediction))"
   ]
  },
  {
   "cell_type": "markdown",
   "metadata": {},
   "source": [
    "### Random Forest"
   ]
  },
  {
   "cell_type": "code",
   "execution_count": 63,
   "metadata": {},
   "outputs": [
    {
     "name": "stdout",
     "output_type": "stream",
     "text": [
      "              precision    recall  f1-score   support\n",
      "\n",
      "           0       0.97      0.94      0.95        32\n",
      "           1       0.78      0.88      0.82         8\n",
      "\n",
      "    accuracy                           0.93        40\n",
      "   macro avg       0.87      0.91      0.89        40\n",
      "weighted avg       0.93      0.93      0.93        40\n",
      "\n",
      "Accuracy Score is:  0.925\n"
     ]
    }
   ],
   "source": [
    "RF = RandomForestClassifier(n_estimators=100)\n",
    "RF.fit(X_train, Y_train)\n",
    "ourPrediction = RF.predict(X_test)\n",
    "print(classification_report(Y_test, ourPrediction))\n",
    "print(\"Accuracy Score is: \", accuracy_score(Y_test, ourPrediction))"
   ]
  },
  {
   "cell_type": "markdown",
   "metadata": {},
   "source": [
    "### Decision Tree with Gini "
   ]
  },
  {
   "cell_type": "code",
   "execution_count": 64,
   "metadata": {},
   "outputs": [
    {
     "name": "stdout",
     "output_type": "stream",
     "text": [
      "              precision    recall  f1-score   support\n",
      "\n",
      "           0       0.94      0.91      0.92        32\n",
      "           1       0.67      0.75      0.71         8\n",
      "\n",
      "    accuracy                           0.88        40\n",
      "   macro avg       0.80      0.83      0.81        40\n",
      "weighted avg       0.88      0.88      0.88        40\n",
      "\n",
      "Accuracy Score is:  0.875\n"
     ]
    }
   ],
   "source": [
    "DT = DecisionTreeClassifier(criterion='gini')\n",
    "DT.fit(X_train,Y_train)\n",
    "ourPrediction = DT.predict(X_test)\n",
    "print(classification_report(Y_test, ourPrediction))\n",
    "print(\"Accuracy Score is: \", accuracy_score(Y_test, ourPrediction))"
   ]
  },
  {
   "cell_type": "markdown",
   "metadata": {},
   "source": [
    "### The most accurate model here is random forest. The highest f1_score is .73 from Logistic regression. "
   ]
  },
  {
   "cell_type": "markdown",
   "metadata": {},
   "source": [
    "## Now we run cross validations again"
   ]
  },
  {
   "cell_type": "markdown",
   "metadata": {},
   "source": [
    "### Cross validation for Logistic Regression"
   ]
  },
  {
   "cell_type": "code",
   "execution_count": 65,
   "metadata": {},
   "outputs": [
    {
     "name": "stdout",
     "output_type": "stream",
     "text": [
      "              precision    recall  f1-score   support\n",
      "\n",
      "           0       0.84      0.81      0.83        32\n",
      "           1       0.33      0.38      0.35         8\n",
      "\n",
      "    accuracy                           0.73        40\n",
      "   macro avg       0.59      0.59      0.59        40\n",
      "weighted avg       0.74      0.72      0.73        40\n",
      "\n",
      "Accuracy Score is:  0.725\n",
      "              precision    recall  f1-score   support\n",
      "\n",
      "           0       0.84      0.81      0.83        32\n",
      "           1       0.33      0.38      0.35         8\n",
      "\n",
      "    accuracy                           0.73        40\n",
      "   macro avg       0.59      0.59      0.59        40\n",
      "weighted avg       0.74      0.72      0.73        40\n",
      "\n",
      "Accuracy Score is:  0.725\n",
      "              precision    recall  f1-score   support\n",
      "\n",
      "           0       0.71      0.76      0.73        29\n",
      "           1       0.22      0.18      0.20        11\n",
      "\n",
      "    accuracy                           0.60        40\n",
      "   macro avg       0.47      0.47      0.47        40\n",
      "weighted avg       0.58      0.60      0.59        40\n",
      "\n",
      "Accuracy Score is:  0.6\n",
      "              precision    recall  f1-score   support\n",
      "\n",
      "           0       0.81      0.81      0.81        31\n",
      "           1       0.33      0.33      0.33         9\n",
      "\n",
      "    accuracy                           0.70        40\n",
      "   macro avg       0.57      0.57      0.57        40\n",
      "weighted avg       0.70      0.70      0.70        40\n",
      "\n",
      "Accuracy Score is:  0.7\n",
      "              precision    recall  f1-score   support\n",
      "\n",
      "           0       0.87      0.82      0.84        33\n",
      "           1       0.33      0.43      0.38         7\n",
      "\n",
      "    accuracy                           0.75        40\n",
      "   macro avg       0.60      0.62      0.61        40\n",
      "weighted avg       0.78      0.75      0.76        40\n",
      "\n",
      "Accuracy Score is:  0.75\n",
      "              precision    recall  f1-score   support\n",
      "\n",
      "           0       0.77      0.80      0.79        30\n",
      "           1       0.33      0.30      0.32        10\n",
      "\n",
      "    accuracy                           0.68        40\n",
      "   macro avg       0.55      0.55      0.55        40\n",
      "weighted avg       0.66      0.68      0.67        40\n",
      "\n",
      "Accuracy Score is:  0.675\n",
      "              precision    recall  f1-score   support\n",
      "\n",
      "           0       0.77      0.77      0.77        31\n",
      "           1       0.22      0.22      0.22         9\n",
      "\n",
      "    accuracy                           0.65        40\n",
      "   macro avg       0.50      0.50      0.50        40\n",
      "weighted avg       0.65      0.65      0.65        40\n",
      "\n",
      "Accuracy Score is:  0.65\n",
      "              precision    recall  f1-score   support\n",
      "\n",
      "           0       0.71      0.81      0.76        27\n",
      "           1       0.44      0.31      0.36        13\n",
      "\n",
      "    accuracy                           0.65        40\n",
      "   macro avg       0.58      0.56      0.56        40\n",
      "weighted avg       0.62      0.65      0.63        40\n",
      "\n",
      "Accuracy Score is:  0.65\n",
      "              precision    recall  f1-score   support\n",
      "\n",
      "           0       0.81      0.76      0.78        33\n",
      "           1       0.11      0.14      0.12         7\n",
      "\n",
      "    accuracy                           0.65        40\n",
      "   macro avg       0.46      0.45      0.45        40\n",
      "weighted avg       0.68      0.65      0.67        40\n",
      "\n",
      "Accuracy Score is:  0.65\n",
      "              precision    recall  f1-score   support\n",
      "\n",
      "           0       0.68      0.75      0.71        28\n",
      "           1       0.22      0.17      0.19        12\n",
      "\n",
      "    accuracy                           0.57        40\n",
      "   macro avg       0.45      0.46      0.45        40\n",
      "weighted avg       0.54      0.57      0.56        40\n",
      "\n",
      "Accuracy Score is:  0.575\n"
     ]
    }
   ],
   "source": [
    "for i in range(10):\n",
    "    X_train, X_test, Y_train, Y_test = train_test_split(X, Y, test_size=0.2, random_state = random.randint(1,1000))\n",
    "    model = LR\n",
    "    model.fit(X_train, Y_train)\n",
    "    print(classification_report(Y_test, ourPrediction))\n",
    "    print(\"Accuracy Score is: \", accuracy_score(Y_test, ourPrediction))\n",
    "    Y_pred = model.predict(X_test)"
   ]
  },
  {
   "cell_type": "code",
   "execution_count": 66,
   "metadata": {},
   "outputs": [
    {
     "data": {
      "text/plain": [
       "array([0.75      , 0.875     , 0.9375    , 0.875     , 0.75      ,\n",
       "       0.9375    , 1.        , 0.86666667, 0.86666667, 0.86666667])"
      ]
     },
     "execution_count": 66,
     "metadata": {},
     "output_type": "execute_result"
    }
   ],
   "source": [
    "result = cross_val_score(LR, X_train, Y_train, cv=10)\n",
    "result"
   ]
  },
  {
   "cell_type": "markdown",
   "metadata": {},
   "source": [
    "### We pass cross validation. The highest f1_score we get is .57"
   ]
  },
  {
   "cell_type": "markdown",
   "metadata": {},
   "source": [
    "### Cross validation for Random Forest"
   ]
  },
  {
   "cell_type": "code",
   "execution_count": 67,
   "metadata": {},
   "outputs": [
    {
     "name": "stdout",
     "output_type": "stream",
     "text": [
      "Trial:1\n",
      "              precision    recall  f1-score   support\n",
      "\n",
      "           0       0.65      0.71      0.68        28\n",
      "           1       0.11      0.08      0.10        12\n",
      "\n",
      "    accuracy                           0.53        40\n",
      "   macro avg       0.38      0.40      0.39        40\n",
      "weighted avg       0.48      0.53      0.50        40\n",
      "\n",
      "Accuracy Score is:  0.525\n",
      "Trial:2\n",
      "              precision    recall  f1-score   support\n",
      "\n",
      "           0       0.68      0.72      0.70        29\n",
      "           1       0.11      0.09      0.10        11\n",
      "\n",
      "    accuracy                           0.55        40\n",
      "   macro avg       0.39      0.41      0.40        40\n",
      "weighted avg       0.52      0.55      0.53        40\n",
      "\n",
      "Accuracy Score is:  0.55\n",
      "Trial:3\n",
      "              precision    recall  f1-score   support\n",
      "\n",
      "           0       0.87      0.77      0.82        35\n",
      "           1       0.11      0.20      0.14         5\n",
      "\n",
      "    accuracy                           0.70        40\n",
      "   macro avg       0.49      0.49      0.48        40\n",
      "weighted avg       0.78      0.70      0.73        40\n",
      "\n",
      "Accuracy Score is:  0.7\n",
      "Trial:4\n",
      "              precision    recall  f1-score   support\n",
      "\n",
      "           0       0.84      0.79      0.81        33\n",
      "           1       0.22      0.29      0.25         7\n",
      "\n",
      "    accuracy                           0.70        40\n",
      "   macro avg       0.53      0.54      0.53        40\n",
      "weighted avg       0.73      0.70      0.71        40\n",
      "\n",
      "Accuracy Score is:  0.7\n",
      "Trial:5\n",
      "              precision    recall  f1-score   support\n",
      "\n",
      "           0       0.71      0.81      0.76        27\n",
      "           1       0.44      0.31      0.36        13\n",
      "\n",
      "    accuracy                           0.65        40\n",
      "   macro avg       0.58      0.56      0.56        40\n",
      "weighted avg       0.62      0.65      0.63        40\n",
      "\n",
      "Accuracy Score is:  0.65\n",
      "Trial:6\n",
      "              precision    recall  f1-score   support\n",
      "\n",
      "           0       0.81      0.81      0.81        31\n",
      "           1       0.33      0.33      0.33         9\n",
      "\n",
      "    accuracy                           0.70        40\n",
      "   macro avg       0.57      0.57      0.57        40\n",
      "weighted avg       0.70      0.70      0.70        40\n",
      "\n",
      "Accuracy Score is:  0.7\n",
      "Trial:7\n",
      "              precision    recall  f1-score   support\n",
      "\n",
      "           0       0.74      0.79      0.77        29\n",
      "           1       0.33      0.27      0.30        11\n",
      "\n",
      "    accuracy                           0.65        40\n",
      "   macro avg       0.54      0.53      0.53        40\n",
      "weighted avg       0.63      0.65      0.64        40\n",
      "\n",
      "Accuracy Score is:  0.65\n",
      "Trial:8\n",
      "              precision    recall  f1-score   support\n",
      "\n",
      "           0       0.87      0.82      0.84        33\n",
      "           1       0.33      0.43      0.38         7\n",
      "\n",
      "    accuracy                           0.75        40\n",
      "   macro avg       0.60      0.62      0.61        40\n",
      "weighted avg       0.78      0.75      0.76        40\n",
      "\n",
      "Accuracy Score is:  0.75\n",
      "Trial:9\n",
      "              precision    recall  f1-score   support\n",
      "\n",
      "           0       0.90      0.82      0.86        34\n",
      "           1       0.33      0.50      0.40         6\n",
      "\n",
      "    accuracy                           0.78        40\n",
      "   macro avg       0.62      0.66      0.63        40\n",
      "weighted avg       0.82      0.78      0.79        40\n",
      "\n",
      "Accuracy Score is:  0.775\n",
      "Trial:10\n",
      "              precision    recall  f1-score   support\n",
      "\n",
      "           0       0.77      0.83      0.80        29\n",
      "           1       0.44      0.36      0.40        11\n",
      "\n",
      "    accuracy                           0.70        40\n",
      "   macro avg       0.61      0.60      0.60        40\n",
      "weighted avg       0.68      0.70      0.69        40\n",
      "\n",
      "Accuracy Score is:  0.7\n"
     ]
    }
   ],
   "source": [
    "counter = 1 \n",
    "for i in range(10):\n",
    "    X_train, X_test, Y_train, Y_test = train_test_split(X, Y, test_size=0.2, random_state = random.randint(1,1000))\n",
    "    model = RF\n",
    "    model.fit(X_train, Y_train)\n",
    "    Y_pred = model.predict(X_test)\n",
    "    print('Trial:' + str(counter))\n",
    "    print(classification_report(Y_test, ourPrediction))\n",
    "    print(\"Accuracy Score is: \", accuracy_score(Y_test, ourPrediction))\n",
    "    counter = counter + 1"
   ]
  },
  {
   "cell_type": "code",
   "execution_count": 68,
   "metadata": {},
   "outputs": [
    {
     "data": {
      "text/plain": [
       "array([0.875     , 0.875     , 0.8125    , 0.9375    , 0.875     ,\n",
       "       0.875     , 0.8125    , 0.86666667, 0.8       , 0.66666667])"
      ]
     },
     "execution_count": 68,
     "metadata": {},
     "output_type": "execute_result"
    }
   ],
   "source": [
    "result = cross_val_score(RF, X_train, Y_train, cv=10)\n",
    "result"
   ]
  },
  {
   "cell_type": "markdown",
   "metadata": {},
   "source": [
    "### We pass cross validation, I would say these values are pretty good. The highest f1_score we get is .43"
   ]
  },
  {
   "cell_type": "markdown",
   "metadata": {},
   "source": [
    "### Cross Validation for Decision Tree"
   ]
  },
  {
   "cell_type": "code",
   "execution_count": 69,
   "metadata": {},
   "outputs": [
    {
     "name": "stdout",
     "output_type": "stream",
     "text": [
      "Trial:1\n",
      "              precision    recall  f1-score   support\n",
      "\n",
      "           0       0.71      0.79      0.75        28\n",
      "           1       0.33      0.25      0.29        12\n",
      "\n",
      "    accuracy                           0.62        40\n",
      "   macro avg       0.52      0.52      0.52        40\n",
      "weighted avg       0.60      0.62      0.61        40\n",
      "\n",
      "Accuracy Score is:  0.625\n",
      "Trial:2\n",
      "              precision    recall  f1-score   support\n",
      "\n",
      "           0       0.65      0.71      0.68        28\n",
      "           1       0.11      0.08      0.10        12\n",
      "\n",
      "    accuracy                           0.53        40\n",
      "   macro avg       0.38      0.40      0.39        40\n",
      "weighted avg       0.48      0.53      0.50        40\n",
      "\n",
      "Accuracy Score is:  0.525\n",
      "Trial:3\n",
      "              precision    recall  f1-score   support\n",
      "\n",
      "           0       0.74      0.77      0.75        30\n",
      "           1       0.22      0.20      0.21        10\n",
      "\n",
      "    accuracy                           0.62        40\n",
      "   macro avg       0.48      0.48      0.48        40\n",
      "weighted avg       0.61      0.62      0.62        40\n",
      "\n",
      "Accuracy Score is:  0.625\n",
      "Trial:4\n",
      "              precision    recall  f1-score   support\n",
      "\n",
      "           0       0.74      0.77      0.75        30\n",
      "           1       0.22      0.20      0.21        10\n",
      "\n",
      "    accuracy                           0.62        40\n",
      "   macro avg       0.48      0.48      0.48        40\n",
      "weighted avg       0.61      0.62      0.62        40\n",
      "\n",
      "Accuracy Score is:  0.625\n",
      "Trial:5\n",
      "              precision    recall  f1-score   support\n",
      "\n",
      "           0       0.71      0.79      0.75        28\n",
      "           1       0.33      0.25      0.29        12\n",
      "\n",
      "    accuracy                           0.62        40\n",
      "   macro avg       0.52      0.52      0.52        40\n",
      "weighted avg       0.60      0.62      0.61        40\n",
      "\n",
      "Accuracy Score is:  0.625\n",
      "Trial:6\n",
      "              precision    recall  f1-score   support\n",
      "\n",
      "           0       0.71      0.73      0.72        30\n",
      "           1       0.11      0.10      0.11        10\n",
      "\n",
      "    accuracy                           0.57        40\n",
      "   macro avg       0.41      0.42      0.41        40\n",
      "weighted avg       0.56      0.57      0.57        40\n",
      "\n",
      "Accuracy Score is:  0.575\n",
      "Trial:7\n",
      "              precision    recall  f1-score   support\n",
      "\n",
      "           0       0.52      0.70      0.59        23\n",
      "           1       0.22      0.12      0.15        17\n",
      "\n",
      "    accuracy                           0.45        40\n",
      "   macro avg       0.37      0.41      0.37        40\n",
      "weighted avg       0.39      0.45      0.41        40\n",
      "\n",
      "Accuracy Score is:  0.45\n",
      "Trial:8\n",
      "              precision    recall  f1-score   support\n",
      "\n",
      "           0       0.74      0.77      0.75        30\n",
      "           1       0.22      0.20      0.21        10\n",
      "\n",
      "    accuracy                           0.62        40\n",
      "   macro avg       0.48      0.48      0.48        40\n",
      "weighted avg       0.61      0.62      0.62        40\n",
      "\n",
      "Accuracy Score is:  0.625\n",
      "Trial:9\n",
      "              precision    recall  f1-score   support\n",
      "\n",
      "           0       0.71      0.76      0.73        29\n",
      "           1       0.22      0.18      0.20        11\n",
      "\n",
      "    accuracy                           0.60        40\n",
      "   macro avg       0.47      0.47      0.47        40\n",
      "weighted avg       0.58      0.60      0.59        40\n",
      "\n",
      "Accuracy Score is:  0.6\n",
      "Trial:10\n",
      "              precision    recall  f1-score   support\n",
      "\n",
      "           0       0.71      0.76      0.73        29\n",
      "           1       0.22      0.18      0.20        11\n",
      "\n",
      "    accuracy                           0.60        40\n",
      "   macro avg       0.47      0.47      0.47        40\n",
      "weighted avg       0.58      0.60      0.59        40\n",
      "\n",
      "Accuracy Score is:  0.6\n"
     ]
    }
   ],
   "source": [
    "counter = 1 \n",
    "for i in range(10):\n",
    "    X_train, X_test, Y_train, Y_test = train_test_split(X, Y, test_size=0.2, random_state = random.randint(1,1000))\n",
    "    model = DT\n",
    "    model.fit(X_train, Y_train)\n",
    "    Y_pred = model.predict(X_test)\n",
    "    print('Trial:' + str(counter))\n",
    "    print(classification_report(Y_test, ourPrediction))\n",
    "    print(\"Accuracy Score is: \", accuracy_score(Y_test, ourPrediction))\n",
    "    counter = counter + 1"
   ]
  },
  {
   "cell_type": "code",
   "execution_count": 70,
   "metadata": {},
   "outputs": [
    {
     "data": {
      "text/plain": [
       "array([0.875     , 0.875     , 0.6875    , 0.8125    , 0.8125    ,\n",
       "       0.75      , 0.875     , 0.73333333, 0.86666667, 0.73333333])"
      ]
     },
     "execution_count": 70,
     "metadata": {},
     "output_type": "execute_result"
    }
   ],
   "source": [
    "result = cross_val_score(DT, X_train, Y_train, cv=10)\n",
    "result"
   ]
  },
  {
   "cell_type": "markdown",
   "metadata": {},
   "source": [
    "### We passed cross validation. The highest f1 score was .48"
   ]
  },
  {
   "cell_type": "markdown",
   "metadata": {},
   "source": [
    "## Looking at our results, we see that the accuracy of our models got worse when we dropped Math_G1 and Language_G1 but they got slightly better when we dropped just Language_G1. I would say if we wanted a more accurate & consistent model, we should learn what columns are more important to keep in our models. However, it could be possible that when I was handling outliers, I removed too many. This may have impacted the way my models came out.  I got the highest f1_score when I removed Language_G1; which was .57 . This model was Logistic Regression.  "
   ]
  },
  {
   "cell_type": "code",
   "execution_count": null,
   "metadata": {},
   "outputs": [],
   "source": []
  }
 ],
 "metadata": {
  "kernelspec": {
   "display_name": "Python 3",
   "language": "python",
   "name": "python3"
  },
  "language_info": {
   "codemirror_mode": {
    "name": "ipython",
    "version": 3
   },
   "file_extension": ".py",
   "mimetype": "text/x-python",
   "name": "python",
   "nbconvert_exporter": "python",
   "pygments_lexer": "ipython3",
   "version": "3.8.5"
  }
 },
 "nbformat": 4,
 "nbformat_minor": 2
}
